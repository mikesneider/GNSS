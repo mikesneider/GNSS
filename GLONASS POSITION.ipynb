{
 "cells": [
  {
   "cell_type": "markdown",
   "metadata": {},
   "source": [
    "# Glonas Position"
   ]
  },
  {
   "cell_type": "markdown",
   "metadata": {},
   "source": [
    "What are the difference between GPS and Glonass (necessary) for calculate the position."
   ]
  },
  {
   "cell_type": "markdown",
   "metadata": {},
   "source": [
    "### References ###\n",
    "[The Receiver Independent Exchange Format](ftp://igs.org/pub/data/format/rinex303.pdf) -\n",
    "[GLONASS ICD 5.1](https://www.unavco.org/help/glossary/docs/ICD_GLONASS_5.1_(2008)_en.pdf) - \n",
    "[The GPSTk: GLONASS, RINEX Version 3.00 and More](http://www.gpstk.org/foswiki/pub/Documentation/GPSTkPublications/gpstk-ion-gnss-2009.pdf) - \n",
    "[GPS + GLONASS combined](https://fenix.tecnico.ulisboa.pt/downloadFile/395145496449/thesis.pdf) - [RINEX description](https://igscb.jpl.nasa.gov/igscb/data/format/rinex211.txt)\n"
   ]
  },
  {
   "cell_type": "code",
   "execution_count": 178,
   "metadata": {
    "collapsed": true
   },
   "outputs": [],
   "source": [
    "import numpy as np\n",
    "import gpstk\n",
    "import matplotlib.pyplot as plt\n",
    "from IPython.display import display, HTML \n",
    "%matplotlib inline"
   ]
  },
  {
   "cell_type": "markdown",
   "metadata": {},
   "source": [
    "Comparation of Constelations\n",
    "![Digit of the RINEX](img/comparation.png)"
   ]
  },
  {
   "cell_type": "markdown",
   "metadata": {},
   "source": [
    "[step-step for a Glonass position](http://gage14.upc.es/gLAB/HTML/GNSS_standard_format_files.pdf)"
   ]
  },
  {
   "cell_type": "markdown",
   "metadata": {},
   "source": [
    "\n",
    " <font color='red'>**[1]**</font>  **How do you identify this file as a GLONASS Navigation message?***\n",
    " <font color='red'>**RTA**</font>→ The RINEX File Type value is a ’G’"
   ]
  },
  {
   "cell_type": "markdown",
   "metadata": {},
   "source": [
    "Se debe incluir un archivo adicional con terminación en \"g\" que es el Navigator Data para Glonass"
   ]
  },
  {
   "cell_type": "markdown",
   "metadata": {},
   "source": [
    "![Digit of the RINEX](img/digitRINEX.png)"
   ]
  },
  {
   "cell_type": "code",
   "execution_count": 179,
   "metadata": {
    "collapsed": true
   },
   "outputs": [],
   "source": [
    "navfile = \"glonass/badg3170.15n\" #\"data/bogt0010.15n\" #aira0690\n",
    "obsfile = \"glonass/badg3170.15o\" #\"data/bogt0010.15o\"\n",
    "glofile = \"glonass/badg3170.15g\" #\"data/bogt0010.15o\""
   ]
  },
  {
   "cell_type": "code",
   "execution_count": 291,
   "metadata": {
    "collapsed": false
   },
   "outputs": [
    {
     "name": "stdout",
     "output_type": "stream",
     "text": [
      "     2.10           G: GLONASS NAV DATA                     RINEX VERSION / TYPE\r",
      "\r\n",
      "teqc  2013Mar15                         20151114 00:05:28UTCPGM / RUN BY / DATE\r",
      "\r\n",
      "  2015    11    13   -1.117587089540D-08                    CORR TO SYSTEM TIME\r",
      "\r\n",
      "    17                                                      LEAP SECONDS\r",
      "\r\n",
      "MSXP|IAx86-PII|bcc32 5.0|MSWin95->XP|486/DX+                COMMENT\r",
      "\r\n",
      "     2.10           GLONASS NAVMESS DATA                    COMMENT\r",
      "\r\n",
      "JPS2RIN V1.2.25     JAVAD GNSS          13-Nov-2015 00:59   COMMENT\r",
      "\r\n",
      "                                                            END OF HEADER\r",
      "\r\n",
      "10 15 11 13 23 45  0.0 7.189810276030D-07 0.000000000000D+00 9.000000000000D+03\r",
      "\r\n",
      "    8.809825683590D+03-2.635574340820D-01 3.725290298460D-09 0.000000000000D+00\r",
      "\r\n",
      "    9.732373535160D+03 2.989327430730D+00 0.000000000000D+00-7.000000000000D+00\r",
      "\r\n",
      "    2.184218554690D+04-1.232209205630D+00 0.000000000000D+00 0.000000000000D+00\r",
      "\r\n",
      " 2 15 11 13  0 15  0.0 1.615947112440D-04 1.818989403550D-12 1.080000000000D+04\r",
      "\r\n",
      "    2.303897949220D+03 2.476346015930D+00 1.862645149230D-09 0.000000000000D+00\r",
      "\r\n",
      "   -1.343449902340D+04-1.601141929630D+00 9.313225746150D-10-4.000000000000D+00\r",
      "\r\n",
      "    2.158463671880D+04-1.265949249270D+00-9.313225746150D-10 0.000000000000D+00\r",
      "\r\n",
      "18 15 11 13  0 15  0.0 7.591675966980D-05 1.818989403550D-12 1.080000000000D+04\r",
      "\r\n",
      "   -2.107425292970D+04-1.724881172180D+00-2.793967723850D-09 0.000000000000D+00\r",
      "\r\n",
      "   -4.291097167970D+03-7.706899642940D-01 0.000000000000D+00-3.000000000000D+00\r",
      "\r\n",
      "    1.377168359380D+04-2.876053810120D+00-2.793967723850D-09 0.000000000000D+00\r",
      "\r\n",
      " 9 15 11 13  0 15  0.0 1.924298703670D-05 9.094947017730D-13 1.080000000000D+04\r",
      "\r\n",
      "    2.515378417970D+03 2.024240493770D-01 9.313225746150D-10 0.000000000000D+00\r",
      "\r\n",
      "    2.510722070310D+04 5.525903701780D-01-1.862645149230D-09-2.000000000000D+00\r",
      "\r\n",
      "    4.064180664060D+03-3.517475128170D+00 0.000000000000D+00 0.000000000000D+00\r",
      "\r\n",
      "16 15 11 13 23 45  0.0 2.211797982450D-05 0.000000000000D+00 9.000000000000D+03\r",
      "\r\n",
      "   -5.705995605470D+03 2.659063339230D-01 0.000000000000D+00 0.000000000000D+00\r",
      "\r\n",
      "    2.389307031250D+04-8.966836929320D-01-2.793967723850D-09-1.000000000000D+00\r",
      "\r\n",
      "   -6.727214843750D+03-3.430954933170D+00 0.000000000000D+00 0.000000000000D+00\r",
      "\r\n",
      "15 15 11 13 22 15  0.0 5.761068314310D-05 9.094947017730D-13 3.600000000000D+03\r",
      "\r\n"
     ]
    }
   ],
   "source": [
    "!head -29 $glofile"
   ]
  },
  {
   "cell_type": "markdown",
   "metadata": {},
   "source": [
    " <font color='red'>**[2]**</font> **Does this file include any ionospheric information?**\n",
    " <font color='red'>**RTA**</font>→ The GLONASS Navigation Message does not broadcast ionospheric\n",
    "corrections."
   ]
  },
  {
   "cell_type": "markdown",
   "metadata": {},
   "source": [
    " <font color='red'>**[3]**</font> **Which correction has to be applied to correct GLONASS system time\n",
    "to UTC (SU timezone)?**\n",
    "→ $Tutc = Tsv + TauN − GammaN ∗ (Tsv − Tb) + TauC$"
   ]
  },
  {
   "cell_type": "markdown",
   "metadata": {},
   "source": [
    "$-1.117587089540e-08$"
   ]
  },
  {
   "cell_type": "code",
   "execution_count": 270,
   "metadata": {
    "collapsed": false
   },
   "outputs": [
    {
     "name": "stdout",
     "output_type": "stream",
     "text": [
      "     2.10           G: GLONASS NAV DATA                     RINEX VERSION / TYPE\r",
      "\r\n",
      "teqc  2013Mar15                         20151114 00:05:28UTCPGM / RUN BY / DATE\r",
      "\r\n",
      "  2015    11    13   -1.117587089540D-08                    CORR TO SYSTEM TIME\r",
      "\r\n",
      "    17                                                      LEAP SECONDS\r",
      "\r\n",
      "MSXP|IAx86-PII|bcc32 5.0|MSWin95->XP|486/DX+                COMMENT\r",
      "\r\n",
      "     2.10           GLONASS NAVMESS DATA                    COMMENT\r",
      "\r\n",
      "JPS2RIN V1.2.25     JAVAD GNSS          13-Nov-2015 00:59   COMMENT\r",
      "\r\n",
      "                                                            END OF HEADER\r",
      "\r\n",
      "10 15 11 13 23 45  0.0 7.189810276030D-07 0.000000000000D+00 9.000000000000D+03\r",
      "\r\n",
      "    8.809825683590D+03-2.635574340820D-01 3.725290298460D-09 0.000000000000D+00\r",
      "\r\n",
      "    9.732373535160D+03 2.989327430730D+00 0.000000000000D+00-7.000000000000D+00\r",
      "\r\n",
      "    2.184218554690D+04-1.232209205630D+00 0.000000000000D+00 0.000000000000D+00\r",
      "\r\n",
      " 2 15 11 13  0 15  0.0 1.615947112440D-04 1.818989403550D-12 1.080000000000D+04\r",
      "\r\n",
      "    2.303897949220D+03 2.476346015930D+00 1.862645149230D-09 0.000000000000D+00\r",
      "\r\n",
      "   -1.343449902340D+04-1.601141929630D+00 9.313225746150D-10-4.000000000000D+00\r",
      "\r\n",
      "    2.158463671880D+04-1.265949249270D+00-9.313225746150D-10 0.000000000000D+00\r",
      "\r\n",
      "18 15 11 13  0 15  0.0 7.591675966980D-05 1.818989403550D-12 1.080000000000D+04\r",
      "\r\n",
      "   -2.107425292970D+04-1.724881172180D+00-2.793967723850D-09 0.000000000000D+00\r",
      "\r\n",
      "   -4.291097167970D+03-7.706899642940D-01 0.000000000000D+00-3.000000000000D+00\r",
      "\r\n",
      "    1.377168359380D+04-2.876053810120D+00-2.793967723850D-09 0.000000000000D+00\r",
      "\r\n",
      " 9 15 11 13  0 15  0.0 1.924298703670D-05 9.094947017730D-13 1.080000000000D+04\r",
      "\r\n",
      "    2.515378417970D+03 2.024240493770D-01 9.313225746150D-10 0.000000000000D+00\r",
      "\r\n",
      "    2.510722070310D+04 5.525903701780D-01-1.862645149230D-09-2.000000000000D+00\r",
      "\r\n",
      "    4.064180664060D+03-3.517475128170D+00 0.000000000000D+00 0.000000000000D+00\r",
      "\r\n",
      "16 15 11 13 23 45  0.0 2.211797982450D-05 0.000000000000D+00 9.000000000000D+03\r",
      "\r\n",
      "   -5.705995605470D+03 2.659063339230D-01 0.000000000000D+00 0.000000000000D+00\r",
      "\r\n",
      "    2.389307031250D+04-8.966836929320D-01-2.793967723850D-09-1.000000000000D+00\r",
      "\r\n",
      "   -6.727214843750D+03-3.430954933170D+00 0.000000000000D+00 0.000000000000D+00\r",
      "\r\n",
      "15 15 11 13 22 15  0.0 5.761068314310D-05 9.094947017730D-13 3.600000000000D+03\r",
      "\r\n"
     ]
    }
   ],
   "source": [
    "!head -29 $glofile"
   ]
  },
  {
   "cell_type": "markdown",
   "metadata": {},
   "source": [
    " <font color='red'>**[3]**</font> **Each of the other lines of GLONASS Navigation files contain 3\n",
    "records with satellite position, velocity and Sun-Moon acceleration.\n",
    "In which units are given? What information gives the fourth record\n",
    "of each line?**\n",
    "→ Units are: \n",
    "$km, \n",
    "km/s,   \n",
    "km/s^2$\n",
    ".\n",
    "Message Frame Time, Satellite Health, Frequency Number, Information\n",
    "Age."
   ]
  },
  {
   "cell_type": "markdown",
   "metadata": {},
   "source": [
    "##### GLONASS broadcast ephemeris and clock message parameters. \n",
    "\n",
    "![image2](img/headerNavGlonass.png)\n",
    "\n",
    "For that reason, the ephemeris is not like GPS NAV header, With this Header, I have to biuld the Ephemeris for Glonass.\n",
    "[help](ftp://igscb.jpl.nasa.gov/igscb/data/format/glonass.txt)\n"
   ]
  },
  {
   "cell_type": "markdown",
   "metadata": {},
   "source": [
    "for each data (Observation) is like this\n",
    "![image](img/GlonassEphemerisMessage.png)[help](http://www.navipedia.net/index.php/GLONASS_Satellite_Coordinates_Computation)"
   ]
  },
  {
   "cell_type": "markdown",
   "metadata": {},
   "source": [
    " <font color='red'>**[4]**</font> ** In the third row of each ephemeris block frequency information\n",
    "is found. Which frequency was used by each GLONASS satellite\n",
    "present in the file? What happened to force the range in the frequency\n",
    "number?**<br />\n",
    "→ R3 used the 7th frequency slot, so:<br />\n",
    "    *$1602 + 0.5625 ∗ (-7) = -1605.9375 MHz.$<br />\n",
    "R11 used the 4th frequency slot, so:<br />\n",
    "    *$1602 + 0.5625 ∗ (-4) = -1604.25 MHz.$<br />"
   ]
  },
  {
   "cell_type": "markdown",
   "metadata": {},
   "source": [
    "![img1](img/blockFrequency.png)"
   ]
  },
  {
   "cell_type": "markdown",
   "metadata": {},
   "source": [
    "**Note:** The frequency numbers k were originally envisaged to provide **24 channels**, with $k = (1,...,24)$, but according to guidelines of the International Electric Communicationa Union (MSE), all GLONASS satellites launched **after 2005** will use $k = (-7,...,+6)$. This change was introduced to avoid interference problems with radioastronomy frequency bands and satellite communication services. [more](http://gage14.upc.es/gLAB/HTML/GLONASS_Navigation_Rinex_v2.11.html)"
   ]
  },
  {
   "cell_type": "markdown",
   "metadata": {},
   "source": [
    " <font color='red'>**[4]**</font> **  In the last row of each ephemeris block the period for each ephemeris\n",
    "block is stated. When was last updated the satellite?**<br />\n",
    "→ The broadcasted information is zero $(0)$ days old."
   ]
  },
  {
   "cell_type": "markdown",
   "metadata": {},
   "source": [
    "![img1](img/daysOld.png)"
   ]
  },
  {
   "cell_type": "markdown",
   "metadata": {},
   "source": [
    "#### Build Ephemeris for GPS ####\n",
    "For GPS is neccesary, set or build the Ephemeris with Time and ID of Satelllite\n",
    "like this:"
   ]
  },
  {
   "cell_type": "code",
   "execution_count": 240,
   "metadata": {
    "collapsed": false,
    "scrolled": false
   },
   "outputs": [
    {
     "name": "stdout",
     "output_type": "stream",
     "text": [
      "Dump of GPSEphemerisStore (detail level=1):\n",
      " BCE table for all satellites has 3 entries; Time span is 2015/11/12 08:00:00 GPS to 2015/11/13 04:00:00 GPS\n",
      " Search method is User\n",
      "Sat G01 has   1 entries; Time span is 2015/11/13 00:00:00 GPS to 2015/11/13 00:00:00 GPS\n",
      "Sat G02 has   1 entries; Time span is 2015/11/12 08:00:00 GPS to 2015/11/12 08:00:00 GPS\n",
      "Sat G03 has   1 entries; Time span is 2015/11/13 02:00:00 GPS to 2015/11/13 02:00:00 GPS\n",
      "END Dump of GPSEphemerisStore (detail level=1)\n",
      "\n",
      "conteo 216\n"
     ]
    }
   ],
   "source": [
    "navHeader, navData = gpstk.readRinex3Nav(navfile)\n",
    "# setup ephemeris store to look for satellite positions (GPS)\n",
    "bcestore = gpstk.GPSEphemerisStore()\n",
    "c=0\n",
    "\n",
    "for navDataObj in navData:\n",
    "    c += 1\n",
    "    ephem = navDataObj.toGPSEphemeris()\n",
    "    bcestore.addEphemeris(ephem)\n",
    "    if(c==3):\n",
    "        print bcestore\n",
    "bcestore.SearchNear()\n",
    "print \"conteo\",c\n",
    "navData.close()"
   ]
  },
  {
   "cell_type": "markdown",
   "metadata": {},
   "source": [
    "##### RINEX Navigation Files for GLONASS \n",
    "\n",
    "As the GLONASS navigation message differs in contents from the GPS message\n",
    "too much, a special **GLONASS** navigation message file format has been defined.\n",
    "\n",
    "The header section and the first data record (**epoch, satellite clock\n",
    "information**) is similar to the GPS navigation file. The following records\n",
    "contain the satellite position, velocity and acceleration, the clock and\n",
    "frequency biases as well as auxiliary information as health, satellite\n",
    "frequency (channel), age of the information.\n",
    "[more](https://igscb.jpl.nasa.gov/igscb/data/format/rinex211.txt)"
   ]
  },
  {
   "cell_type": "markdown",
   "metadata": {},
   "source": [
    " <font color='blue'>The Navigator File of Glonass, doesn´t have the time and **ID of satellite** for set the **Ephemeris**, the Navigator have this for default</font>"
   ]
  },
  {
   "cell_type": "code",
   "execution_count": 283,
   "metadata": {
    "collapsed": false,
    "scrolled": false
   },
   "outputs": [
    {
     "name": "stdout",
     "output_type": "stream",
     "text": [
      "bceStore Dump of GloEphemerisStore:\n",
      " Span is 2015/11/13 00:15:00 GLO to Begin_time with 2 entries; checkHealthFlag is F\n",
      "Dump every record:\n",
      "week   sow      = year/mn/dy hr:mi:sc Sys Sat   X                   Y                   Z                   VX                  VY                  VZ                  AX                  AY                  AZ                  TauN                GammaN            MFtime Hlth fNo AgeInfo\n",
      "2015/11/13 00:15:00 GLO R02  2.303897949220e+03 -1.343449902340e+04  2.158463671880e+04  2.476346015930e+00 -1.601141929630e+00 -1.265949249270e+00  1.862645149230e-09  9.313225746150e-10 -9.313225746150e-10  1.615947112440e-04  1.818989403550e-12 442800   0  -4 0.00e+00\n",
      "2015/11/13 23:45:00 GLO R10  8.809825683590e+03  9.732373535160e+03  2.184218554690e+04 -2.635574340820e-01  2.989327430730e+00 -1.232209205630e+00  3.725290298460e-09  0.000000000000e+00  0.000000000000e+00  7.189810276030e-07  0.000000000000e+00 441000   0  -7 0.00e+00\n",
      "  End of GloEphemerisStore data.\n",
      "\n",
      "conteo 456\n"
     ]
    }
   ],
   "source": [
    "navHeader, navData = gpstk.readRinex3Nav(glofile)\n",
    "# setup ephemeris store to look for satellite positions (GLONASS)\n",
    "\n",
    "bcestore2 = gpstk.GloEphemerisStore()\n",
    "c=0\n",
    "for navDataObj in navData:\n",
    "    c += 1\n",
    "    bcestore2.addEphemeris(navDataObj)\n",
    "    if(c==2):\n",
    "        print \"bceStore\",bcestore2\n",
    "#bcestore2.SearchNear() \n",
    "print \"conteo\",c\n",
    "navData.close()"
   ]
  },
  {
   "cell_type": "markdown",
   "metadata": {},
   "source": [
    "##### GLONASS broadcast ephemeris and clock message parameters. \n",
    "\n",
    "![image2](img/headerNavGlonass.png)\n",
    "\n",
    "For that reason, the ephemeris is not like GPS NAV header, With this Header, I have to biuld the Ephemeris for Glonass.\n",
    "[help](ftp://igscb.jpl.nasa.gov/igscb/data/format/glonass.txt)\n"
   ]
  },
  {
   "cell_type": "markdown",
   "metadata": {},
   "source": [
    "Broadcast GLONASS ephemerides are contained in the RINEX navigation file for  **Satellite ID 4**. Geocentric <font color='blue'>positions (XYZ)</font> are highlighted in blue (1st X, 2nd Y and 3th Z), the <font color='green'>velocity</font> in green and the <font color='yellow'>[[[[</font>accelerations in yellow. The <font color='red'>clock parameters</font> are in red."
   ]
  },
  {
   "cell_type": "markdown",
   "metadata": {},
   "source": [
    "![img1](img/NavPositions.png)"
   ]
  },
  {
   "cell_type": "markdown",
   "metadata": {},
   "source": [
    "<font color='red'>Red left</font> => Description:\n",
    "Space Vehicle clock bias: **-TauN **\n",
    "\n",
    "TUTC = TSV + TauN - GammaN*(Tsv-Tb) + TauC\n",
    "Where TSV : Space Vehicle Time"
   ]
  },
  {
   "cell_type": "markdown",
   "metadata": {},
   "source": [
    "<font color='red'>Red right</font> => Description:\n",
    "Space Vehicle Relative Frequency Bias: **+GammaN **</br>\n",
    "\n",
    "TUTC = TSV + TauN - GammaN*(Tsv-Tb) + TauC\n",
    "Where TSV : Space Vehicle Time\n"
   ]
  },
  {
   "cell_type": "markdown",
   "metadata": {},
   "source": [
    "### Satellite position is estimated using the 4th order Runge-Kutta numerical integration of    [here](http://gaussgge.unb.ca/GLONASS.ICD.pdf)"
   ]
  },
  {
   "cell_type": "markdown",
   "metadata": {},
   "source": [
    "*Broadcast ephemerides have about 1 meter accuracy, but more precision may be necessary for geodetic application. Precise ephemerides can be used as an alternative to broadcast ephemerides. These ephemerides are calculated “a posteriori”, and they have a centimetric level accuracy. The SP3 format [here](http://igscb.jpl.nasa.gov/igscb/data/format/sp3_docu.txt) is used to describe these orbits and positions and satellite clock offsets are contained both for GPS and GLONASS constellations, with a rate of 15 minutes*."
   ]
  },
  {
   "cell_type": "markdown",
   "metadata": {},
   "source": [
    "Re-calculation of ephemeris from instant te $t_o$ instant $t_i$ within the interval of\n",
    "measurement $(|τ_i| = |t_i - t_e| < 15 minutes)$ is performed using technique of\n",
    "numerical integration of differential equations that describe motion of the satellites.\n",
    "Right-hand parts of these equations take into account the accelerations determined by\n",
    "gravitational constant $μ$ and second zonal coefficient $C20$, (that characterizes polar\n",
    "flattening of Earth), and accelerations due to lunar-solar gravitational perturbation.\n",
    "The equations are integrated in direct absolute geocentric coordinate system\n",
    "$OX_aY_aZ_a$, connected with current equator and vernal equinox, using $4th$ order RungeKutta\n",
    "technique as indicated below:"
   ]
  },
  {
   "cell_type": "markdown",
   "metadata": {},
   "source": [
    "![Eq1](img/Equation1.png)"
   ]
  },
  {
   "cell_type": "markdown",
   "metadata": {},
   "source": [
    "![Eq1](img/Equation2.png)"
   ]
  },
  {
   "cell_type": "markdown",
   "metadata": {},
   "source": [
    "**1. Coordinates transformation to an inertial reference frame:**"
   ]
  },
  {
   "cell_type": "markdown",
   "metadata": {},
   "source": [
    "The initial conditions ![IC](img/initialConditions.png), as broadcast in the GLONASS navigation message, are in the ECEF Greenwich coordinate system $PZ-90$. Therefore, and previous to orbit integration, they must be transformed to an absolute (inertial) coordinate system using the following expressions"
   ]
  },
  {
   "cell_type": "markdown",
   "metadata": {},
   "source": [
    "**Position**\n",
    "![position](img/position.png)"
   ]
  },
  {
   "cell_type": "markdown",
   "metadata": {},
   "source": [
    "**Velocity**\n",
    "![position](img/velocity.png)"
   ]
  },
  {
   "cell_type": "markdown",
   "metadata": {},
   "source": [
    " ![acc](img/acceleration.png) the acceleration components broadcast in the navigation message are the projections of luni-solar accelerations to axes of the ECEF Greenwich coordinate system. Thence, these accelerations must be transformed to the inertial system by:"
   ]
  },
  {
   "cell_type": "markdown",
   "metadata": {},
   "source": [
    " ![acc](img/accelerationNewSystem.png)"
   ]
  },
  {
   "cell_type": "markdown",
   "metadata": {},
   "source": [
    " ![acc](img/where.png)"
   ]
  },
  {
   "cell_type": "markdown",
   "metadata": {},
   "source": [
    " ![values](img/values.png)"
   ]
  },
  {
   "cell_type": "code",
   "execution_count": 279,
   "metadata": {
    "collapsed": true
   },
   "outputs": [],
   "source": [
    "c = 299792458\n",
    "we = 7.2921159e-5"
   ]
  },
  {
   "cell_type": "code",
   "execution_count": 281,
   "metadata": {
    "collapsed": false
   },
   "outputs": [
    {
     "data": {
      "text/plain": [
       "1.0"
      ]
     },
     "execution_count": 281,
     "metadata": {},
     "output_type": "execute_result"
    }
   ],
   "source": [
    "bcestore2.getIntegrationStep()"
   ]
  },
  {
   "cell_type": "code",
   "execution_count": 287,
   "metadata": {
    "collapsed": true
   },
   "outputs": [],
   "source": [
    "#for this test, i take \"manual\" the information of the first observation\n",
    "posX = 8.809825683590e03\n",
    "posY = 9.732373535160e03\n",
    "posZ = 2.184218554690e04\n",
    "velX = -2.635574340820e-01\n",
    "velY = 2.989327430730e00\n",
    "velZ = -1.232209205630e00\n",
    "accX = 3.7252902984603e-09\n",
    "accY = 0.0\n",
    "accZ = 0.0"
   ]
  },
  {
   "cell_type": "code",
   "execution_count": 290,
   "metadata": {
    "collapsed": false
   },
   "outputs": [
    {
     "data": {
      "text/plain": [
       "0.0"
      ]
     },
     "execution_count": 290,
     "metadata": {},
     "output_type": "execute_result"
    }
   ],
   "source": []
  },
  {
   "cell_type": "code",
   "execution_count": 270,
   "metadata": {
    "collapsed": false
   },
   "outputs": [
    {
     "name": "stdout",
     "output_type": "stream",
     "text": [
      "     2.10           G: GLONASS NAV DATA                     RINEX VERSION / TYPE\r",
      "\r\n",
      "teqc  2013Mar15                         20151114 00:05:28UTCPGM / RUN BY / DATE\r",
      "\r\n",
      "  2015    11    13   -1.117587089540D-08                    CORR TO SYSTEM TIME\r",
      "\r\n",
      "    17                                                      LEAP SECONDS\r",
      "\r\n",
      "MSXP|IAx86-PII|bcc32 5.0|MSWin95->XP|486/DX+                COMMENT\r",
      "\r\n",
      "     2.10           GLONASS NAVMESS DATA                    COMMENT\r",
      "\r\n",
      "JPS2RIN V1.2.25     JAVAD GNSS          13-Nov-2015 00:59   COMMENT\r",
      "\r\n",
      "                                                            END OF HEADER\r",
      "\r\n",
      "10 15 11 13 23 45  0.0 7.189810276030D-07 0.000000000000D+00 9.000000000000D+03\r",
      "\r\n",
      "    8.809825683590D+03-2.635574340820D-01 3.725290298460D-09 0.000000000000D+00\r",
      "\r\n",
      "    9.732373535160D+03 2.989327430730D+00 0.000000000000D+00-7.000000000000D+00\r",
      "\r\n",
      "    2.184218554690D+04-1.232209205630D+00 0.000000000000D+00 0.000000000000D+00\r",
      "\r\n",
      " 2 15 11 13  0 15  0.0 1.615947112440D-04 1.818989403550D-12 1.080000000000D+04\r",
      "\r\n",
      "    2.303897949220D+03 2.476346015930D+00 1.862645149230D-09 0.000000000000D+00\r",
      "\r\n",
      "   -1.343449902340D+04-1.601141929630D+00 9.313225746150D-10-4.000000000000D+00\r",
      "\r\n",
      "    2.158463671880D+04-1.265949249270D+00-9.313225746150D-10 0.000000000000D+00\r",
      "\r\n",
      "18 15 11 13  0 15  0.0 7.591675966980D-05 1.818989403550D-12 1.080000000000D+04\r",
      "\r\n",
      "   -2.107425292970D+04-1.724881172180D+00-2.793967723850D-09 0.000000000000D+00\r",
      "\r\n",
      "   -4.291097167970D+03-7.706899642940D-01 0.000000000000D+00-3.000000000000D+00\r",
      "\r\n",
      "    1.377168359380D+04-2.876053810120D+00-2.793967723850D-09 0.000000000000D+00\r",
      "\r\n",
      " 9 15 11 13  0 15  0.0 1.924298703670D-05 9.094947017730D-13 1.080000000000D+04\r",
      "\r\n",
      "    2.515378417970D+03 2.024240493770D-01 9.313225746150D-10 0.000000000000D+00\r",
      "\r\n",
      "    2.510722070310D+04 5.525903701780D-01-1.862645149230D-09-2.000000000000D+00\r",
      "\r\n",
      "    4.064180664060D+03-3.517475128170D+00 0.000000000000D+00 0.000000000000D+00\r",
      "\r\n",
      "16 15 11 13 23 45  0.0 2.211797982450D-05 0.000000000000D+00 9.000000000000D+03\r",
      "\r\n",
      "   -5.705995605470D+03 2.659063339230D-01 0.000000000000D+00 0.000000000000D+00\r",
      "\r\n",
      "    2.389307031250D+04-8.966836929320D-01-2.793967723850D-09-1.000000000000D+00\r",
      "\r\n",
      "   -6.727214843750D+03-3.430954933170D+00 0.000000000000D+00 0.000000000000D+00\r",
      "\r\n",
      "15 15 11 13 22 15  0.0 5.761068314310D-05 9.094947017730D-13 3.600000000000D+03\r",
      "\r\n"
     ]
    }
   ],
   "source": [
    "!head -29 $glofile"
   ]
  },
  {
   "cell_type": "code",
   "execution_count": null,
   "metadata": {
    "collapsed": true
   },
   "outputs": [],
   "source": []
  },
  {
   "cell_type": "code",
   "execution_count": 284,
   "metadata": {
    "collapsed": true
   },
   "outputs": [],
   "source": [
    "def rKN(x, fx, n, hs):\n",
    "    k1 = []\n",
    "    k2 = []\n",
    "    k3 = []\n",
    "    k4 = []\n",
    "    xk = []\n",
    "    for i in range(n):\n",
    "        k1.append(fx[i](x)*hs)\n",
    "    for i in range(n):\n",
    "        xk.append(x[i] + k1[i]*0.5)\n",
    "    for i in range(n):\n",
    "        k2.append(fx[i](xk)*hs)\n",
    "    for i in range(n):\n",
    "        xk[i] = x[i] + k2[i]*0.5\n",
    "    for i in range(n):\n",
    "        k3.append(fx[i](xk)*hs)\n",
    "    for i in range(n):\n",
    "        xk[i] = x[i] + k3[i]\n",
    "    for i in range(n):\n",
    "        k4.append(fx[i](xk)*hs)\n",
    "    for i in range(n):\n",
    "        x[i] = x[i] + (k1[i] + 2*(k2[i] + k3[i]) + k4[i])/6\n",
    "    return x"
   ]
  },
  {
   "cell_type": "markdown",
   "metadata": {},
   "source": [
    "#### Version of the RINEX is 2.11 of 2015\n",
    "is a Mixed Observation Data, have GPS and GLONASS"
   ]
  },
  {
   "cell_type": "code",
   "execution_count": 278,
   "metadata": {
    "collapsed": false
   },
   "outputs": [
    {
     "name": "stdout",
     "output_type": "stream",
     "text": [
      "GPS: 1\n",
      "(-15459438.871682344, 848845.5130286308, 21525648.7011229)\n",
      "GPS: 3\n",
      "(-20972005.47795871, 9226510.918731103, 13452312.256385524)\n",
      "GPS: 6\n",
      "(6408811.944808661, 25632068.242831524, 2762650.286913051)\n",
      "GPS: 11\n",
      "(-19733752.84292065, -2840805.618219329, 17029360.975751553)\n",
      "GPS: 17\n",
      "(622814.4180263646, 15503495.90637051, 21891147.167720556)\n",
      "GPS: 19\n",
      "(-17475756.053354952, 7735852.528869855, 18424672.541175116)\n",
      "GPS: 24\n",
      "(16412879.253982931, 2100481.0732411677, 20773500.03237231)\n",
      "GPS: 28\n",
      "(-9293813.156037228, 21246450.60317787, 13507474.036448075)\n",
      "GPS: 32\n",
      "(-17262291.105189156, -3181242.7836655676, 19710335.444408286)\n",
      "TRY 2457340 00000000 0.000000000000000 GPS\n"
     ]
    },
    {
     "ename": "TypeError",
     "evalue": "in method 'GloEphemerisStore_getXvt', argument 2 of type 'gpstk::SatID const &'",
     "output_type": "error",
     "traceback": [
      "\u001b[1;31m---------------------------------------------------------------------------\u001b[0m",
      "\u001b[1;31mTypeError\u001b[0m                                 Traceback (most recent call last)",
      "\u001b[1;32m<ipython-input-278-0feba6537772>\u001b[0m in \u001b[0;36m<module>\u001b[1;34m()\u001b[0m\n\u001b[0;32m     17\u001b[0m         \u001b[0mprueba\u001b[0m \u001b[1;33m=\u001b[0m \u001b[0mobsObject\u001b[0m\u001b[1;33m.\u001b[0m\u001b[0mtime\u001b[0m\u001b[1;33m\u001b[0m\u001b[0m\n\u001b[0;32m     18\u001b[0m         \u001b[1;32mprint\u001b[0m \u001b[1;34m\"TRY\"\u001b[0m\u001b[1;33m,\u001b[0m \u001b[0mprueba\u001b[0m\u001b[1;33m\u001b[0m\u001b[0m\n\u001b[1;32m---> 19\u001b[1;33m         \u001b[1;32mprint\u001b[0m \u001b[0mbcestore2\u001b[0m\u001b[1;33m.\u001b[0m\u001b[0mgetXvt\u001b[0m\u001b[1;33m(\u001b[0m\u001b[1;36m0\u001b[0m\u001b[1;33m,\u001b[0m\u001b[0mprueba\u001b[0m\u001b[1;33m)\u001b[0m\u001b[1;33m\u001b[0m\u001b[0m\n\u001b[0m\u001b[0;32m     20\u001b[0m     \u001b[1;32melse\u001b[0m\u001b[1;33m:\u001b[0m\u001b[1;33m\u001b[0m\u001b[0m\n\u001b[0;32m     21\u001b[0m         \u001b[0mprefix\u001b[0m \u001b[1;33m=\u001b[0m \u001b[0mstr\u001b[0m\u001b[1;33m(\u001b[0m\u001b[0msatID\u001b[0m\u001b[1;33m.\u001b[0m\u001b[0msystem\u001b[0m\u001b[1;33m)\u001b[0m\u001b[1;33m\u001b[0m\u001b[0m\n",
      "\u001b[1;32m/opt/anaconda/lib/python2.7/site-packages/gpstk/gpstk.py\u001b[0m in \u001b[0;36mgetXvt\u001b[1;34m(self, *args)\u001b[0m\n\u001b[0;32m  15222\u001b[0m     \u001b[1;32mdef\u001b[0m \u001b[0mgetXvt\u001b[0m\u001b[1;33m(\u001b[0m\u001b[0mself\u001b[0m\u001b[1;33m,\u001b[0m \u001b[1;33m*\u001b[0m\u001b[0margs\u001b[0m\u001b[1;33m)\u001b[0m\u001b[1;33m:\u001b[0m\u001b[1;33m\u001b[0m\u001b[0m\n\u001b[0;32m  15223\u001b[0m         \u001b[1;34m\"\"\"getXvt(GloEphemerisStore self, SatID sat, CommonTime epoch) -> Xvt\"\"\"\u001b[0m\u001b[1;33m\u001b[0m\u001b[0m\n\u001b[1;32m> 15224\u001b[1;33m         \u001b[1;32mreturn\u001b[0m \u001b[0m_gpstk\u001b[0m\u001b[1;33m.\u001b[0m\u001b[0mGloEphemerisStore_getXvt\u001b[0m\u001b[1;33m(\u001b[0m\u001b[0mself\u001b[0m\u001b[1;33m,\u001b[0m \u001b[1;33m*\u001b[0m\u001b[0margs\u001b[0m\u001b[1;33m)\u001b[0m\u001b[1;33m\u001b[0m\u001b[0m\n\u001b[0m\u001b[0;32m  15225\u001b[0m \u001b[1;33m\u001b[0m\u001b[0m\n\u001b[0;32m  15226\u001b[0m     \u001b[1;32mdef\u001b[0m \u001b[0mgetIntegrationStep\u001b[0m\u001b[1;33m(\u001b[0m\u001b[0mself\u001b[0m\u001b[1;33m)\u001b[0m\u001b[1;33m:\u001b[0m\u001b[1;33m\u001b[0m\u001b[0m\n",
      "\u001b[1;31mTypeError\u001b[0m: in method 'GloEphemerisStore_getXvt', argument 2 of type 'gpstk::SatID const &'"
     ]
    }
   ],
   "source": [
    "AllSat = []\n",
    "Elevations = []\n",
    "Azimuths = []\n",
    "prefix = \"\"\n",
    "\n",
    "obsHeader, obsData = gpstk.readRinex3Obs(obsfile)\n",
    "obsObject = obsData.next()\n",
    "#for obsObject in obsData: #round the data\n",
    "for satID, datumList in obsObject.obs.iteritems():\n",
    "       \n",
    "    if(satID.system == satID.systemGPS):\n",
    "        prefix = \"GPS:\"\n",
    "        eph = bcestore.findEphemeris(satID, obsObject.time)\n",
    "    elif(satID.system == satID.systemGlonass):\n",
    "        prefix = \"GLONASS:\"\n",
    "        #eph = bcestore2.findEphemeris(satID,obsObject.time)\n",
    "        prueba = obsObject.time\n",
    "        print \"TRY\", prueba\n",
    "        print bcestore2.getXvt(0,prueba)\n",
    "    else:\n",
    "        prefix = str(satID.system)\n",
    "    print prefix, satID.id\n",
    "\n",
    "    svXvt = eph.svXvt(obsObject.time)\n",
    "    print svXvt.getPos()\n",
    "    elev = obsHeader.antennaPosition.elvAngle(svXvt.getPos())\n",
    "    azim    = obsHeader.antennaPosition.azAngle(svXvt.getPos())\n",
    "   \n",
    "    AllSat.append(prefix + str(satID.id))\n",
    "    Elevations.append(elev)\n",
    "    Azimuths.append(azim)"
   ]
  },
  {
   "cell_type": "code",
   "execution_count": null,
   "metadata": {
    "collapsed": true
   },
   "outputs": [],
   "source": []
  }
 ],
 "metadata": {
  "kernelspec": {
   "display_name": "Python 2",
   "language": "python",
   "name": "python2"
  },
  "language_info": {
   "codemirror_mode": {
    "name": "ipython",
    "version": 2
   },
   "file_extension": ".py",
   "mimetype": "text/x-python",
   "name": "python",
   "nbconvert_exporter": "python",
   "pygments_lexer": "ipython2",
   "version": "2.7.12"
  }
 },
 "nbformat": 4,
 "nbformat_minor": 0
}
