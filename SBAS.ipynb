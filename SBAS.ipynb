{
 "cells": [
  {
   "cell_type": "code",
   "execution_count": 22,
   "metadata": {
    "collapsed": false
   },
   "outputs": [],
   "source": [
    "import numpy as np\n",
    "import gpstk\n",
    "import pandas as pd\n",
    "from sympy import *\n",
    "import matplotlib.pyplot as plt\n",
    "from IPython.display import display, HTML\n",
    "from numba import autojit\n",
    "from numpy.linalg import norm\n",
    "%matplotlib inline\n",
    "init_printing(use_latex=True)"
   ]
  },
  {
   "cell_type": "code",
   "execution_count": 2,
   "metadata": {
    "collapsed": false
   },
   "outputs": [],
   "source": [
    "#functions for calculate position\n",
    "@autojit\n",
    "def apply_earth_rotation_to_svs_position(svs, prs):\n",
    "    c = 299792458\n",
    "    we = 7.2921159e-5\n",
    "    rpos = np.zeros(svs.shape)\n",
    "    pos = np.array(svs)\n",
    "    for i in range(len(pos)):\n",
    "        dt = prs[i]/c\n",
    "        theta = we*dt\n",
    "        R = np.array([[np.cos(theta), np.sin(theta),0.],[-np.sin(theta), np.cos(theta),0.],[0.,0.,1.]])\n",
    "        rpos[i] = R.dot(pos[i])\n",
    "    svs = np.array(rpos)\n",
    "    return svs\n",
    "@autojit\n",
    "def compute_distances(rc, svs):\n",
    "    # return np.array( [np.sqrt((rc[0]-sv[0])**2 + (rc[1]-sv[1])**2) for sv in svs] )\n",
    "    return np.linalg.norm(rc-svs, axis=1) #raiz cuadrada de la suma de los cuadrados de los puntos para medir distancia.\n",
    "@autojit\n",
    "def predict_pseudoranges(x, prns_pos, prns_clockbias):\n",
    "    c = 299792458\n",
    "    rhos    = compute_distances(x[:3], prns_pos)\n",
    "    pranges = rhos + x[3]-c*prns_clockbias\n",
    "    #print \"rhos: \",rhos\n",
    "    #print \"pranges: \", pranges\n",
    "    return rhos, pranges\n",
    "def compute_least_squares_position(svs, svs_clocks, prs, max_iters=200, apply_earth_rotation=True):\n",
    "\n",
    "    #if apply_earth_rotation:\n",
    "    svs = apply_earth_rotation_to_svs_position(svs, prs)\n",
    "    \n",
    "    if len(svs)==0 or len(prs)==0:\n",
    "        return np.array([0.,0.,0.,0.]),None, None, None\n",
    "\n",
    "    ri = np.array([0.,0.,0.,0.])\n",
    "\n",
    "    #for i in range(max_iters):\n",
    "    delta,i = 1,0\n",
    "    while (norm(delta)>1e-8 and i<max_iters): #mientras el delta < 1e-8 y no llegue al maximo de iteraciones\n",
    "        rhos, pranges = predict_pseudoranges(ri, svs, svs_clocks)\n",
    "        b = prs - pranges\n",
    "        A = np.hstack(((ri[:3]-svs)/rhos[:,None],np.ones((len(b), 1))))\n",
    "        delta =  np.linalg.pinv(A.T.dot(A)).dot(A.T).dot(b)\n",
    "        ri += delta\n",
    "        i+=1\n",
    "    return ri, A, b, delta\n",
    "def to_skyplot(elevation, azimut):\n",
    "    e = np.array(elevation)\n",
    "    a = np.array(azimut)\n",
    "    sx = ((90-e)/90) * np.sin (a * (np.pi/180))\n",
    "    sy = ((90-e)/90) * np.cos (a * (np.pi/180))\n",
    "    return (sx,sy)\n",
    "def compute_raim_position(gps_week, gps_sow, prns, prns_pos, pranges,  bcestore):\n",
    "    if len(prns)==0 or len(prns_pos)==0:\n",
    "        return np.array([0,0,0])\n",
    "    t = gpstk.GPSWeekSecond(gps_week, gps_sow).toCommonTime()\n",
    "    prnList = [gpstk.SatID(int(i[3:])) for i in prns]\n",
    "    satVector = gpstk.seqToVector(list(prnList), outtype='vector_SatID')\n",
    "    rangeVector = gpstk.seqToVector([float(i) for i in pranges])\n",
    "    noTropModel = gpstk.ZeroTropModel()\n",
    "    raimSolver = gpstk.PRSolution2()\n",
    "    raimSolver.RAIMCompute(t, satVector, rangeVector, bcestore, noTropModel)   \n",
    "    r = np.array([raimSolver.Solution[0], raimSolver.Solution[1], raimSolver.Solution[2]])\n",
    "    return r\n",
    "def To_WGS84(pos):\n",
    "    newPosPZ = np.array([pos[0]-0.36,pos[1]+0.08,pos[2]+0.18])\n",
    "    return newPosPZ"
   ]
  },
  {
   "cell_type": "markdown",
   "metadata": {},
   "source": [
    "- Mohinder S Grewal: \n",
    "pg 270: lo que se puede arreglar con SBAS, Clock error, Ephemeris, Code and Carrier, Signal distorsion, Bias, Ionosphere, Troposphere. "
   ]
  },
  {
   "cell_type": "markdown",
   "metadata": {},
   "source": [
    "# SBAS - Space-Based argumentation system "
   ]
  },
  {
   "cell_type": "markdown",
   "metadata": {},
   "source": [
    "![img](http://sbas-africa.avantiplc.com/wp-content/uploads/2015/10/sbas-coverage-map-02.png)"
   ]
  },
  {
   "cell_type": "markdown",
   "metadata": {},
   "source": [
    "![img](img/sbasNames.png)"
   ]
  },
  {
   "cell_type": "markdown",
   "metadata": {},
   "source": [
    "![img](img/sbas_list.png)\n",
    "[Ref](http://mgex.igs.org/IGS_MGEX_Status_SBAS.html)"
   ]
  },
  {
   "cell_type": "markdown",
   "metadata": {},
   "source": [
    "The ‘TIME SYSTEM CORR’ line allows the satellite system time to be transformed to UTC time through a correction. What are the coef- ficients of the formula? Which is the augmentation system of this navigation message?\n",
    "→ The formula is: $CORR(t) = a0 + a1*DELTAT$\n",
    "Particularised:\n",
    "<b>$CORR(t)= 0.1331791282E-06 + 0.107469589E-12*(t-552960)$</b> The augmentation system is $EGNOS$.\n",
    "\n",
    "<b>SBAS navigation files are similar to Glonass ones</b>, in that both con- tain records of satellite position, velocity and accelerations.\n",
    "\n",
    "Do all satellites contain the same <b>observables</b> in this example?\n",
    "→ The observables are: $L1, L2, P1, P2, C1, S1, S2$. <b>Glonass and SBAS</b> satellites only have: $L1, C1, S1$."
   ]
  },
  {
   "cell_type": "code",
   "execution_count": 31,
   "metadata": {
    "collapsed": false
   },
   "outputs": [],
   "source": [
    "navfile = \"glonass/badg3170.15n\" \n",
    "obsfile = \"glonass/badg3170.15o\" \n",
    "glofile = \"glonass/badg3170.15g\" \n",
    "mfile = \"glonass/badg3170.15m\" \n",
    "dfile = \"glonass/badg3170.15d\" \n",
    "sfile = \"glonass/badg3170.15s\" \n",
    "\n",
    "#Repository for SBAS => http://sis-perfandata.cnes.fr/main_data.html\n",
    "sbas_obs = \"Rinex_Sbas/317-b/M1203170.15b\" #13 nov 15 => EGNOS for European Union\n",
    "sbas_nav = \"Rinex_Sbas/317-h/M1203170.15h\"\n",
    "#sbas_obs = \"Rinex_Sbas/317-b/M1333170.15b\" #13 nov 15 => WAAS for EEUU\n",
    "#sbas_nav = \"Rinex_Sbas/317-h/M1333170.15h\"\n",
    "\n",
    "\n",
    "'''type of data:\n",
    "\n",
    "d = Hatanaka-compressed observation data\n",
    "f = Beidou navigation message data\n",
    "g = GLONASS navigation message data \n",
    "h = SBAS payload navigation message data\n",
    "l = GALILEO navigation message data \n",
    "m = meteorological data\n",
    "n = GPS navigation message data\n",
    "o = observation data\n",
    "p = mixed GNSS navigation message data\n",
    "q = QZSS navigation message data\n",
    "s = observation summary files (extracted from RINEX header)'''\n",
    "a=\"nothing\""
   ]
  },
  {
   "cell_type": "code",
   "execution_count": 32,
   "metadata": {
    "collapsed": false,
    "scrolled": true
   },
   "outputs": [
    {
     "name": "stdout",
     "output_type": "stream",
     "text": [
      "     2.10           H                                       RINEX VERSION / TYPE\r\n",
      "ExtractGEONav_1.14  CNES                20-Nov-15 02:46     PGM / RUN BY / DATE\r\n",
      " 0.000000000000e+00 0.000000000000e+00      0    0 EGNOS  0 D-UTC A0,A1,T,W,S,U\r\n",
      "                                                            END OF HEADER\r\n",
      "20 15 11 13  0  0 16.0 0.000000000000E+00 0.000000000000E+00 4.320211000000E+05\r\n",
      "    4.063672000000e+04 0.000000000000e+00 0.000000000000e+00 3.100000000000e+01\r\n",
      "   -1.124591600000E+04 0.000000000000E+00 0.000000000000E+00-1.000000000000E+00\r\n",
      "    0.000000000000E+00 0.000000000000E+00 0.000000000000E+00 3.100000000000E+01\r\n",
      "20 15 11 13  0  2 56.0 0.000000000000E+00 0.000000000000E+00 4.321811000000E+05\r\n",
      "    4.063672000000e+04 0.000000000000e+00 0.000000000000e+00 3.100000000000e+01\r\n",
      "   -1.124591600000E+04 0.000000000000E+00 0.000000000000E+00-1.000000000000E+00\r\n",
      "    0.000000000000E+00 0.000000000000E+00 0.000000000000E+00 3.200000000000E+01\r\n",
      "20 15 11 13  0  5 36.0 0.000000000000E+00 0.000000000000E+00 4.323411000000E+05\r\n",
      "    4.063672000000e+04 0.000000000000e+00 0.000000000000e+00 1.000000000000e+00\r\n",
      "   -1.124591600000E+04 0.000000000000E+00 0.000000000000E+00-1.000000000000E+00\r\n",
      "    0.000000000000E+00 0.000000000000E+00 0.000000000000E+00 3.300000000000E+01\r\n",
      "20 15 11 13  0  8 16.0 0.000000000000E+00 0.000000000000E+00 4.325011000000E+05\r\n",
      "    4.063672000000e+04 0.000000000000e+00 0.000000000000e+00 1.000000000000e+00\r\n",
      "   -1.124591600000E+04 0.000000000000E+00 0.000000000000E+00-1.000000000000E+00\r\n",
      "    0.000000000000E+00 0.000000000000E+00 0.000000000000E+00 3.400000000000E+01\r\n",
      "20 15 11 13  0 10 56.0 0.000000000000E+00 0.000000000000E+00 4.326611000000E+05\r\n",
      "    4.063672000000e+04 0.000000000000e+00 0.000000000000e+00 1.000000000000e+00\r\n",
      "   -1.124591600000E+04 0.000000000000E+00 0.000000000000E+00-1.000000000000E+00\r\n",
      "    0.000000000000E+00 0.000000000000E+00 0.000000000000E+00 3.500000000000E+01\r\n",
      "20 15 11 13  0 13 36.0 0.000000000000E+00 0.000000000000E+00 4.328171000000E+05\r\n",
      "    4.063672000000e+04 0.000000000000e+00 0.000000000000e+00 1.000000000000e+00\r\n",
      "   -1.124591600000E+04 0.000000000000E+00 0.000000000000E+00-1.000000000000E+00\r\n",
      "    0.000000000000E+00 0.000000000000E+00 0.000000000000E+00 3.600000000000E+01\r\n",
      "20 15 11 13  0 16  0.0 0.000000000000E+00 0.000000000000E+00 4.329731000000E+05\r\n",
      "    4.063672000000e+04 0.000000000000e+00 0.000000000000e+00 1.000000000000e+00\r\n",
      "   -1.124591600000E+04 0.000000000000E+00 0.000000000000E+00-1.000000000000E+00\r\n",
      "    0.000000000000E+00 0.000000000000E+00 0.000000000000E+00 3.700000000000E+01\r\n",
      "20 15 11 13  0 18 40.0 0.000000000000E+00 0.000000000000E+00 4.331331000000E+05\r\n",
      "    4.063672000000e+04 0.000000000000e+00 0.000000000000e+00 1.000000000000e+00\r\n",
      "   -1.124591600000E+04 0.000000000000E+00 0.000000000000E+00-1.000000000000E+00\r\n",
      "    0.000000000000E+00 0.000000000000E+00 0.000000000000E+00 3.800000000000E+01\r\n",
      "20 15 11 13  0 21 20.0 0.000000000000E+00 0.000000000000E+00 4.332931000000E+05\r\n",
      "    4.063672000000e+04 0.000000000000e+00 0.000000000000e+00 1.000000000000e+00\r\n",
      "   -1.124591600000E+04 0.000000000000E+00 0.000000000000E+00-1.000000000000E+00\r\n",
      "    0.000000000000E+00 0.000000000000E+00 0.000000000000E+00 3.900000000000E+01\r\n",
      "20 15 11 13  0 24  0.0 0.000000000000E+00 0.000000000000E+00 4.334531000000E+05\r\n",
      "    4.063672000000e+04 0.000000000000e+00 0.000000000000e+00 1.000000000000e+00\r\n",
      "   -1.124591600000E+04 0.000000000000E+00 0.000000000000E+00-1.000000000000E+00\r\n",
      "    0.000000000000E+00 0.000000000000E+00 0.000000000000E+00 4.000000000000E+01\r\n",
      "20 15 11 13  0 26 40.0 0.000000000000E+00 0.000000000000E+00 4.336131000000E+05\r\n",
      "    4.063672000000e+04 0.000000000000e+00 0.000000000000e+00 1.000000000000e+00\r\n",
      "   -1.124591600000E+04 0.000000000000E+00 0.000000000000E+00-1.000000000000E+00\r\n",
      "    0.000000000000E+00 0.000000000000E+00 0.000000000000E+00 4.100000000000E+01\r\n",
      "20 15 11 13  0 29 20.0 0.000000000000E+00 0.000000000000E+00 4.337721000000E+05\r\n",
      "    4.063672000000e+04 0.000000000000e+00 0.000000000000e+00 1.000000000000e+00\r\n",
      "   -1.124591600000E+04 0.000000000000E+00 0.000000000000E+00-1.000000000000E+00\r\n",
      "    0.000000000000E+00 0.000000000000E+00 0.000000000000E+00 4.200000000000E+01\r\n",
      "20 15 11 13  0 32  0.0 0.000000000000E+00 0.000000000000E+00 4.339331000000E+05\r\n",
      "    4.063672000000e+04 0.000000000000e+00 0.000000000000e+00 1.000000000000e+00\r\n",
      "   -1.124591600000E+04 0.000000000000E+00 0.000000000000E+00-1.000000000000E+00\r\n",
      "    0.000000000000E+00 0.000000000000E+00 0.000000000000E+00 4.300000000000E+01\r\n",
      "20 15 11 13  0 34 40.0 0.000000000000E+00 0.000000000000E+00 4.340901000000E+05\r\n",
      "    4.063672000000e+04 0.000000000000e+00 0.000000000000e+00 1.000000000000e+00\r\n",
      "   -1.124591600000E+04 0.000000000000E+00 0.000000000000E+00-1.000000000000E+00\r\n",
      "    0.000000000000E+00 0.000000000000E+00 0.000000000000E+00 4.400000000000E+01\r\n",
      "20 15 11 13  0 37 20.0 0.000000000000E+00 0.000000000000E+00 4.342491000000E+05\r\n",
      "    4.063672000000e+04 0.000000000000e+00 0.000000000000e+00 1.000000000000e+00\r\n",
      "   -1.124591600000E+04 0.000000000000E+00 0.000000000000E+00-1.000000000000E+00\r\n",
      "    0.000000000000E+00 0.000000000000E+00 0.000000000000E+00 4.500000000000E+01\r\n",
      "20 15 11 13  0 40  0.0 0.000000000000E+00 0.000000000000E+00 4.344051000000E+05\r\n"
     ]
    }
   ],
   "source": [
    "!head -65 $sbas_nav #Navigation File of SBAS"
   ]
  },
  {
   "cell_type": "markdown",
   "metadata": {},
   "source": [
    "### SBAS Navigation File\n",
    "- Is a Satellite EGNOS number $120$.\n",
    "- Date of the Data Nov $13th$ of 2015."
   ]
  },
  {
   "cell_type": "markdown",
   "metadata": {},
   "source": [
    "![img](img/navHeader.png)"
   ]
  },
  {
   "cell_type": "markdown",
   "metadata": {},
   "source": [
    "![img](img/navData.png)"
   ]
  },
  {
   "cell_type": "code",
   "execution_count": 33,
   "metadata": {
    "collapsed": false,
    "scrolled": true
   },
   "outputs": [
    {
     "name": "stdout",
     "output_type": "stream",
     "text": [
      "     2.10           B                                       RINEX VERSION / TYPE\r\n",
      "ConsolideSBAS       CNES                15/11/20 02:40      PGM / RUN BY / DATE\r\n",
      "                    SBAS consolidation file for PRN 120     COMMENT\r\n",
      "                                                            END OF HEADER\r\n",
      "120 15 11 13 00 00 00.1  L1    32     0   SBA\r\n",
      "  4    53 12 80 38 00 00 00 00 3F E0 00 00 00 00 00 00 00 00\r\n",
      "       00 00 00 03 BB BB BB 80 00 00 23 07 04 80\r\n",
      "120 15 11 13 00 00 01.1  L1    32     0   SBA\r\n",
      "  3    9A 0C BF E4 00 3F F4 01 BF F8 00 00 03 FF C0 00 00 40\r\n",
      "       08 00 00 01 79 57 BB 97 95 7B 94 FF 63 C0\r\n",
      "120 15 11 13 00 00 02.1  L1    32     0   SBA\r\n",
      " 26    C6 6A 50 15 A0 8B 03 38 15 C0 8E 04 70 23 01 1C 08 E0\r\n",
      "       38 01 E8 0F BF DF FE FF F7 80 0C A4 00 C0\r\n",
      "120 15 11 13 00 00 03.1  L1    32     0   SBA\r\n",
      "  2    53 0A BF E7 FE 00 00 00 00 03 FF 00 00 00 00 00 00 3F\r\n",
      "       EB FC 7F ED A7 BB 9F BB B9 55 94 54 84 40\r\n",
      "120 15 11 13 00 00 04.1  L1    32     0   SBA\r\n",
      "  4    9A 10 80 3C 00 00 00 00 3F E4 00 00 00 00 00 00 00 00\r\n",
      "       00 00 00 03 BB BB BB 80 00 00 26 8A DE 80\r\n",
      "120 15 11 13 00 00 05.1  L1    32     0   SBA\r\n",
      "  3    C6 0D BF E4 00 3F F0 01 BF F8 00 00 00 00 00 00 00 40\r\n",
      "       08 00 00 01 79 57 BB 97 95 7B 87 5A 1E 40\r\n",
      "120 15 11 13 00 00 06.1  L1    32     0   SBA\r\n",
      " 26    53 69 83 FD FF EF FF 7F FB FF DF FE FF F7 FF BF FD FF\r\n",
      "       EF FF 7F FB C0 00 00 00 00 00 36 C4 E3 80\r\n",
      "120 15 11 13 00 00 07.1  L1    32     0   SBA\r\n",
      "  2    9A 08 BF E7 FE 00 00 00 00 03 FF C0 00 00 00 00 00 3F\r\n",
      "       EB FC 7F ED A7 BB 9B BB B9 55 F6 89 9E 80\r\n",
      "120 15 11 13 00 00 08.1  L1    32     0   SBA\r\n",
      "  4    C6 11 80 3C 00 00 00 00 3F E0 00 00 00 00 00 00 00 00\r\n",
      "       00 00 00 03 BB BB BB 80 00 00 15 53 4E 00\r\n",
      "120 15 11 13 00 00 09.1  L1    32     0   SBA\r\n",
      "  1    53 07 FE FF FF FC 00 00 00 00 00 00 00 00 00 00 04 00\r\n",
      "       04 00 00 00 00 00 00 00 00 00 9F ED 5B 40\r\n",
      "120 15 11 13 00 00 10.1  L1    32     0   SBA\r\n",
      "  3    9A 0E BF E4 00 3F F4 01 BF F8 00 00 03 FF C0 00 00 40\r\n",
      "       08 00 00 01 79 57 BB 97 95 7B 97 81 1D 80\r\n",
      "120 15 11 13 00 00 11.1  L1    32     0   SBA\r\n",
      "  2    C6 09 BF E7 FE 00 00 00 00 03 FF 40 00 00 00 00 00 3F\r\n",
      "       EB FC 7F ED A7 BB 97 BB B9 55 FA 06 CA 40\r\n",
      "120 15 11 13 00 00 12.1  L1    32     0   SBA\r\n",
      "  4    53 12 80 3C 00 00 00 00 3F E0 00 00 00 00 00 00 00 00\r\n",
      "       00 00 00 03 BB BB BB 80 00 00 2E 87 B0 00\r\n",
      "120 15 11 13 00 00 13.1  L1    32     0   SBA\r\n",
      " 26    9A 69 10 1B C0 AA 04 B8 21 C0 CE 05 70 1B FF BF FD E1\r\n",
      "       1E 05 50 25 C1 0E 06 70 23 80 1B 72 D6 40\r\n",
      "120 15 11 13 00 00 14.1  L1    32     0   SBA\r\n",
      "  3    C6 0C BF E4 00 3F F4 01 BF F8 00 00 00 00 00 00 00 40\r\n",
      "       08 00 00 01 79 57 BB 97 95 7B 95 C6 49 C0\r\n",
      "120 15 11 13 00 00 15.1  L1    32     0   SBA\r\n",
      "  2    53 0A BF E7 FE 00 00 00 00 03 FF 40 00 00 00 00 00 3F\r\n",
      "       EF FC 7F ED A7 BB 97 BB B9 55 A7 84 9D C0\r\n",
      "120 15 11 13 00 00 16.1  L1    32     0   SBA\r\n",
      "  4    9A 10 80 3C 00 00 00 00 3F E0 00 00 00 00 00 00 00 00\r\n",
      "       00 00 00 03 BB BB BB 80 00 00 30 FE 8F C0\r\n",
      "120 15 11 13 00 00 17.1  L1    32     0   SBA\r\n",
      " 26    C6 69 53 FD FF EF FF 7F FB FF DF FE FF F7 FF BF FD FF\r\n",
      "       EF 00 00 00 00 00 00 00 00 00 0D E6 42 C0\r\n",
      "120 15 11 13 00 00 18.1  L1    32     0   SBA\r\n",
      "  3    53 0D BF E4 00 3F F4 01 BF F4 00 00 00 00 00 00 00 40\r\n",
      "       08 00 00 01 79 57 BB 97 95 7B 97 F0 3A 40\r\n",
      "120 15 11 13 00 00 19.1  L1    32     0   SBA\r\n",
      "  2    9A 08 BF E7 FE 00 00 00 00 03 FF 00 00 00 00 00 00 3F\r\n",
      "       EF FC BF ED A7 BB 97 BB B9 55 9B 9D FC 00\r\n",
      "120 15 11 13 00 00 20.1  L1    32     0   SBA\r\n"
     ]
    }
   ],
   "source": [
    "!head -65 $sbas_obs"
   ]
  },
  {
   "cell_type": "markdown",
   "metadata": {},
   "source": [
    "### SBAS Observation File\n",
    "[HELP](http://www.navipedia.net/index.php/The_EGNOS_SBAS_Message_Format_Explained)"
   ]
  },
  {
   "cell_type": "markdown",
   "metadata": {},
   "source": [
    "![img](img/obsHeader.png)"
   ]
  },
  {
   "cell_type": "markdown",
   "metadata": {},
   "source": [
    "![img](img/obsData.png)"
   ]
  },
  {
   "cell_type": "markdown",
   "metadata": {},
   "source": [
    "#### The Message in Binary is separate like the next table"
   ]
  },
  {
   "cell_type": "markdown",
   "metadata": {},
   "source": [
    "![img](img/SBASmesgFormat.png)"
   ]
  },
  {
   "cell_type": "markdown",
   "metadata": {},
   "source": [
    "A brief explanation of the different data fields is presented hereafter:\n",
    "\n",
    "- <b>Preamble</b>. It is a unique 24–bit field, distributed over three successive words. The preamble sequence (in three consecutive words) is 01010011 (83) - 10011010 (154) - 11000110 (198). It is assured that the start of the preamble is synchronous with a 6-second GPS sub-frame. Thus, the preamble allows the receiver to achieve frame synchronisation.\n",
    "- <b>Message Type Identifier</b>. It is a 6-bit field, which permits up to 64 different messages (identifiers 0 to 63). Depending on the message type, the information included in the Data field has different meaning. Even though 64 type messages are available, only 20 are currently defined.\n",
    "- <b>Data Field</b>. It contains different corrections and integrity information that depends on the type of message. The specific content of this field will be addressed in the following sections.\n",
    "- <b>Parity Information</b>. The 24 bits of the end of the message (CRC parity bits) provide protection against burst and random error. For more information on parity bits algorithm generator see MOPS"
   ]
  },
  {
   "cell_type": "code",
   "execution_count": 199,
   "metadata": {
    "collapsed": false
   },
   "outputs": [
    {
     "name": "stdout",
     "output_type": "stream",
     "text": [
      "64 hexa,  Size binary info:  256\n"
     ]
    }
   ],
   "source": [
    "#Example with the frst line of data\n",
    "#hex1 = \"53128038000000003FE00000000000000000\" #first line\n",
    "#hex2 = \"00000003BBBBBB80000023070480\"\n",
    "hex1 = \"9A0CBFE4003FF401BFF8000003FFC0000040\" #second line\n",
    "hex2 = \"080000017957BB97957B94FF63C0\"\n",
    "#hex1 = \"9A08BFE7FE0000000003FF0000000000003F\" #Random line\n",
    "#hex2 = \"EFFCBFEDA7BB97BBB9559B9DFC00\"\n",
    "dec1 = int(hex1+hex2, 16) #hex to int\n",
    "bina = '{0:04b}'.format(dec1)\n",
    "print len(hex1+hex2),\"hexa, \",\"Size binary info: \",len(str(bina))"
   ]
  },
  {
   "cell_type": "code",
   "execution_count": 254,
   "metadata": {
    "collapsed": false
   },
   "outputs": [],
   "source": [
    "def Preamble(BinaryCode):\n",
    "    return hex(int(BinaryCode[0:8],2))\n",
    "\n",
    "def MessageType(BinaryCode):\n",
    "    mt = int(BinaryCode[8:14], 2)\n",
    "    \n",
    "    labelmt = \"\"\n",
    "    if mt==0:\n",
    "        labelmt = \"Don’t use for safety applications\"\n",
    "    if mt==1:\n",
    "        labelmt = \"PRN mask assignments, set up to 51 of 210 possible\"\n",
    "    if mt >= 2 and mt <= 5:\n",
    "        labelmt = \"Fast corrections\"\n",
    "    if mt==6:\n",
    "        labelmt = \"Integrity information\"\n",
    "    if mt==7:\n",
    "        labelmt = \"Fast correction degradation factor\"\n",
    "    if mt==9:\n",
    "        labelmt = \"Geo Navigation message (X,Y,Z, time, etc.)\"\n",
    "    if mt==10:\n",
    "        labelmt = \"Degradation parameters\"\n",
    "    if mt==12:\n",
    "        labelmt = \"SBAS Network time / UTC offset parameters\"\n",
    "    if mt==17:\n",
    "        labelmt = \"Geo satellite almanacs\"\n",
    "    if mt==18:\n",
    "        labelmt = \"Ionospheric grid points masks\"\n",
    "    if mt==24:\n",
    "        labelmt = \"Mixed fast corrections/long term satellite error corrections\"\n",
    "    if mt==25:\n",
    "        labelmt = \"Long term satellite error corrections\"\n",
    "    if mt==26:\n",
    "        labelmt = \"Ionospheric delay corrections\"\n",
    "    if mt==27:\n",
    "        labelmt = \"SBAS Service message\"\n",
    "    if mt==28:\n",
    "        labelmt = \"Clock Ephemeris Covariance Matrix message\"\n",
    "    if mt==62:\n",
    "        labelmt = \"Internal test message\"\n",
    "    if mt==63:\n",
    "        labelmt = \"Null message\"\n",
    "    return mt,labelmt\n",
    "    \n",
    "    \n",
    "def IODP(BinaryCode):\n",
    "    label = \"OK\"\n",
    "    iodp = int(BinaryCode[224:226],2)\n",
    "    if iodp == 3:\n",
    "        label = \"Problem with one or more SVs\"\n",
    "    \n",
    "    return iodp,label"
   ]
  },
  {
   "cell_type": "markdown",
   "metadata": {},
   "source": [
    "![img](img/MT.png)"
   ]
  },
  {
   "cell_type": "code",
   "execution_count": 255,
   "metadata": {
    "collapsed": false
   },
   "outputs": [
    {
     "name": "stdout",
     "output_type": "stream",
     "text": [
      "Preamble:  0x9a\n",
      "Message Type:  (3, 'Fast corrections')\n",
      "IODP:  (2, 'OK')\n"
     ]
    }
   ],
   "source": [
    "print \"Preamble: \",Preamble(msg)\n",
    "print \"Message Type: \", MessageType(msg)\n",
    "print \"IODP: \", IODP(msg)"
   ]
  },
  {
   "cell_type": "markdown",
   "metadata": {},
   "source": [
    "<b>Message type 1: </b>\n",
    "Message type 1 includes the PRN mask assignments, chosen among the applicable GNSS and GEO satellites. Instead of sending for each correction the satellite PRN associated with, a mask is created to save space in the messages. This bit mask contains the i-th bit to 1 to inform that i-th satellite PRN is being used.\n",
    "Although there are 210 slots (bits) in the mask, only a maximum of 51 can be set at a time due to constraint in the limited size available to broadcast information (message type 6 does only have enough free space to allocate UDREI figures for 51 satellites). Corrections are provided only for these satellites.\n",
    "The user will read the mask and then each satellite correction will be related with the satellite via the mask contained in this message. IODP indicates the mask’s applicability to the corrections contained in the messages to which the mask applies. [PRN Slot list](https://github.com/mvglasow/satstat/wiki/NMEA-IDs)\n"
   ]
  },
  {
   "cell_type": "code",
   "execution_count": 183,
   "metadata": {
    "collapsed": false
   },
   "outputs": [
    {
     "data": {
      "text/plain": [
       "'EGNOS MT1 (PRN mask)'"
      ]
     },
     "execution_count": 183,
     "metadata": {},
     "output_type": "execute_result"
    }
   ],
   "source": [
    "'''%EGNOS MT1 message structure (PRN mask):\n",
    "% 8 bit: preamble\n",
    "% 6 bit: message type (MT)\n",
    "% 32 bit: bit mask for GPS satellites, ordered from PRN 1 to 32\n",
    "%   se bit = 0 -> SV to be disregarded\n",
    "%   se bit = 1 -> SV to be used\n",
    "%       es: 01111111111111111111111111111110\n",
    "%       PRN 1  NOT available (bit 1 = 0)\n",
    "%       PRN 2  available     (bit 2 = 1)\n",
    "%       ...\n",
    "%       PRN 31 available     (bit 31 = 1)\n",
    "%       PRN 32 NOT available (bit 32 = 0)\n",
    "% 180 bit: bit mask for other satellites (eg: GLONASS)\n",
    "% 24 bit: parity\n",
    "% TOTAL: 250 bit'''\n",
    "\"EGNOS MT1 (PRN mask)\""
   ]
  },
  {
   "cell_type": "code",
   "execution_count": 184,
   "metadata": {
    "collapsed": false
   },
   "outputs": [
    {
     "data": {
      "text/plain": [
       "'NMEA IDs'"
      ]
     },
     "execution_count": 184,
     "metadata": {},
     "output_type": "execute_result"
    }
   ],
   "source": [
    "'''NMEA IDs can be roughly divided into the following ranges:\n",
    "\n",
    "1–32: GPS\n",
    "33–54: Various SBAS systems (EGNOS, WAAS, SDCM, GAGAN, MSAS) – some IDs still unused\n",
    "55–64: not used (might be assigned to further SBAS systems)\n",
    "65–88: GLONASS\n",
    "89–96: GLONASS (future extensions?)\n",
    "97–192: not used\n",
    "193–195: QZSS\n",
    "196–200: QZSS (future extensions?)\n",
    "201–235: Beidou'''\n",
    "\"NMEA IDs\""
   ]
  },
  {
   "cell_type": "code",
   "execution_count": 340,
   "metadata": {
    "collapsed": false
   },
   "outputs": [
    {
     "data": {
      "text/plain": [
       "(True, 'GLONASS')"
      ]
     },
     "execution_count": 340,
     "metadata": {},
     "output_type": "execute_result"
    }
   ],
   "source": [
    "def PRNAvalible(BinaryCode,PRN_NMEA):\n",
    "    BinaryList = BinaryCode[14:14+235]\n",
    "    label = \"not-asignate\"\n",
    "    if PRN_NMEA == 1:\n",
    "        res = BinaryList[0]\n",
    "    else:\n",
    "        res = BinaryList[PRN_NMEA-1:PRN_NMEA]\n",
    "    if(PRN_NMEA>=1 and PRN_NMEA<=32):\n",
    "        label = \"GPS\"\n",
    "    if(PRN_NMEA>=65 and PRN_NMEA<=88):\n",
    "        label = \"GLONASS\"\n",
    "    if(PRN_NMEA>=196 and PRN_NMEA<=200):\n",
    "        label = \"QZSS\"\n",
    "    if(PRN_NMEA>=201 and PRN_NMEA<=235):\n",
    "        label = \"Beidou\"\n",
    "    return bool(res),label\n",
    "PRNAvalible(msg,65)"
   ]
  },
  {
   "cell_type": "markdown",
   "metadata": {},
   "source": [
    "## Message types 2 to 5:\n",
    "Approximately the <b>$75 $%</b> of the data that sends the GEO contains only Fast Corrections data."
   ]
  },
  {
   "cell_type": "markdown",
   "metadata": {},
   "source": [
    "- <b>Pseudo Range Corrections (PRC):</b> to be added on the pseudorange of each satellite\n",
    "- <b>User Differential Range Correction Indicators (UDREI):</b> are satellite health parameters which take values between 1 (very healthy) and 15 (do not use). Each value is equivalent to a certain weight to be applied on the weighting matrix (explained in detail in section 2.3. The SBAS Basic Positioning Equation). If it is equal to 14 it means that the satellite is not monitored and if it is equal to 15 it means that the satellite may be experiencing technical problems and its ranging data must not be used.\n",
    "<b>differential corrections range: -256.000 a +255.875 [meters]</b>\n"
   ]
  },
  {
   "cell_type": "markdown",
   "metadata": {},
   "source": [
    "![img](img/correctionsTable.png)"
   ]
  },
  {
   "cell_type": "markdown",
   "metadata": {},
   "source": [
    "The time of applicability of the fast corrections, which is used in fast correction computation, is defined as the start of the epoch of the SBAS Network Time (SNT) second that is coincident with the transmission of the first bit of the message block (bit belonging to the preamble) at the GEO satellite.\n",
    "The message format is defined the section A.4.4.3 of MOPS, as well as the table that the SBAS user will consider to translate the $UDREI$ to a variance $σ^2UDRE$. Note that the status of the satellite is also included into the UDREI:\n",
    "- <b>Use:</b> UDREIs from 0 to 13 indicates that the satellite is usable.\n",
    "- <b>Not Monitored:</b> UDREI=14 indicates that the satellite does not appear in the mask or even appearing there are not corrections or UDRE values available for it.\n",
    "- <b>Don’t Use:</b> UDREI=15 indicates that an inconsistency has been found for this satellite (alarm situation) or the estimated fast correction is greater than 256.0 m."
   ]
  },
  {
   "cell_type": "markdown",
   "metadata": {},
   "source": [
    "![img](img/MT2.png)"
   ]
  },
  {
   "cell_type": "code",
   "execution_count": 355,
   "metadata": {
    "collapsed": false
   },
   "outputs": [
    {
     "name": "stdout",
     "output_type": "stream",
     "text": [
      "175  To  178\n",
      "[ 101 ]  to Int => 5\n",
      "179  To  182\n",
      "[ 110 ]  to Int => 6\n",
      "183  To  186\n",
      "[ 101 ]  to Int => 5\n",
      "187  To  190\n",
      "[ 101 ]  to Int => 5\n",
      "191  To  194\n",
      "[ 110 ]  to Int => 6\n",
      "195  To  198\n",
      "[ 110 ]  to Int => 6\n",
      "199  To  202\n",
      "[ 110 ]  to Int => 6\n",
      "203  To  206\n",
      "[ 101 ]  to Int => 5\n",
      "207  To  210\n",
      "[ 110 ]  to Int => 6\n",
      "211  To  214\n",
      "[ 101 ]  to Int => 5\n",
      "215  To  218\n",
      "[ 101 ]  to Int => 5\n",
      "219  To  222\n",
      "[ 110 ]  to Int => 6\n",
      "223  To  226\n",
      "[ 110 ]  to Int => 6\n",
      "[14, 15, 16, 17, 18, 19, 20, 21, 22, 23, 24, 25, 26]\n",
      "[5, 6, 5, 5, 6, 6, 6, 5, 6, 5, 5, 6, 6]\n",
      "[2041, 0, 2045, 6, 2046, 0, 0, 2047, 0, 1, 2, 0, 0]\n"
     ]
    }
   ],
   "source": [
    "#This function is just is MT = 2,3,4,0\n",
    "def MT2_FastCorrections(BinaryCode):\n",
    "    iodp,_ = IODP(BinaryCode)\n",
    "    #compute the PRC\n",
    "    #start bit and end bit of the 13 PRCs in MT 2, 3, 4\n",
    "    start_bit = np.linspace(19,163,13)\n",
    "    end_bit   = np.linspace(30,174,13)\n",
    "    #allocate the 13 binary numbers that correspond to the PRCs\n",
    "    PRCs = []\n",
    "    PRCs_b = []\n",
    "    for j in range(0,13):\n",
    "        #print int(start_bit[j]),\" To \",int(end_bit[j])\n",
    "        num_bin = msg[int(start_bit[j]):int(end_bit[j])]\n",
    "        PRCs.append(num_bin)\n",
    "        PRCs_b.append(int(num_bin,2))\n",
    "        #print \"[\",num_bin,\"]\", \" to Int =>\",int(num_bin,2)\n",
    "        \n",
    "    #start bit and end bit of the 13 UDREIs in MT 2, 3, 4\n",
    "    start_bit_u = np.linspace(175,223,13)#[175 : 4 : 223];\n",
    "    end_bit_u   = np.linspace(178,226,13)#[178 : 4 : 226];\n",
    "    UDREIs = []\n",
    "    UDREIs_b = []\n",
    "    for j in range(0,13):\n",
    "        print int(start_bit_u[j]),\" To \",int(end_bit_u[j])\n",
    "        num_bin = msg[int(start_bit_u[j]):int(end_bit_u[j])]\n",
    "        UDREIs.append(num_bin)\n",
    "        UDREIs_b.append(int(num_bin,2))\n",
    "        print \"[\",num_bin,\"]\", \" to Int =>\",int(num_bin,2)\n",
    "    #WHAT SATELLITES?\n",
    "    SV = []\n",
    "    MT,_ = MessageType(msg)\n",
    "    if MT == 2 or MT == 0:\n",
    "        SV = range(1,14) #1 to 13\n",
    "    elif MT == 3:\n",
    "        SV = range(14,27) #14 to 26\n",
    "    elif MT == 4:\n",
    "        SV = range(27,40) #27 to 39\n",
    "        \n",
    "    '''num_int = int(num_bin,2)\n",
    "    res = 2^(-3) # LSB value = 0.125 (m)\n",
    "    param_11 = 2^(11) - 1 #2^(n_bit-1) - 1\n",
    "    #convert in twos complement\n",
    "    p11 = num_int > param_11\n",
    "    num_int = num_int - 2^(12) * int(p11)\n",
    "    PRC = num_int * res # m '''\n",
    "        \n",
    "    #SATELITES, UDREIs, \n",
    "    return SV,UDREIs_b,PRCs_b\n",
    "sv,udreis,prcs = MT2_FastCorrections(msg)\n",
    "print sv\n",
    "print udreis\n",
    "print prcs"
   ]
  },
  {
   "cell_type": "code",
   "execution_count": 339,
   "metadata": {
    "collapsed": false
   },
   "outputs": [],
   "source": [
    "#This function is just is MT = 24\n",
    "def MT24_FastCorrections(BinaryCode):\n",
    "    iodp,_ = IODP(BinaryCode)\n",
    "    \n",
    "    start_bit = np.linspace(15,75,6)\n",
    "    end_bit   = np.linspace(26,86,6)\n",
    "    #15   27   39   51   63   75\n",
    "    #26   38   50   62   74   86\n",
    "    \n",
    "    PRCs = []\n",
    "    for j in range(0,6):\n",
    "        print int(start_bit[j]),\" To \",int(end_bit[j])\n",
    "        num_bin = msg[int(start_bit[j]):int(end_bit[j])]\n",
    "        PRCs.append(num_bin)\n",
    "        print \"[\",num_bin,\"]\", \" to Int =>\",int(num_bin,2)\n",
    "        \n",
    "    start_bit_u = np.linspace(87,107,6)\n",
    "    end_bit_u   = np.linspace(90,110,6)\n",
    "    UDREIs = []\n",
    "    for j in range(0,6):\n",
    "        print int(start_bit_u[j]),\" To \",int(end_bit_u[j])\n",
    "        num_bin = msg[int(start_bit_u[j]):int(end_bit_u[j])]\n",
    "        UDREIs.append(num_bin)\n",
    "        print \"[\",num_bin,\"]\", \" to Int =>\",int(num_bin,2)\n",
    "    SV_block = [range(1,7),range(14,20),range(27,33)]\n",
    "    iodp = int(BinaryCode[111:112],2)\n",
    "    block_ID = int(BinaryCode[113:114],2) \n",
    "    SV = SV_block[block_ID+1]\n",
    "    iodf = int(BinaryCode[115:116],2) \n",
    "    #NOTE:\n",
    "    # IODF = 0,1,2: OK\n",
    "    #      = 3:     problem with one or more SVs\n",
    "    return SV,UDREIs,PRCs,iodp"
   ]
  },
  {
   "cell_type": "code",
   "execution_count": 336,
   "metadata": {
    "collapsed": false
   },
   "outputs": [
    {
     "data": {
      "image/png": "[encoded data removed]",
      "text/latex": [
       "$$\\left [ \\left [ 1, \\quad 2, \\quad 3, \\quad 4, \\quad 5, \\quad 6\\right ], \\quad \\left [ 14, \\quad 15, \\quad 16, \\quad 17, \\quad 18, \\quad 19\\right ], \\quad \\left [ 27, \\quad 28, \\quad 29, \\quad 30, \\quad 31, \\quad 32\\right ]\\right ]$$"
      ],
      "text/plain": [
       "[[1, 2, 3, 4, 5, 6], [14, 15, 16, 17, 18, 19], [27, 28, 29, 30, 31, 32]]"
      ]
     },
     "execution_count": 336,
     "metadata": {},
     "output_type": "execute_result"
    }
   ],
   "source": [
    "SV_block = [range(1,7),range(14,20),range(27,33)]\n",
    "SV_block\n"
   ]
  },
  {
   "cell_type": "code",
   "execution_count": 311,
   "metadata": {
    "collapsed": false
   },
   "outputs": [
    {
     "name": "stdout",
     "output_type": "stream",
     "text": [
      "-2 8 2\n"
     ]
    }
   ],
   "source": [
    "num_int = int(num_bin,2)\n",
    "res = 2^(-3); # LSB value = 0.125 (m)\n",
    "param_11 = 2^(11) - 1; #2^(n_bit-1) - 1\n",
    "#convert in twos complement\n",
    "p11 = num_int > param_11\n",
    "num_int = num_int - 2^(12) * int(p11)\n",
    "PRC = num_int * res # m \n",
    "print num_int,param_11,PRC"
   ]
  },
  {
   "cell_type": "code",
   "execution_count": 328,
   "metadata": {
    "collapsed": false
   },
   "outputs": [],
   "source": [
    "# NOTE:\n",
    "#UDREI = 0 - 13: OK\n",
    "#      = 14:     SV non monitored\n",
    "#      = 15:     SV must not be used"
   ]
  },
  {
   "cell_type": "code",
   "execution_count": null,
   "metadata": {
    "collapsed": true
   },
   "outputs": [],
   "source": []
  },
  {
   "cell_type": "markdown",
   "metadata": {},
   "source": [
    "### Comparing with SBAS TEACHER for [eesa](http://www.egnos-pro.esa.int/sbasteacher/)"
   ]
  },
  {
   "cell_type": "markdown",
   "metadata": {},
   "source": [
    "![img](img/decode2A.JPG)"
   ]
  },
  {
   "cell_type": "markdown",
   "metadata": {},
   "source": [
    "![img](img/decode2B.JPG)"
   ]
  },
  {
   "cell_type": "code",
   "execution_count": null,
   "metadata": {
    "collapsed": true
   },
   "outputs": [],
   "source": []
  },
  {
   "cell_type": "code",
   "execution_count": null,
   "metadata": {
    "collapsed": true
   },
   "outputs": [],
   "source": []
  },
  {
   "cell_type": "code",
   "execution_count": null,
   "metadata": {
    "collapsed": true
   },
   "outputs": [],
   "source": [
    "'''%start the conversion from binary to decimal\n",
    "% MT = fbin2dec(s(9:14)); %must be = 1\n",
    "\n",
    "%bits that compose the GPS satellites mask (PRN from 1 to 32)\n",
    "mask = fbin2dec(s(15 : 15 + 31)')'; %vector with the mask bits\n",
    "\n",
    "%vector with the PRNs of the GPS SVs\n",
    "%sv_gps = [1 : 32];       \n",
    "\n",
    "%keep only the GPS SVs with valid mask (=1)\n",
    "%prn_mask = find (mask .* sv_gps);  \n",
    "prn_mask = find (mask); \n",
    "\n",
    "%vector the PRNs of active GPS satellites\n",
    "prn_mask = [prn_mask, zeros(1, 32-length(prn_mask))];\n",
    "\n",
    "%IODP\n",
    "iodp_mask = fbin2dec(s(225:226));'''"
   ]
  },
  {
   "cell_type": "markdown",
   "metadata": {},
   "source": [
    "### FOR <font color='red'>GPS</font>"
   ]
  },
  {
   "cell_type": "code",
   "execution_count": 166,
   "metadata": {
    "collapsed": false
   },
   "outputs": [
    {
     "name": "stdout",
     "output_type": "stream",
     "text": [
      "LEAP SECONDS GPS 17\n",
      "TIEMPO INICIAL 3442448 00000000 0.000000000000000 GPS\n",
      "TIEMPO FINAL 0000000 00000000 0.000000000000000 GPS\n",
      "Dump of GPSEphemerisStore (detail level=1):\n",
      " BCE table for all satellites has 3 entries; Time span is 2015/11/12 08:00:00 GPS to 2015/11/13 04:00:00 GPS\n",
      " Search method is User\n",
      "Sat G01 has   1 entries; Time span is 2015/11/13 00:00:00 GPS to 2015/11/13 00:00:00 GPS\n",
      "Sat G02 has   1 entries; Time span is 2015/11/12 08:00:00 GPS to 2015/11/12 08:00:00 GPS\n",
      "Sat G03 has   1 entries; Time span is 2015/11/13 02:00:00 GPS to 2015/11/13 02:00:00 GPS\n",
      "END Dump of GPSEphemerisStore (detail level=1)\n",
      "\n",
      "conteo 216\n"
     ]
    }
   ],
   "source": [
    "navHeader, navData = gpstk.readRinex3Nav(navfile)\n",
    "# setup ephemeris store to look for satellite positions (GPS)\n",
    "bcestore = gpstk.GPSEphemerisStore()\n",
    "GPS_LS = navHeader.leapSeconds\n",
    "print \"LEAP SECONDS GPS\", GPS_LS\n",
    "counter=0\n",
    "InitialTimeGPS = bcestore.getInitialTime()\n",
    "print \"TIEMPO INICIAL\", bcestore.getInitialTime()\n",
    "print \"TIEMPO FINAL\", bcestore.getFinalTime()\n",
    "for navDataObj in navData:\n",
    "    counter += 1\n",
    "    ephem = navDataObj.toGPSEphemeris()\n",
    "    bcestore.addEphemeris(ephem)\n",
    "    \n",
    "    if(counter==3):\n",
    "        print bcestore #print the bcstore for the trhee first ephemeris\n",
    "bcestore.SearchNear()\n",
    "print \"conteo\",counter\n",
    "navData.close()"
   ]
  },
  {
   "cell_type": "markdown",
   "metadata": {},
   "source": [
    "### FOR <font color='red'>GLONASS</font>"
   ]
  },
  {
   "cell_type": "code",
   "execution_count": 167,
   "metadata": {
    "collapsed": false,
    "scrolled": true
   },
   "outputs": [
    {
     "name": "stdout",
     "output_type": "stream",
     "text": [
      "LEAP SECONDS Glonass 17\n",
      "PRN 10\n",
      "pos x:(8.80983e+06, 9.73237e+06, 2.18422e+07), v:(-263.557, 2989.33, -1232.21), clk bias:7.15804e-07, clk drift:0, relcorr:3.17742e-09\n",
      "FREQ -7\n",
      "--------------------------\n",
      "PRN 10\n",
      "pos x:(8.75005e+06, 1.47895e+07, 1.8806e+07), v:(179.511, 2581.57, -2119.57), clk bias:7.1747e-07, clk drift:0, relcorr:2.44205e-09\n",
      "FREQ -7\n",
      "--------------------------\n",
      "PRN 10\n",
      "pos x:(9.36393e+06, 1.88724e+07, 1.43102e+07), v:(469.966, 1919.09, -2843.25), clk bias:7.19311e-07, clk drift:0, relcorr:1.53245e-09\n",
      "FREQ -7\n",
      "--------------------------\n",
      "PRN 10\n",
      "pos x:(1.03058e+07, 2.1599e+07, 8.70287e+06), v:(534.845, 1092.12, -3346.49), clk bias:7.20324e-07, clk drift:0, relcorr:5.19479e-10\n",
      "FREQ -7\n",
      "--------------------------\n",
      "PRN 10\n",
      "pos x:(1.11338e+07, 2.27739e+07, 2.41922e+06), v:(342.01, 215.159, -3589.77), clk bias:7.22297e-07, clk drift:0, relcorr:-5.2159e-10\n",
      "FREQ -7\n",
      "--------------------------\n",
      "PRN 10\n",
      "pos x:(1.13902e+07, 2.24159e+07, -4.05246e+06), v:(-93.9236, -591.75, -3554.06), clk bias:7.23294e-07, clk drift:0, relcorr:-1.51885e-09\n",
      "FREQ -7\n",
      "--------------------------\n",
      "PRN 10\n",
      "pos x:(-2.36111e+07, 8.85394e+06, -4.12855e+06), v:(-474.138, 385.418, 3540.28), clk bias:7.39274e-07, clk drift:9.09495e-13, relcorr:1.96581e-10\n",
      "FREQ -7\n",
      "--------------------------\n",
      "PRN 10\n",
      "pos x:(-2.36767e+07, 9.31793e+06, 2.32084e+06), v:(388.586, 89.654, 3579.41), clk bias:7.40046e-07, clk drift:9.09495e-13, relcorr:1.28635e-09\n",
      "FREQ -7\n",
      "--------------------------\n",
      "PRN 10\n",
      "pos x:(-2.22904e+07, 9.04612e+06, 8.59159e+06), v:(1121.71, -422.364, 3343.02), clk bias:7.41852e-07, clk drift:9.09495e-13, relcorr:2.27471e-09\n",
      "FREQ -7\n",
      "--------------------------\n",
      "PRN 10\n",
      "pos x:(-1.97716e+07, 7.71329e+06, 1.42007e+07), v:(1634.33, -1073.66, 2848.92), clk bias:7.42913e-07, clk drift:9.09495e-13, relcorr:3.07674e-09\n",
      "FREQ -7\n",
      "--------------------------\n",
      "PRN 10\n",
      "pos x:(-1.65723e+07, 5.15996e+06, 1.87152e+07), v:(1872.6, -1759.59, 2134.61), clk bias:7.45157e-07, clk drift:9.09495e-13, relcorr:3.62622e-09\n",
      "FREQ -7\n",
      "--------------------------\n",
      "PRN 10\n",
      "pos x:(-1.32009e+07, 1.42727e+06, 2.17856e+07), v:(1828.04, -2364.97, 1254.63), clk bias:7.46766e-07, clk drift:9.09495e-13, relcorr:3.87983e-09\n",
      "FREQ -7\n",
      "--------------------------\n",
      "PRN 10\n",
      "pos x:(-1.01392e+07, -3.24104e+06, 2.31728e+07), v:(1538.43, -2783.08, 276.468), clk bias:7.47754e-07, clk drift:0, relcorr:3.82298e-09\n",
      "FREQ -7\n",
      "--------------------------\n",
      "PRN 10\n",
      "pos x:(-7.76378e+06, -8.4304e+06, 2.27672e+07), v:(1081.03, -2933.53, -724.45), clk bias:7.49974e-07, clk drift:0, relcorr:3.46616e-09\n",
      "FREQ -7\n",
      "--------------------------\n",
      "PRN 10\n",
      "pos x:(-6.28626e+06, -1.3616e+07, 2.05978e+07), v:(559.314, -2775.95, -1670.52), clk bias:7.4873e-07, clk drift:0, relcorr:2.84706e-09\n",
      "FREQ -7\n",
      "--------------------------\n",
      "PRN 10\n",
      "pos x:(1.53514e+07, -712708, 2.03732e+07), v:(-2232.66, 1682.93, 1732.87), clk bias:7.77598e-07, clk drift:9.09495e-13, relcorr:3.78151e-09\n",
      "FREQ -7\n",
      "--------------------------\n",
      "PRN 10\n",
      "pos x:(1.13524e+07, 2.83253e+06, 2.26652e+07), v:(-2164.13, 2233.29, 797.153), clk bias:7.79355e-07, clk drift:0, relcorr:3.8875e-09\n",
      "FREQ -7\n",
      "--------------------------\n",
      "PRN 10\n",
      "pos x:(7.71201e+06, 7.21452e+06, 2.3205e+07), v:(-1844.45, 2596.86, -201.517), clk bias:7.80489e-07, clk drift:0, relcorr:3.68466e-09\n",
      "FREQ -7\n",
      "--------------------------\n",
      "PRN 10\n",
      "pos x:(4.81644e+06, 1.20212e+07, 2.19483e+07), v:(-1352.27, 2695.13, -1185.94), clk bias:7.91221e-07, clk drift:0, relcorr:3.19717e-09\n",
      "FREQ -7\n",
      "--------------------------\n",
      "PRN 10\n",
      "pos x:(2.88473e+06, 1.67339e+07, 1.89903e+07), v:(-792.215, 2489.92, -2079.59), clk bias:7.92879e-07, clk drift:0, relcorr:2.47082e-09\n",
      "FREQ -7\n",
      "--------------------------\n",
      "PRN 10\n",
      "pos x:(1.93729e+06, 2.08074e+07, 1.45584e+07), v:(-277.086, 1990.37, -2812.68), clk bias:7.94713e-07, clk drift:0, relcorr:1.56735e-09\n",
      "FREQ -7\n",
      "--------------------------\n",
      "PRN 10\n",
      "pos x:(1.79869e+06, 2.37553e+07, 8.99578e+06), v:(91.465, 1252.18, -3327.73), clk bias:7.96654e-07, clk drift:0, relcorr:5.57916e-10\n",
      "FREQ -7\n",
      "--------------------------\n",
      "conteo 456\n",
      "INITIAL TIME 2457339 58500000 0.000000000000000 GLO\n",
      "FINAL TIME 2457341 85500000 0.000000000000000 GLO\n"
     ]
    }
   ],
   "source": [
    "navHeader, navData = gpstk.readRinex3Nav(glofile) #glofile\n",
    "# setup ephemeris store to look for satellite positions (GLONASS)\n",
    "g = gpstk.GloEphemerisStore()\n",
    "counter=0\n",
    "Glo_LS = navHeader.leapSeconds #Leap Seconds, info in the header RINEX\n",
    "timeSix = []\n",
    "\n",
    "print \"LEAP SECONDS Glonass\", Glo_LS\n",
    "\n",
    "for navDataObj in navData:\n",
    "    counter += 1\n",
    "    ephem = navDataObj.toGloEphemeris()\n",
    "    tiempo = ephem.getEphemerisEpoch()\n",
    "    xvt = ephem.svXvt(tiempo)\n",
    "    freq = ephem.getfreqNum()\n",
    "    g.addEphemeris(navDataObj)# object call g, have all the information of the Navigation file\n",
    "    \n",
    "    location = gpstk.Position(xvt.x)\n",
    "    if(ephem.getPRNID() == 10):\n",
    "        timeSix.append(tiempo.getSecondOfDay()) # keep in a array \n",
    "        print \"PRN\",ephem.getPRNID() #print the Satellite\n",
    "        print \"pos\",xvt\n",
    "        print \"FREQ\",freq # frequency of the Satellite\n",
    "        print \"--------------------------\"\n",
    "print \"conteo\",counter\n",
    "InitialTimeGlo = g.getInitialTime()\n",
    "FinalTimeGlo = g.getFinalTime()\n",
    "print \"INITIAL TIME\", InitialTimeGlo\n",
    "print \"FINAL TIME\", FinalTimeGlo\n",
    "navData.close()"
   ]
  },
  {
   "cell_type": "markdown",
   "metadata": {},
   "source": [
    "### <font color='red'>OBSERVATION</font> DATA"
   ]
  },
  {
   "cell_type": "code",
   "execution_count": 168,
   "metadata": {
    "collapsed": false,
    "scrolled": true
   },
   "outputs": [
    {
     "name": "stdout",
     "output_type": "stream",
     "text": [
      "TIME OF FIRST OBS 11/13/2015 00:00:00 GPS\n",
      "real position (-838281.8325, 3865775.216, 4987623.8898)\n",
      "observation types [1, 2, 3, 4] ['P1', 'P2', 'L1', 'L2']\n",
      "observation  1  without Navigation info 2457340 00000000 0.000000000000000 GLO\n",
      "observation  2543  without Navigation info 2457340 75630000 0.000000000000000 GLO\n",
      "observation  2544  without Navigation info 2457340 75660000 0.000000000000000 GLO\n",
      "observation  2545  without Navigation info 2457340 75690000 0.000000000000000 GLO\n",
      "observation  2546  without Navigation info 2457340 75720000 0.000000000000000 GLO\n",
      "observation  2547  without Navigation info 2457340 75750000 0.000000000000000 GLO\n",
      "observation  2548  without Navigation info 2457340 75780000 0.000000000000000 GLO\n",
      "observation  2549  without Navigation info 2457340 75810000 0.000000000000000 GLO\n",
      "observation  2550  without Navigation info 2457340 75840000 0.000000000000000 GLO\n",
      "observation  2551  without Navigation info 2457340 75870000 0.000000000000000 GLO\n",
      "observation  2552  without Navigation info 2457340 75900000 0.000000000000000 GLO\n",
      "observation  2553  without Navigation info 2457340 75930000 0.000000000000000 GLO\n",
      "observation  2554  without Navigation info 2457340 75960000 0.000000000000000 GLO\n",
      "observation  2555  without Navigation info 2457340 75990000 0.000000000000000 GLO\n",
      "observation  2556  without Navigation info 2457340 76020000 0.000000000000000 GLO\n",
      "observation  2557  without Navigation info 2457340 76050000 0.000000000000000 GLO\n",
      "observation  2558  without Navigation info 2457340 76080000 0.000000000000000 GLO\n",
      "observation  2559  without Navigation info 2457340 76110000 0.000000000000000 GLO\n",
      "observation  2560  without Navigation info 2457340 76140000 0.000000000000000 GLO\n",
      "observation  2561  without Navigation info 2457340 76170000 0.000000000000000 GLO\n",
      "observation  2562  without Navigation info 2457340 76200000 0.000000000000000 GLO\n",
      "observation  2563  without Navigation info 2457340 76230000 0.000000000000000 GLO\n",
      "observation  2564  without Navigation info 2457340 76260000 0.000000000000000 GLO\n",
      "observation  2565  without Navigation info 2457340 76290000 0.000000000000000 GLO\n",
      "observation  2566  without Navigation info 2457340 76320000 0.000000000000000 GLO\n",
      "observation  2567  without Navigation info 2457340 76350000 0.000000000000000 GLO\n",
      "observation  2568  without Navigation info 2457340 76380000 0.000000000000000 GLO\n",
      "observation  2569  without Navigation info 2457340 76410000 0.000000000000000 GLO\n",
      "observation  2570  without Navigation info 2457340 76440000 0.000000000000000 GLO\n",
      "observation  2571  without Navigation info 2457340 76470000 0.000000000000000 GLO\n",
      "observation  2572  without Navigation info 2457340 76500000 0.000000000000000 GLO\n",
      "observation  2573  without Navigation info 2457340 76530000 0.000000000000000 GLO\n",
      "observation  2574  without Navigation info 2457340 76560000 0.000000000000000 GLO\n",
      "observation  2575  without Navigation info 2457340 76590000 0.000000000000000 GLO\n",
      "observation  2576  without Navigation info 2457340 76620000 0.000000000000000 GLO\n",
      "observation  2577  without Navigation info 2457340 76650000 0.000000000000000 GLO\n",
      "observation  2578  without Navigation info 2457340 76680000 0.000000000000000 GLO\n",
      "observation  2579  without Navigation info 2457340 76710000 0.000000000000000 GLO\n",
      "observation  2580  without Navigation info 2457340 76740000 0.000000000000000 GLO\n",
      "observation  2581  without Navigation info 2457340 76770000 0.000000000000000 GLO\n",
      "observation  2582  without Navigation info 2457340 76800000 0.000000000000000 GLO\n",
      "observation  2583  without Navigation info 2457340 76830000 0.000000000000000 GLO\n",
      "observation  2584  without Navigation info 2457340 76860000 0.000000000000000 GLO\n",
      "observation  2585  without Navigation info 2457340 76890000 0.000000000000000 GLO\n",
      "observation  2586  without Navigation info 2457340 76920000 0.000000000000000 GLO\n",
      "observation  2587  without Navigation info 2457340 76950000 0.000000000000000 GLO\n",
      "observation  2588  without Navigation info 2457340 76980000 0.000000000000000 GLO\n",
      "observation  2589  without Navigation info 2457340 77010000 0.000000000000000 GLO\n",
      "observation  2590  without Navigation info 2457340 77040000 0.000000000000000 GLO\n",
      "observation  2591  without Navigation info 2457340 77070000 0.000000000000000 GLO\n",
      "observation  2592  without Navigation info 2457340 77100000 0.000000000000000 GLO\n",
      "observation  2593  without Navigation info 2457340 77130000 0.000000000000000 GLO\n",
      "observation  2594  without Navigation info 2457340 77160000 0.000000000000000 GLO\n",
      "observation  2595  without Navigation info 2457340 77190000 0.000000000000000 GLO\n",
      "observation  2596  without Navigation info 2457340 77220000 0.000000000000000 GLO\n",
      "observation  2597  without Navigation info 2457340 77250000 0.000000000000000 GLO\n",
      "observation  2598  without Navigation info 2457340 77280000 0.000000000000000 GLO\n",
      "observation  2599  without Navigation info 2457340 77310000 0.000000000000000 GLO\n",
      "observation  2600  without Navigation info 2457340 77340000 0.000000000000000 GLO\n",
      "observation  2601  without Navigation info 2457340 77370000 0.000000000000000 GLO\n",
      "observation  2602  without Navigation info 2457340 77400000 0.000000000000000 GLO\n",
      "observation  2603  without Navigation info 2457340 77430000 0.000000000000000 GLO\n",
      "observation  2604  without Navigation info 2457340 77460000 0.000000000000000 GLO\n",
      "observation  2605  without Navigation info 2457340 77490000 0.000000000000000 GLO\n",
      "observation  2606  without Navigation info 2457340 77520000 0.000000000000000 GLO\n",
      "observation  2607  without Navigation info 2457340 77550000 0.000000000000000 GLO\n",
      "observation  2608  without Navigation info 2457340 77580000 0.000000000000000 GLO\n",
      "observation  2609  without Navigation info 2457340 77610000 0.000000000000000 GLO\n",
      "observation  2610  without Navigation info 2457340 77640000 0.000000000000000 GLO\n",
      "observation  2611  without Navigation info 2457340 77670000 0.000000000000000 GLO\n",
      "observation  2612  without Navigation info 2457340 77700000 0.000000000000000 GLO\n",
      "observation  2613  without Navigation info 2457340 77730000 0.000000000000000 GLO\n",
      "observation  2614  without Navigation info 2457340 77760000 0.000000000000000 GLO\n",
      "observation  2615  without Navigation info 2457340 77790000 0.000000000000000 GLO\n",
      "observation  2616  without Navigation info 2457340 77820000 0.000000000000000 GLO\n",
      "observation  2617  without Navigation info 2457340 77850000 0.000000000000000 GLO\n",
      "observation  2618  without Navigation info 2457340 77880000 0.000000000000000 GLO\n",
      "observation  2619  without Navigation info 2457340 77910000 0.000000000000000 GLO\n",
      "observation  2620  without Navigation info 2457340 77940000 0.000000000000000 GLO\n",
      "observation  2621  without Navigation info 2457340 77970000 0.000000000000000 GLO\n",
      "observation  2622  without Navigation info 2457340 78000000 0.000000000000000 GLO\n",
      "observation  2623  without Navigation info 2457340 78030000 0.000000000000000 GLO\n",
      "observation  2624  without Navigation info 2457340 78060000 0.000000000000000 GLO\n",
      "observation  2625  without Navigation info 2457340 78090000 0.000000000000000 GLO\n",
      "observation  2626  without Navigation info 2457340 78120000 0.000000000000000 GLO\n",
      "observation  2627  without Navigation info 2457340 78150000 0.000000000000000 GLO\n",
      "observation  2628  without Navigation info 2457340 78180000 0.000000000000000 GLO\n",
      "observation  2629  without Navigation info 2457340 78210000 0.000000000000000 GLO\n",
      "observation  2630  without Navigation info 2457340 78240000 0.000000000000000 GLO\n",
      "observation  2631  without Navigation info 2457340 78270000 0.000000000000000 GLO\n",
      "observation  2632  without Navigation info 2457340 78300000 0.000000000000000 GLO\n",
      "observation  2633  without Navigation info 2457340 78330000 0.000000000000000 GLO\n",
      "observation  2634  without Navigation info 2457340 78360000 0.000000000000000 GLO\n",
      "observation  2635  without Navigation info 2457340 78390000 0.000000000000000 GLO\n",
      "observation  2636  without Navigation info 2457340 78420000 0.000000000000000 GLO\n",
      "observation  2637  without Navigation info 2457340 78450000 0.000000000000000 GLO\n",
      "observation  2638  without Navigation info 2457340 78480000 0.000000000000000 GLO\n",
      "observation  2639  without Navigation info 2457340 78510000 0.000000000000000 GLO\n",
      "observation  2640  without Navigation info 2457340 78540000 0.000000000000000 GLO\n",
      "observation  2641  without Navigation info 2457340 78570000 0.000000000000000 GLO\n",
      "observation  2642  without Navigation info 2457340 78600000 0.000000000000000 GLO\n",
      "observation  2643  without Navigation info 2457340 78630000 0.000000000000000 GLO\n",
      "observation  2644  without Navigation info 2457340 78660000 0.000000000000000 GLO\n",
      "observation  2645  without Navigation info 2457340 78690000 0.000000000000000 GLO\n",
      "observation  2646  without Navigation info 2457340 78720000 0.000000000000000 GLO\n",
      "observation  2647  without Navigation info 2457340 78750000 0.000000000000000 GLO\n",
      "observation  2648  without Navigation info 2457340 78780000 0.000000000000000 GLO\n",
      "observation  2649  without Navigation info 2457340 78810000 0.000000000000000 GLO\n",
      "observation  2650  without Navigation info 2457340 78840000 0.000000000000000 GLO\n",
      "observation  2651  without Navigation info 2457340 78870000 0.000000000000000 GLO\n",
      "observation  2652  without Navigation info 2457340 78900000 0.000000000000000 GLO\n",
      "observation  2653  without Navigation info 2457340 78930000 0.000000000000000 GLO\n",
      "observation  2654  without Navigation info 2457340 78960000 0.000000000000000 GLO\n",
      "observation  2655  without Navigation info 2457340 78990000 0.000000000000000 GLO\n",
      "observation  2656  without Navigation info 2457340 79020000 0.000000000000000 GLO\n",
      "observation  2657  without Navigation info 2457340 79050000 0.000000000000000 GLO\n",
      "observation  2658  without Navigation info 2457340 79080000 0.000000000000000 GLO\n",
      "observation  2659  without Navigation info 2457340 79110000 0.000000000000000 GLO\n",
      "observation  2660  without Navigation info 2457340 79140000 0.000000000000000 GLO\n",
      "observation  2661  without Navigation info 2457340 79170000 0.000000000000000 GLO\n",
      "observation  2663  without Navigation info 2457340 79200000 0.000000000000000 GLO\n",
      "observation  2664  without Navigation info 2457340 79230000 0.000000000000000 GLO\n",
      "observation  2665  without Navigation info 2457340 79260000 0.000000000000000 GLO\n",
      "observation  2666  without Navigation info 2457340 79290000 0.000000000000000 GLO\n",
      "observation  2667  without Navigation info 2457340 79320000 0.000000000000000 GLO\n",
      "observation  2668  without Navigation info 2457340 79350000 0.000000000000000 GLO\n",
      "observation  2669  without Navigation info 2457340 79380000 0.000000000000000 GLO\n",
      "observation  2670  without Navigation info 2457340 79410000 0.000000000000000 GLO\n",
      "observation  2671  without Navigation info 2457340 79440000 0.000000000000000 GLO\n",
      "observation  2672  without Navigation info 2457340 79470000 0.000000000000000 GLO\n",
      "observation  2673  without Navigation info 2457340 79500000 0.000000000000000 GLO\n",
      "observation  2674  without Navigation info 2457340 79530000 0.000000000000000 GLO\n",
      "observation  2675  without Navigation info 2457340 79560000 0.000000000000000 GLO\n",
      "observation  2676  without Navigation info 2457340 79590000 0.000000000000000 GLO\n",
      "observation  2677  without Navigation info 2457340 79620000 0.000000000000000 GLO\n",
      "observation  2678  without Navigation info 2457340 79650000 0.000000000000000 GLO\n",
      "observation  2679  without Navigation info 2457340 79680000 0.000000000000000 GLO\n",
      "observation  2680  without Navigation info 2457340 79710000 0.000000000000000 GLO\n",
      "observation  2681  without Navigation info 2457340 79740000 0.000000000000000 GLO\n",
      "observation  2682  without Navigation info 2457340 79770000 0.000000000000000 GLO\n",
      "observation  2683  without Navigation info 2457340 79800000 0.000000000000000 GLO\n",
      "observation  2684  without Navigation info 2457340 79830000 0.000000000000000 GLO\n",
      "observation  2685  without Navigation info 2457340 79860000 0.000000000000000 GLO\n",
      "observation  2686  without Navigation info 2457340 79890000 0.000000000000000 GLO\n",
      "observation  2687  without Navigation info 2457340 79920000 0.000000000000000 GLO\n",
      "observation  2688  without Navigation info 2457340 79950000 0.000000000000000 GLO\n",
      "observation  2689  without Navigation info 2457340 79980000 0.000000000000000 GLO\n",
      "observation  2690  without Navigation info 2457340 80010000 0.000000000000000 GLO\n",
      "observation  2691  without Navigation info 2457340 80040000 0.000000000000000 GLO\n",
      "observation  2692  without Navigation info 2457340 80070000 0.000000000000000 GLO\n",
      "observation  2693  without Navigation info 2457340 80100000 0.000000000000000 GLO\n",
      "observation  2694  without Navigation info 2457340 80130000 0.000000000000000 GLO\n",
      "observation  2695  without Navigation info 2457340 80160000 0.000000000000000 GLO\n",
      "observation  2696  without Navigation info 2457340 80190000 0.000000000000000 GLO\n",
      "observation  2697  without Navigation info 2457340 80220000 0.000000000000000 GLO\n",
      "observation  2698  without Navigation info 2457340 80250000 0.000000000000000 GLO\n",
      "observation  2699  without Navigation info 2457340 80280000 0.000000000000000 GLO\n",
      "observation  2700  without Navigation info 2457340 80310000 0.000000000000000 GLO\n",
      "observation  2701  without Navigation info 2457340 80340000 0.000000000000000 GLO\n",
      "observation  2702  without Navigation info 2457340 80370000 0.000000000000000 GLO\n",
      "observation  2703  without Navigation info 2457340 80400000 0.000000000000000 GLO\n",
      "observation  2704  without Navigation info 2457340 80430000 0.000000000000000 GLO\n",
      "observation  2705  without Navigation info 2457340 80460000 0.000000000000000 GLO\n",
      "observation  2706  without Navigation info 2457340 80490000 0.000000000000000 GLO\n",
      "observation  2707  without Navigation info 2457340 80520000 0.000000000000000 GLO\n",
      "observation  2708  without Navigation info 2457340 80550000 0.000000000000000 GLO\n",
      "observation  2709  without Navigation info 2457340 80580000 0.000000000000000 GLO\n",
      "observation  2710  without Navigation info 2457340 80610000 0.000000000000000 GLO\n",
      "observation  2711  without Navigation info 2457340 80640000 0.000000000000000 GLO\n",
      "observation  2712  without Navigation info 2457340 80670000 0.000000000000000 GLO\n",
      "observation  2713  without Navigation info 2457340 80700000 0.000000000000000 GLO\n",
      "observation  2714  without Navigation info 2457340 80730000 0.000000000000000 GLO\n",
      "observation  2715  without Navigation info 2457340 80760000 0.000000000000000 GLO\n",
      "observation  2716  without Navigation info 2457340 80790000 0.000000000000000 GLO\n",
      "observation  2717  without Navigation info 2457340 80820000 0.000000000000000 GLO\n",
      "observation  2718  without Navigation info 2457340 80850000 0.000000000000000 GLO\n",
      "observation  2719  without Navigation info 2457340 80880000 0.000000000000000 GLO\n",
      "observation  2720  without Navigation info 2457340 80910000 0.000000000000000 GLO\n",
      "observation  2721  without Navigation info 2457340 80940000 0.000000000000000 GLO\n",
      "observation  2722  without Navigation info 2457340 80970000 0.000000000000000 GLO\n",
      "observation  2723  without Navigation info 2457340 81000000 0.000000000000000 GLO\n",
      "observation  2724  without Navigation info 2457340 81030000 0.000000000000000 GLO\n",
      "observation  2725  without Navigation info 2457340 81060000 0.000000000000000 GLO\n",
      "observation  2726  without Navigation info 2457340 81090000 0.000000000000000 GLO\n",
      "observation  2727  without Navigation info 2457340 81120000 0.000000000000000 GLO\n",
      "observation  2728  without Navigation info 2457340 81150000 0.000000000000000 GLO\n",
      "observation  2729  without Navigation info 2457340 81180000 0.000000000000000 GLO\n",
      "observation  2730  without Navigation info 2457340 81210000 0.000000000000000 GLO\n",
      "observation  2731  without Navigation info 2457340 81240000 0.000000000000000 GLO\n",
      "observation  2732  without Navigation info 2457340 81270000 0.000000000000000 GLO\n",
      "observation  2733  without Navigation info 2457340 81300000 0.000000000000000 GLO\n",
      "observation  2734  without Navigation info 2457340 81330000 0.000000000000000 GLO\n",
      "observation  2735  without Navigation info 2457340 81360000 0.000000000000000 GLO\n",
      "observation  2736  without Navigation info 2457340 81390000 0.000000000000000 GLO\n",
      "observation  2737  without Navigation info 2457340 81420000 0.000000000000000 GLO\n",
      "observation  2738  without Navigation info 2457340 81450000 0.000000000000000 GLO\n",
      "observation  2739  without Navigation info 2457340 81480000 0.000000000000000 GLO\n",
      "observation  2740  without Navigation info 2457340 81510000 0.000000000000000 GLO\n",
      "observation  2741  without Navigation info 2457340 81540000 0.000000000000000 GLO\n",
      "observation  2742  without Navigation info 2457340 81570000 0.000000000000000 GLO\n",
      "observation  2743  without Navigation info 2457340 81600000 0.000000000000000 GLO\n",
      "observation  2744  without Navigation info 2457340 81630000 0.000000000000000 GLO\n",
      "observation  2745  without Navigation info 2457340 81660000 0.000000000000000 GLO\n",
      "observation  2746  without Navigation info 2457340 81690000 0.000000000000000 GLO\n",
      "observation  2747  without Navigation info 2457340 81720000 0.000000000000000 GLO\n",
      "observation  2748  without Navigation info 2457340 81750000 0.000000000000000 GLO\n",
      "observation  2749  without Navigation info 2457340 81780000 0.000000000000000 GLO\n",
      "observation  2750  without Navigation info 2457340 81810000 0.000000000000000 GLO\n",
      "observation  2751  without Navigation info 2457340 81840000 0.000000000000000 GLO\n",
      "observation  2752  without Navigation info 2457340 81870000 0.000000000000000 GLO\n",
      "observation  2753  without Navigation info 2457340 81900000 0.000000000000000 GLO\n",
      "observation  2754  without Navigation info 2457340 81930000 0.000000000000000 GLO\n",
      "observation  2755  without Navigation info 2457340 81960000 0.000000000000000 GLO\n",
      "observation  2756  without Navigation info 2457340 81990000 0.000000000000000 GLO\n",
      "observation  2757  without Navigation info 2457340 82020000 0.000000000000000 GLO\n",
      "observation  2758  without Navigation info 2457340 82050000 0.000000000000000 GLO\n",
      "observation  2759  without Navigation info 2457340 82080000 0.000000000000000 GLO\n",
      "observation  2760  without Navigation info 2457340 82110000 0.000000000000000 GLO\n",
      "observation  2761  without Navigation info 2457340 82140000 0.000000000000000 GLO\n",
      "observation  2762  without Navigation info 2457340 82170000 0.000000000000000 GLO\n",
      "observation  2763  without Navigation info 2457340 82200000 0.000000000000000 GLO\n",
      "observation  2764  without Navigation info 2457340 82230000 0.000000000000000 GLO\n",
      "observation  2765  without Navigation info 2457340 82260000 0.000000000000000 GLO\n",
      "observation  2766  without Navigation info 2457340 82290000 0.000000000000000 GLO\n",
      "observation  2767  without Navigation info 2457340 82320000 0.000000000000000 GLO\n",
      "observation  2768  without Navigation info 2457340 82350000 0.000000000000000 GLO\n",
      "observation  2769  without Navigation info 2457340 82380000 0.000000000000000 GLO\n",
      "observation  2770  without Navigation info 2457340 82410000 0.000000000000000 GLO\n",
      "observation  2771  without Navigation info 2457340 82440000 0.000000000000000 GLO\n",
      "observation  2772  without Navigation info 2457340 82470000 0.000000000000000 GLO\n",
      "observation  2773  without Navigation info 2457340 82500000 0.000000000000000 GLO\n",
      "observation  2774  without Navigation info 2457340 82530000 0.000000000000000 GLO\n",
      "observation  2775  without Navigation info 2457340 82560000 0.000000000000000 GLO\n",
      "observation  2776  without Navigation info 2457340 82590000 0.000000000000000 GLO\n",
      "observation  2777  without Navigation info 2457340 82620000 0.000000000000000 GLO\n",
      "observation  2778  without Navigation info 2457340 82650000 0.000000000000000 GLO\n",
      "observation  2779  without Navigation info 2457340 82680000 0.000000000000000 GLO\n",
      "observation  2780  without Navigation info 2457340 82710000 0.000000000000000 GLO\n",
      "observation  2781  without Navigation info 2457340 82740000 0.000000000000000 GLO\n",
      "observation  2782  without Navigation info 2457340 82770000 0.000000000000000 GLO\n",
      "observation  2783  without Navigation info 2457340 82800000 0.000000000000000 GLO\n",
      "observation  2785  without Navigation info 2457340 82830000 0.000000000000000 GLO\n",
      "observation  2786  without Navigation info 2457340 82860000 0.000000000000000 GLO\n",
      "observation  2787  without Navigation info 2457340 82890000 0.000000000000000 GLO\n",
      "observation  2788  without Navigation info 2457340 82920000 0.000000000000000 GLO\n",
      "observation  2789  without Navigation info 2457340 82950000 0.000000000000000 GLO\n",
      "observation  2790  without Navigation info 2457340 82980000 0.000000000000000 GLO\n",
      "observation  2791  without Navigation info 2457340 83010000 0.000000000000000 GLO\n",
      "observation  2792  without Navigation info 2457340 83040000 0.000000000000000 GLO\n",
      "observation  2793  without Navigation info 2457340 83070000 0.000000000000000 GLO\n",
      "observation  2794  without Navigation info 2457340 83100000 0.000000000000000 GLO\n",
      "observation  2795  without Navigation info 2457340 83130000 0.000000000000000 GLO\n",
      "observation  2796  without Navigation info 2457340 83160000 0.000000000000000 GLO\n",
      "observation  2797  without Navigation info 2457340 83190000 0.000000000000000 GLO\n",
      "observation  2798  without Navigation info 2457340 83220000 0.000000000000000 GLO\n",
      "observation  2799  without Navigation info 2457340 83250000 0.000000000000000 GLO\n",
      "observation  2800  without Navigation info 2457340 83280000 0.000000000000000 GLO\n",
      "observation  2801  without Navigation info 2457340 83310000 0.000000000000000 GLO\n",
      "observation  2802  without Navigation info 2457340 83340000 0.000000000000000 GLO\n",
      "observation  2803  without Navigation info 2457340 83370000 0.000000000000000 GLO\n",
      "observation  2804  without Navigation info 2457340 83400000 0.000000000000000 GLO\n",
      "observation  2805  without Navigation info 2457340 83430000 0.000000000000000 GLO\n",
      "observation  2806  without Navigation info 2457340 83460000 0.000000000000000 GLO\n",
      "observation  2807  without Navigation info 2457340 83490000 0.000000000000000 GLO\n",
      "observation  2808  without Navigation info 2457340 83520000 0.000000000000000 GLO\n",
      "observation  2809  without Navigation info 2457340 83550000 0.000000000000000 GLO\n",
      "observation  2810  without Navigation info 2457340 83580000 0.000000000000000 GLO\n",
      "observation  2811  without Navigation info 2457340 83610000 0.000000000000000 GLO\n",
      "observation  2812  without Navigation info 2457340 83640000 0.000000000000000 GLO\n",
      "observation  2813  without Navigation info 2457340 83670000 0.000000000000000 GLO\n",
      "observation  2814  without Navigation info 2457340 83700000 0.000000000000000 GLO\n",
      "observation  2815  without Navigation info 2457340 83730000 0.000000000000000 GLO\n",
      "observation  2816  without Navigation info 2457340 83760000 0.000000000000000 GLO\n",
      "observation  2817  without Navigation info 2457340 83790000 0.000000000000000 GLO\n",
      "observation  2818  without Navigation info 2457340 83820000 0.000000000000000 GLO\n",
      "observation  2819  without Navigation info 2457340 83850000 0.000000000000000 GLO\n",
      "observation  2820  without Navigation info 2457340 83880000 0.000000000000000 GLO\n",
      "observation  2821  without Navigation info 2457340 83910000 0.000000000000000 GLO\n",
      "observation  2822  without Navigation info 2457340 83940000 0.000000000000000 GLO\n",
      "observation  2823  without Navigation info 2457340 83970000 0.000000000000000 GLO\n",
      "observation  2824  without Navigation info 2457340 84000000 0.000000000000000 GLO\n",
      "observation  2825  without Navigation info 2457340 84030000 0.000000000000000 GLO\n",
      "observation  2826  without Navigation info 2457340 84060000 0.000000000000000 GLO\n",
      "observation  2827  without Navigation info 2457340 84090000 0.000000000000000 GLO\n",
      "observation  2828  without Navigation info 2457340 84120000 0.000000000000000 GLO\n",
      "observation  2829  without Navigation info 2457340 84150000 0.000000000000000 GLO\n",
      "observation  2830  without Navigation info 2457340 84180000 0.000000000000000 GLO\n",
      "observation  2831  without Navigation info 2457340 84210000 0.000000000000000 GLO\n",
      "observation  2832  without Navigation info 2457340 84240000 0.000000000000000 GLO\n",
      "observation  2833  without Navigation info 2457340 84270000 0.000000000000000 GLO\n",
      "observation  2834  without Navigation info 2457340 84300000 0.000000000000000 GLO\n",
      "observation  2835  without Navigation info 2457340 84330000 0.000000000000000 GLO\n",
      "observation  2836  without Navigation info 2457340 84360000 0.000000000000000 GLO\n",
      "observation  2837  without Navigation info 2457340 84390000 0.000000000000000 GLO\n",
      "observation  2838  without Navigation info 2457340 84420000 0.000000000000000 GLO\n",
      "observation  2839  without Navigation info 2457340 84450000 0.000000000000000 GLO\n",
      "observation  2840  without Navigation info 2457340 84480000 0.000000000000000 GLO\n",
      "observation  2841  without Navigation info 2457340 84510000 0.000000000000000 GLO\n",
      "observation  2842  without Navigation info 2457340 84540000 0.000000000000000 GLO\n",
      "observation  2843  without Navigation info 2457340 84570000 0.000000000000000 GLO\n",
      "observation  2844  without Navigation info 2457340 84600000 0.000000000000000 GLO\n",
      "observation  2845  without Navigation info 2457340 84630000 0.000000000000000 GLO\n",
      "observation  2846  without Navigation info 2457340 84660000 0.000000000000000 GLO\n",
      "observation  2847  without Navigation info 2457340 84690000 0.000000000000000 GLO\n",
      "observation  2848  without Navigation info 2457340 84720000 0.000000000000000 GLO\n",
      "observation  2849  without Navigation info 2457340 84750000 0.000000000000000 GLO\n",
      "observation  2850  without Navigation info 2457340 84780000 0.000000000000000 GLO\n",
      "observation  2851  without Navigation info 2457340 84810000 0.000000000000000 GLO\n",
      "observation  2852  without Navigation info 2457340 84840000 0.000000000000000 GLO\n",
      "observation  2853  without Navigation info 2457340 84870000 0.000000000000000 GLO\n",
      "observation  2854  without Navigation info 2457340 84900000 0.000000000000000 GLO\n",
      "observation  2855  without Navigation info 2457340 84930000 0.000000000000000 GLO\n",
      "observation  2856  without Navigation info 2457340 84960000 0.000000000000000 GLO\n",
      "observation  2857  without Navigation info 2457340 84990000 0.000000000000000 GLO\n",
      "observation  2858  without Navigation info 2457340 85020000 0.000000000000000 GLO\n",
      "observation  2859  without Navigation info 2457340 85050000 0.000000000000000 GLO\n",
      "observation  2860  without Navigation info 2457340 85080000 0.000000000000000 GLO\n",
      "observation  2861  without Navigation info 2457340 85110000 0.000000000000000 GLO\n",
      "observation  2862  without Navigation info 2457340 85140000 0.000000000000000 GLO\n",
      "observation  2863  without Navigation info 2457340 85170000 0.000000000000000 GLO\n",
      "observation  2864  without Navigation info 2457340 85200000 0.000000000000000 GLO\n",
      "observation  2865  without Navigation info 2457340 85230000 0.000000000000000 GLO\n",
      "observation  2866  without Navigation info 2457340 85260000 0.000000000000000 GLO\n",
      "observation  2867  without Navigation info 2457340 85290000 0.000000000000000 GLO\n",
      "observation  2868  without Navigation info 2457340 85320000 0.000000000000000 GLO\n",
      "observation  2869  without Navigation info 2457340 85350000 0.000000000000000 GLO\n",
      "observation  2870  without Navigation info 2457340 85380000 0.000000000000000 GLO\n",
      "observation  2871  without Navigation info 2457340 85410000 0.000000000000000 GLO\n",
      "observation  2872  without Navigation info 2457340 85440000 0.000000000000000 GLO\n",
      "observation  2873  without Navigation info 2457340 85470000 0.000000000000000 GLO\n",
      "observation  2874  without Navigation info 2457340 85500000 0.000000000000000 GLO\n",
      "observation  2875  without Navigation info 2457340 85530000 0.000000000000000 GLO\n",
      "observation  2876  without Navigation info 2457340 85560000 0.000000000000000 GLO\n",
      "observation  2877  without Navigation info 2457340 85590000 0.000000000000000 GLO\n",
      "observation  2878  without Navigation info 2457340 85620000 0.000000000000000 GLO\n",
      "observation  2879  without Navigation info 2457340 85650000 0.000000000000000 GLO\n",
      "observation  2880  without Navigation info 2457340 85680000 0.000000000000000 GLO\n",
      "observation  2881  without Navigation info 2457340 85710000 0.000000000000000 GLO\n",
      "observation  2882  without Navigation info 2457340 85740000 0.000000000000000 GLO\n",
      "observation  2883  without Navigation info 2457340 85770000 0.000000000000000 GLO\n",
      "observation  2884  without Navigation info 2457340 85800000 0.000000000000000 GLO\n",
      "observation  2885  without Navigation info 2457340 85830000 0.000000000000000 GLO\n",
      "observation  2886  without Navigation info 2457340 85860000 0.000000000000000 GLO\n",
      "observation  2887  without Navigation info 2457340 85890000 0.000000000000000 GLO\n",
      "observation  2888  without Navigation info 2457340 85920000 0.000000000000000 GLO\n",
      "observation  2889  without Navigation info 2457340 85950000 0.000000000000000 GLO\n",
      "observation  2890  without Navigation info 2457340 85980000 0.000000000000000 GLO\n",
      "observation  2891  without Navigation info 2457340 86010000 0.000000000000000 GLO\n",
      "observation  2892  without Navigation info 2457340 86040000 0.000000000000000 GLO\n",
      "observation  2893  without Navigation info 2457340 86070000 0.000000000000000 GLO\n",
      "observation  2894  without Navigation info 2457340 86100000 0.000000000000000 GLO\n",
      "observation  2895  without Navigation info 2457340 86130000 0.000000000000000 GLO\n",
      "observation  2896  without Navigation info 2457340 86160000 0.000000000000000 GLO\n",
      "observation  2897  without Navigation info 2457340 86190000 0.000000000000000 GLO\n",
      "observation  2898  without Navigation info 2457340 86220000 0.000000000000000 GLO\n",
      "observation  2899  without Navigation info 2457340 86250000 0.000000000000000 GLO\n",
      "observation  2900  without Navigation info 2457340 86280000 0.000000000000000 GLO\n",
      "observation  2901  without Navigation info 2457340 86310000 0.000000000000000 GLO\n",
      "observation  2902  without Navigation info 2457340 86340000 0.000000000000000 GLO\n",
      "observation  2903  without Navigation info 2457340 86370000 0.000000000000000 GLO\n"
     ]
    }
   ],
   "source": [
    "observation_types=[\"P1\", \"P2\", \"L1\", \"L2\"]\n",
    "\n",
    "Elevations = []\n",
    "Azimuths = []\n",
    "TimeOfDay = []\n",
    "\n",
    "A_Glonass = []\n",
    "A_GPS = []\n",
    "\n",
    "\n",
    "prefix = \"\"\n",
    "c = 299792458.\n",
    "counter=0\n",
    "gl = 0\n",
    "observations = 0 # Las primeras \"2000\" observaciones, para mas observaciones cambiar el número.\n",
    "\n",
    "obsHeader, obsData = gpstk.readRinex3Obs(obsfile)\n",
    "print obsHeader.stringFirstTime, obsHeader.firstObs\n",
    "#real position (of observer)\n",
    "real_pos = obsHeader.antennaPosition[0], obsHeader.antennaPosition[1], obsHeader.antennaPosition[2]\n",
    "print \"real position\",real_pos\n",
    "#this code for know if have the observation P1,P2,L1,L2, if have not, I can not calculate the position\n",
    "requested_obstypes = observation_types\n",
    "obsidxs = []\n",
    "obstypes = []\n",
    "obsdefs = np.array([i for i in obsHeader.R2ObsTypes])\n",
    "for i in requested_obstypes:\n",
    "    w = np.where(obsdefs==i)[0]\n",
    "    if len(w)!=0:\n",
    "        obsidxs.append(w[0])\n",
    "        obstypes.append(i)\n",
    "    else:\n",
    "        print (\"WARNING! observation `\"+i+\"` no present in file\")\n",
    "print \"observation types\",obsidxs, obstypes\n",
    "\n",
    "\n",
    "obsHeader, obsData = gpstk.readRinex3Obs(obsfile) # MIXED Observer File (GPS + GLONASS)\n",
    "for obsObject in obsData: #round the data\n",
    "    counter += 1 #this counter is for see how much observations of the RINEX\n",
    "    try: #Don't see the first observation, because the first observation is of the last day, and thats have an\n",
    "        #error with the navigation file of Glonass\n",
    "        observations += 1\n",
    "        GPSSat = []\n",
    "        GPSPos = []\n",
    "        GPSClockBias = []\n",
    "        GPSRelatCorr = []\n",
    "        GPSP1 = []\n",
    "\n",
    "        GloSat = []\n",
    "        GloPos = []\n",
    "        GloClockBias = []\n",
    "        GloRelatCorr = []\n",
    "        GloP1 = []\n",
    "        \n",
    "        Elevations = []\n",
    "        Azimuths = []\n",
    "        \n",
    "        #counter += 1\n",
    "        TimeOfDay.append(obsObject.time.getSecondOfDay())\n",
    "        for satID, datumList in obsObject.obs.iteritems():\n",
    "                \n",
    "            \n",
    "                #--------------------GPS----------\n",
    "            if(satID.system == satID.systemGPS):\n",
    "                GPSSat.append(str(satID))\n",
    "                eph   = bcestore.findEphemeris(satID, obsObject.time) #bcestore is a objetc for the ephemeris   \n",
    "                #P1 distance in meters\n",
    "                obsdict = {}\n",
    "                for i in obstypes:\n",
    "                    obsdict[i]=[]\n",
    "                for i in range(len(obsidxs)): #get it all the distance of each type of observation\n",
    "                    obsdict[obstypes[i]].append(obsObject.getObs(satID, obsidxs[i]).data)\n",
    "                    #print obsdict #, but I wanna calculate it\n",
    "                    #obsidxs[0] = 0,  P1\n",
    "                P1 = obsObject.getObs(satID, obsidxs[0]).data\n",
    "                \n",
    "                GPSP1.append(P1)\n",
    "                \n",
    "                svTime = obsObject.time - P1/c #Time of signal transmission at satellite\n",
    "                #print \"SEC GPS*\",obsObject.time.getSecondOfDay(),\"TIME\",obsObject.time,\"*\"\n",
    "                svXvt = eph.svXvt(svTime)\n",
    "                svTime += - svXvt.getClockBias() + svXvt.getRelativityCorr() #minus error clock_bias, plus \n",
    "                svXvt = eph.svXvt(svTime)\n",
    "\n",
    "                pos_prn = [svXvt.x[0], svXvt.x[1], svXvt.x[2]]\n",
    "\n",
    "                elevGPS = obsHeader.antennaPosition.elvAngle(svXvt.getPos())\n",
    "                azimGPS = obsHeader.antennaPosition.azAngle(svXvt.getPos())\n",
    "                \n",
    "                #if(elevGPS >10):\n",
    "                GPSPos.append(pos_prn)\n",
    "                GPSClockBias.append(svXvt.getClockBias())\n",
    "                GPSRelatCorr.append(svXvt.getRelativityCorr())\n",
    "\n",
    "                A_GPS.append([GPSSat,GPSP1,GPSPos,GPSClockBias,elevGPS,azimGPS])\n",
    "                #--------------------GLONASS------------------\n",
    "            elif(satID.system == satID.systemGlonass):\n",
    "                gl += 1\n",
    "                \n",
    "                #P1 distance in meters\n",
    "                obsdict = {}\n",
    "                for i in obstypes:\n",
    "                    obsdict[i]=[]\n",
    "                for i in range(len(obsidxs)): #get it all the distance of each type of observation\n",
    "                    obsdict[obstypes[i]].append(obsObject.getObs(satID, obsidxs[i]).data)\n",
    "\n",
    "                \n",
    "                P1 = obsObject.getObs(satID, obsidxs[0]).data              \n",
    "                GloTime = obsObject.time #Time of the observation\n",
    "                GloTime.setTimeSystem(gpstk.TimeSystem('GLO')) #Trasform time of the observation to GLONASS type (just the type)\n",
    "                svTime = GloTime - P1/c  # Time of signal transmission at satellite, almost 0.07 secs\n",
    "                '''In the GLONASS system, 'clkbias' already includes the relativistic\n",
    "                     correction, therefore we must substract the late from the former.\n",
    "                ORIGINAL CODE: sv.relcorr = sv.computeRelativityCorrection();\n",
    "                ORIGINAL CODE: sv.clkbias = clkbias + clkdrift * (epoch - ephTime) - sv.relcorr;\n",
    "                ''' \n",
    "                svTime += - svXvt.getClockBias()  - Glo_LS # minus Leap Seconds (Glo_LS)\n",
    "                eph   = g.findEphemeris(satID,svTime) #search in the navigation file the Glonass Ephemeris\n",
    "                svXvt = eph.svXvt(svTime) #with RungeKutta Method (4RK) know the position X,Y,Z\n",
    "                pos_prn = [svXvt.x[0], svXvt.x[1], svXvt.x[2]] #resultant position\n",
    "                elevG = obsHeader.antennaPosition.elvAngle(svXvt.getPos())#Elevation\n",
    "                azimG = obsHeader.antennaPosition.azAngle(svXvt.getPos())#Azimuth\n",
    "                Elevations.append(elevG)\n",
    "                Azimuths.append(azimG)\n",
    "        \n",
    "                GloSat.append(str(satID))\n",
    "                GloP1.append(P1)\n",
    "                GloPos.append(pos_prn)\n",
    "                GloClockBias.append(svXvt.getClockBias())\n",
    "                GloRelatCorr.append(svXvt.getRelativityCorr())\n",
    "                A_Glonass.append([GloSat,GloP1,GloPos,GloClockBias,Elevations,Azimuths])\n",
    "    except(Exception):\n",
    "        print \"observation \",counter,\" without Navigation info\", obsObject.time\n",
    "        #This happens because the information of the navigation file of glonass have not all info enough to the observation file\n",
    "\n",
    "names=[\"PRN\",\"P1\", \"POS\", \"CLOCK\",\"ELEV\",\"AZIM\"]\n",
    "A_GPS = pd.DataFrame(A_GPS, columns=names)\n",
    "A_Glonass = pd.DataFrame(A_Glonass, columns=names)\n",
    "        \n",
    "                "
   ]
  },
  {
   "cell_type": "markdown",
   "metadata": {},
   "source": [
    "### Position for GPS - <font color='red'>Last Observation</font> "
   ]
  },
  {
   "cell_type": "markdown",
   "metadata": {},
   "source": [
    "Last Observation"
   ]
  },
  {
   "cell_type": "code",
   "execution_count": 171,
   "metadata": {
    "collapsed": false
   },
   "outputs": [
    {
     "name": "stdout",
     "output_type": "stream",
     "text": [
      "['GLONASS 2' 'GLONASS 3' 'GLONASS 4' 'GLONASS 9' 'GLONASS 10' 'GLONASS 18'\n",
      " 'GLONASS 19' 'GLONASS 20']\n"
     ]
    }
   ],
   "source": [
    "PRNnumberGlonass = np.array(A_Glonass.PRN[0])\n",
    "print PRNnumberGlonass"
   ]
  },
  {
   "cell_type": "code",
   "execution_count": 169,
   "metadata": {
    "collapsed": false
   },
   "outputs": [
    {
     "name": "stdout",
     "output_type": "stream",
     "text": [
      "['GPS 1', 'GPS 3', 'GPS 6', 'GPS 11', 'GPS 17', 'GPS 19', 'GPS 24', 'GPS 28', 'GPS 32']\n"
     ]
    }
   ],
   "source": [
    "print GPSSat # GPS\n",
    "p1 = np.array(GPSP1)\n",
    "pos = np.array(GPSPos)\n",
    "clock = np.array(GPSClockBias)"
   ]
  },
  {
   "cell_type": "code",
   "execution_count": 38,
   "metadata": {
    "collapsed": true
   },
   "outputs": [],
   "source": [
    "ls_computed_pos,A,b,_ = compute_least_squares_position(pos, clock, p1)#With Least Squares, search the "
   ]
  },
  {
   "cell_type": "code",
   "execution_count": 39,
   "metadata": {
    "collapsed": false
   },
   "outputs": [
    {
     "name": "stdout",
     "output_type": "stream",
     "text": [
      "real                   (-838281.8325, 3865775.216, 4987623.8898)\n",
      "LS computed            [ -838285.30157569  3865797.86758464  4987642.89071868]\n",
      "LS error               29.7685015323  distance\n",
      "receiver clock bias    0.000247304901203 secs == 74140.1442071 meters\n",
      "satellite clock biases [  4.40652883e-06   1.38218609e-05   9.46180882e-05  -6.15989259e-04\n",
      "  -1.93917158e-04  -5.22727133e-04  -7.92134706e-06   4.81248289e-04\n",
      "   1.61175785e-05]\n"
     ]
    }
   ],
   "source": [
    "print \"real                  \", real_pos\n",
    "print \"LS computed           \", ls_computed_pos[:3]\n",
    "print \"LS error              \", np.linalg.norm(ls_computed_pos[:3] - real_pos),\" distance\"\n",
    "c = 299792458.\n",
    "print \"receiver clock bias   \", ls_computed_pos[3]/c, \"secs ==\", ls_computed_pos[3], \"meters\"\n",
    "print \"satellite clock biases\", clock"
   ]
  },
  {
   "cell_type": "markdown",
   "metadata": {},
   "source": [
    "### Position for <font color='blue'>GPS</font> -  <font color='red'>All Observations</font>"
   ]
  },
  {
   "cell_type": "code",
   "execution_count": 40,
   "metadata": {
    "collapsed": false
   },
   "outputs": [
    {
     "name": "stdout",
     "output_type": "stream",
     "text": [
      "Average Error Position for GPS:  23.0817763225 [meters]\n",
      "Maximum Error:  38.6677839721 [meters]\n",
      "Minimum Error:  18.886021644 [meters]\n",
      "Errores de posición superiores a 10mil:  503\n",
      "Average Error:  27.8513127807 how much:  2400\n"
     ]
    }
   ],
   "source": [
    "positionGPS = []\n",
    "erroresGPS = []\n",
    "NormErroesGPS = []\n",
    "vistos = []\n",
    "Elevations = []\n",
    "c = 299792458.\n",
    "SumError = 0.\n",
    "posXYGPS = []\n",
    "sumaErroresMayoDiezmil = 0\n",
    "\n",
    "for i in range (0, observations):\n",
    "    p1 = np.array(A_GPS.P1[i])\n",
    "    pos = np.array(A_GPS.POS[i])\n",
    "    clock = np.array(A_GPS.CLOCK[i])\n",
    "    vistos.append(len(A_GPS.PRN[i]))\n",
    "    Elevations.append(A_GPS.ELEV[i])\n",
    "    ls_computed_pos,A,b,_ = compute_least_squares_position(pos, clock, p1)\n",
    "    ls_error = np.linalg.norm(ls_computed_pos[:3] - real_pos) #Absoute error in position \n",
    "    \n",
    "    \n",
    "    if ls_error<10000.: #quitar los errores de posición superiores a 10mil\n",
    "        lastError = ls_error\n",
    "        posXYGPS.append([ls_computed_pos[:1]-real_pos[:1],ls_computed_pos[1:2]-real_pos[1:2]])\n",
    "        pos_cpu = ls_computed_pos[:3]\n",
    "        reciverBias = ls_computed_pos[3]/c\n",
    "        SumError += ls_error\n",
    "        positionGPS.append([pos_cpu,ls_error,reciverBias])\n",
    "        erroresGPS.append(ls_error)\n",
    "    else:\n",
    "        sumaErroresMayoDiezmil += 1#quantity of errors of > 10mil\n",
    "        erroresGPS.append(lastError)\n",
    "\n",
    "names=[\"X\",\"GPS\" ]\n",
    "posXYGPS = pd.DataFrame(posXYGPS, columns=names)        \n",
    "print \"Average Error Position for GPS: \", SumError/observations, \"[meters]\"\n",
    "print \"Maximum Error: \",max(erroresGPS), \"[meters]\"\n",
    "print \"Minimum Error: \",min(erroresGPS), \"[meters]\"\n",
    "print \"Errores de posición superiores a 10mil: \", sumaErroresMayoDiezmil\n",
    "names = [\"PosComputed\",\"PosError\",\"ClockBias\"]\n",
    "positionGPS = pd.DataFrame(positionGPS,columns=names)\n",
    "print \"Average Error: \", reduce(lambda x, y: x + y, erroresGPS) / len(erroresGPS), \"how much: \",len(erroresGPS)-sumaErroresMayoDiezmil"
   ]
  },
  {
   "cell_type": "code",
   "execution_count": 41,
   "metadata": {
    "collapsed": false
   },
   "outputs": [
    {
     "data": {
      "text/plain": [
       "<matplotlib.text.Text at 0xa61bcd2c>"
      ]
     },
     "execution_count": 41,
     "metadata": {},
     "output_type": "execute_result"
    },
    {
     "data": {
      "image/png": "[encoded data removed]",
      "text/plain": [
       "<matplotlib.figure.Figure at 0xa6166c2c>"
      ]
     },
     "metadata": {},
     "output_type": "display_data"
    }
   ],
   "source": [
    "fig=plt.figure(figsize=(20,3))\n",
    "plt.plot(erroresGPS)\n",
    "plt.ylabel(\"Error [meters]\")\n",
    "plt.xlabel(\"Observations\")\n",
    "plt.title('Error Position - GPS')"
   ]
  },
  {
   "cell_type": "code",
   "execution_count": 42,
   "metadata": {
    "collapsed": false
   },
   "outputs": [
    {
     "data": {
      "text/plain": [
       "<matplotlib.text.Text at 0xa61f14ec>"
      ]
     },
     "execution_count": 42,
     "metadata": {},
     "output_type": "execute_result"
    },
    {
     "data": {
      "image/png": "[encoded data removed]",
      "text/plain": [
       "<matplotlib.figure.Figure at 0xa620f08c>"
      ]
     },
     "metadata": {},
     "output_type": "display_data"
    }
   ],
   "source": [
    "fig=plt.figure(figsize=(20,3))\n",
    "plt.plot(vistos)\n",
    "plt.ylabel(\"PRN\")\n",
    "plt.xlabel(\"Observations\")\n",
    "plt.title('PRN Amount - GPS')"
   ]
  },
  {
   "cell_type": "markdown",
   "metadata": {},
   "source": [
    "### Position for <font color='blue'>GLONASS</font> -  <font color='red'>All Observations</font>"
   ]
  },
  {
   "cell_type": "code",
   "execution_count": 55,
   "metadata": {
    "collapsed": false
   },
   "outputs": [
    {
     "name": "stdout",
     "output_type": "stream",
     "text": [
      "Maximum Error:  30.3835095751 [meters]\n",
      "Minimum Error:  7.41031159262 [meters]\n",
      "Errores de posición superiores a 10mil:  28\n",
      "Average Error Position for GLONASS:  16.6750526828 [meters] how much:  2875\n"
     ]
    }
   ],
   "source": [
    "positionGlo = []\n",
    "erroresGlo = []\n",
    "c = 299792458.\n",
    "SumError = 0.\n",
    "vistos = []\n",
    "ElevationsR = []\n",
    "posXYGlo = []\n",
    "sumaErroresMayoDiezmil = 0\n",
    "\n",
    "for i in range (0, observations):\n",
    "    #print A_GPS.PRN[i]\n",
    "    p1 = np.array(A_Glonass.P1[i])\n",
    "    pos = np.array(A_Glonass.POS[i])\n",
    "    clock = np.array(A_Glonass.CLOCK[i])\n",
    "    vistos.append(len(A_Glonass.PRN[i]))\n",
    "    ElevationsR.append(A_Glonass.ELEV[i])\n",
    "    ls_computed_pos,A,b,_ = compute_least_squares_position(pos, clock, p1)\n",
    "    pos_cpu = ls_computed_pos[:3]\n",
    "    pos_cpu = To_WGS83(pos_cpu) #from PZ.02 to WGS83\n",
    "    ls_error = np.linalg.norm(pos_cpu - real_pos)\n",
    "    \n",
    "    if ls_error<10000.: #quitar los errores de posición superiores a 10mil\n",
    "        lastError = ls_error\n",
    "        posXYGlo.append([pos_cpu[:1]-real_pos[:1],pos_cpu[1:2]-real_pos[1:2]])\n",
    "        reciverBias = pos_cpu/c\n",
    "        SumError += ls_error\n",
    "        positionGlo.append([pos_cpu,ls_error,reciverBias])\n",
    "        erroresGlo.append(ls_error)\n",
    "    else:\n",
    "        sumaErroresMayoDiezmil += 1\n",
    "        erroresGlo.append(lastError)\n",
    "        \n",
    "names=[\"X\",\"GLONASS\" ]\n",
    "posXYGlo = pd.DataFrame(posXYGlo, columns=names)\n",
    "\n",
    "print \"Maximum Error: \",max(erroresGlo), \"[meters]\"\n",
    "print \"Minimum Error: \",min(erroresGlo), \"[meters]\"\n",
    "print \"Errores de posición superiores a 10mil: \", sumaErroresMayoDiezmil\n",
    "names = [\"PosComputed\",\"PosError\",\"ClockBias\"]\n",
    "positionGlo = pd.DataFrame(positionGlo,columns=names)\n",
    "print \"Average Error Position for GLONASS: \", SumError/len(erroresGlo), \"[meters]\",\"how much: \",len(erroresGPS)-sumaErroresMayoDiezmil"
   ]
  },
  {
   "cell_type": "code",
   "execution_count": 56,
   "metadata": {
    "collapsed": false
   },
   "outputs": [
    {
     "data": {
      "text/plain": [
       "<matplotlib.text.Text at 0xacfe16cc>"
      ]
     },
     "execution_count": 56,
     "metadata": {},
     "output_type": "execute_result"
    },
    {
     "data": {
      "image/png": "[encoded data removed]",
      "text/plain": [
       "<matplotlib.figure.Figure at 0xa62abecc>"
      ]
     },
     "metadata": {},
     "output_type": "display_data"
    }
   ],
   "source": [
    "fig=plt.figure(figsize=(20,3))\n",
    "plt.plot(erroresGlo)\n",
    "plt.ylabel(\"Error \")\n",
    "plt.xlabel(\"Observations\")\n",
    "plt.title('Position Error - GLONASS')"
   ]
  },
  {
   "cell_type": "code",
   "execution_count": 57,
   "metadata": {
    "collapsed": false
   },
   "outputs": [
    {
     "data": {
      "text/plain": [
       "<matplotlib.text.Text at 0xac440b4c>"
      ]
     },
     "execution_count": 57,
     "metadata": {},
     "output_type": "execute_result"
    },
    {
     "data": {
      "image/png": "[encoded data removed]",
      "text/plain": [
       "<matplotlib.figure.Figure at 0xa5fe03ec>"
      ]
     },
     "metadata": {},
     "output_type": "display_data"
    }
   ],
   "source": [
    "fig=plt.figure(figsize=(20,3))\n",
    "plt.plot(vistos)\n",
    "plt.ylabel(\"PRN\")\n",
    "plt.xlabel(\"Observations\")\n",
    "plt.title('PRN Amount - Glonas')"
   ]
  },
  {
   "cell_type": "code",
   "execution_count": 58,
   "metadata": {
    "collapsed": false
   },
   "outputs": [
    {
     "data": {
      "text/plain": [
       "<matplotlib.text.Text at 0xa5fdcd8c>"
      ]
     },
     "execution_count": 58,
     "metadata": {},
     "output_type": "execute_result"
    },
    {
     "data": {
      "image/png": "[encoded data removed]",
      "text/plain": [
       "<matplotlib.figure.Figure at 0xa607192c>"
      ]
     },
     "metadata": {},
     "output_type": "display_data"
    }
   ],
   "source": [
    "fig=plt.figure(figsize=(20,3))\n",
    "plt.plot(erroresGPS) #Blue  GPS\n",
    "plt.plot(erroresGlo) #Green GLONASS\n",
    "plt.ylabel(\"Error \")\n",
    "plt.xlabel(\"Observations\")\n",
    "plt.title('Position Error GPS (Blue)vs GLONASS (Green)')"
   ]
  },
  {
   "cell_type": "code",
   "execution_count": 59,
   "metadata": {
    "collapsed": false
   },
   "outputs": [
    {
     "data": {
      "image/png": "[encoded data removed]",
      "text/plain": [
       "<matplotlib.figure.Figure at 0xa60687ec>"
      ]
     },
     "metadata": {},
     "output_type": "display_data"
    }
   ],
   "source": [
    "#fig=plt.figure(figsize=(8,8))\n",
    "fig =plt.figure(figsize=(13,6))\n",
    "fig.subplots_adjust(bottom=0.025, left=0.025, top = 0.975, right=0.975)\n",
    "\n",
    "plt.subplot(231)\n",
    "plt.scatter(posXYGPS.X,posXYGPS.GPS, s=1, alpha=0.5, color = 'red')\n",
    "plt.ylabel('Y error [meters]')\n",
    "plt.xlabel('X error [meters]')\n",
    "plt.title('Position Error GPS')\n",
    "\n",
    "plt.subplot(232)\n",
    "plt.scatter(posXYGlo.X,posXYGlo.GLONASS, s=1, alpha=0.5, color = 'blue')\n",
    "plt.xlabel('X error [meters]')\n",
    "plt.title('Position Error GLONASS')\n",
    "\n",
    "plt.subplot(233)\n",
    "plt.scatter(posXYGPS.X,posXYGPS.GPS, s=1, alpha=0.5, color = 'red')\n",
    "plt.scatter(posXYGlo.X,posXYGlo.GLONASS, s=1, alpha=0.5, color = 'blue')\n",
    "plt.xlabel('X error [meters]')\n",
    "plt.title('Position Error GPS vs GLONASS')\n",
    "plt.legend()\n",
    "plt.show()"
   ]
  },
  {
   "cell_type": "code",
   "execution_count": null,
   "metadata": {
    "collapsed": true
   },
   "outputs": [],
   "source": []
  },
  {
   "cell_type": "code",
   "execution_count": null,
   "metadata": {
    "collapsed": true
   },
   "outputs": [],
   "source": []
  },
  {
   "cell_type": "code",
   "execution_count": null,
   "metadata": {
    "collapsed": true
   },
   "outputs": [],
   "source": []
  }
 ],
 "metadata": {
  "kernelspec": {
   "display_name": "Python 2",
   "language": "python",
   "name": "python2"
  },
  "language_info": {
   "codemirror_mode": {
    "name": "ipython",
    "version": 2
   },
   "file_extension": ".py",
   "mimetype": "text/x-python",
   "name": "python",
   "nbconvert_exporter": "python",
   "pygments_lexer": "ipython2",
   "version": "2.7.12"
  }
 },
 "nbformat": 4,
 "nbformat_minor": 0
}
