{
 "cells": [
  {
   "cell_type": "code",
   "execution_count": 8,
   "metadata": {
    "collapsed": false
   },
   "outputs": [],
   "source": [
    "import copy\n",
    "import numpy as np\n",
    "import gpstk\n",
    "import pandas as pd\n",
    "from sympy import *\n",
    "import matplotlib.pyplot as plt\n",
    "from IPython.display import display, HTML\n",
    "from numba import autojit\n",
    "from numpy.linalg import norm\n",
    "%matplotlib inline\n",
    "init_printing(use_latex=True)"
   ]
  },
  {
   "cell_type": "code",
   "execution_count": 9,
   "metadata": {
    "collapsed": true
   },
   "outputs": [],
   "source": [
    "def TableUDREI(UDREIs):\n",
    "    inicio = 0.75\n",
    "    UDRE_mts = []\n",
    "    UDRE_sigma = []\n",
    "    T_UDRE = [0.75,1.,1.25,1.75,2.25,3.,3.75,4.5,5.25,6.,7.5,15.,50.,150,0,0]\n",
    "    T_sigma = [0.0520,0.0924,0.1444,0.2830,0.4678,0.8315,1.2992,1.8709,2.5465,3.3260,5.1968,20.7870,230.9661,2078.695,0,0]\n",
    "    for i in range (0,len(UDREIs)):\n",
    "        UDRE_mts.append(T_UDRE[int(UDREIs[i])])\n",
    "        UDRE_sigma.append(T_sigma[int(UDREIs[i])])\n",
    "    return UDRE_mts,UDRE_sigma"
   ]
  },
  {
   "cell_type": "code",
   "execution_count": 10,
   "metadata": {
    "collapsed": false
   },
   "outputs": [],
   "source": [
    "#functions for calculate position\n",
    "@autojit\n",
    "def apply_earth_rotation_to_svs_position(svs, prs):\n",
    "    c = 299792458\n",
    "    we = 7.2921159e-5\n",
    "    rpos = np.zeros(svs.shape)\n",
    "    pos = np.array(svs)\n",
    "    for i in range(len(pos)):\n",
    "        dt = prs[i]/c\n",
    "        theta = we*dt\n",
    "        R = np.array([[np.cos(theta), np.sin(theta),0.],[-np.sin(theta), np.cos(theta),0.],[0.,0.,1.]])\n",
    "        rpos[i] = R.dot(pos[i])\n",
    "    svs = np.array(rpos)\n",
    "    return svs\n",
    "@autojit\n",
    "def compute_distances(rc, svs):\n",
    "    # return np.array( [np.sqrt((rc[0]-sv[0])**2 + (rc[1]-sv[1])**2) for sv in svs] )\n",
    "    return np.linalg.norm(rc-svs, axis=1) #raiz cuadrada de la suma de los cuadrados de los puntos para medir distancia.\n",
    "@autojit\n",
    "def predict_pseudoranges(x, prns_pos, prns_clockbias):\n",
    "    c = 299792458\n",
    "    rhos    = compute_distances(x[:3], prns_pos)\n",
    "    pranges = rhos + x[3]-c*prns_clockbias\n",
    "    #print \"rhos: \",rhos\n",
    "    #print \"pranges: \", pranges\n",
    "    return rhos, pranges\n",
    "def compute_least_squares_position(svs, svs_clocks, prs, max_iters=200, apply_earth_rotation=True):\n",
    "\n",
    "    #if apply_earth_rotation:\n",
    "    svs = apply_earth_rotation_to_svs_position(svs, prs)\n",
    "    \n",
    "    if len(svs)==0 or len(prs)==0:\n",
    "        return np.array([0.,0.,0.,0.]),None, None, None\n",
    "\n",
    "    ri = np.array([0.,0.,0.,0.])\n",
    "\n",
    "    #for i in range(max_iters):\n",
    "    delta,i = 1,0\n",
    "    while (norm(delta)>1e-8 and i<max_iters): #mientras el delta < 1e-8 y no llegue al maximo de iteraciones\n",
    "        rhos, pranges = predict_pseudoranges(ri, svs, svs_clocks)\n",
    "        b = prs - pranges\n",
    "        A = np.hstack(((ri[:3]-svs)/rhos[:,None],np.ones((len(b), 1))))\n",
    "        delta =  np.linalg.pinv(A.T.dot(A)).dot(A.T).dot(b)\n",
    "        ri += delta\n",
    "        i+=1\n",
    "    return ri, A, b, delta\n",
    "def to_skyplot(elevation, azimut):\n",
    "    e = np.array(elevation)\n",
    "    a = np.array(azimut)\n",
    "    sx = ((90-e)/90) * np.sin (a * (np.pi/180))\n",
    "    sy = ((90-e)/90) * np.cos (a * (np.pi/180))\n",
    "    return (sx,sy)\n",
    "def compute_raim_position(gps_week, gps_sow, prns, prns_pos, pranges,  bcestore):\n",
    "    if len(prns)==0 or len(prns_pos)==0:\n",
    "        return np.array([0,0,0])\n",
    "    t = gpstk.GPSWeekSecond(gps_week, gps_sow).toCommonTime()\n",
    "    prnList = [gpstk.SatID(int(i[3:])) for i in prns]\n",
    "    satVector = gpstk.seqToVector(list(prnList), outtype='vector_SatID')\n",
    "    rangeVector = gpstk.seqToVector([float(i) for i in pranges])\n",
    "    noTropModel = gpstk.ZeroTropModel()\n",
    "    raimSolver = gpstk.PRSolution2()\n",
    "    raimSolver.RAIMCompute(t, satVector, rangeVector, bcestore, noTropModel)   \n",
    "    r = np.array([raimSolver.Solution[0], raimSolver.Solution[1], raimSolver.Solution[2]])\n",
    "    return r\n",
    "def To_WGS84(pos):\n",
    "    newPosPZ = np.array([pos[0]-0.36,pos[1]+0.08,pos[2]+0.18])\n",
    "    return newPosPZ"
   ]
  },
  {
   "cell_type": "markdown",
   "metadata": {},
   "source": [
    "# <font color=\"purple\">SBAS - Space-Based Augmentation System </font>"
   ]
  },
  {
   "cell_type": "markdown",
   "metadata": {},
   "source": [
    "![img](img/GBASconcept.png)\n",
    "![img1](img/SBASconcept.png)"
   ]
  },
  {
   "cell_type": "markdown",
   "metadata": {},
   "source": [
    "The augmentation information provided by SBAS covers <b>corrections and integrity</b> for satellite <b>position</b> errors, satellite <b>clock/time</b> errors and errors induced by the <b>estimation of the delay of the signal while crossing the ionosphere</b>"
   ]
  },
  {
   "cell_type": "markdown",
   "metadata": {},
   "source": [
    "![img](img/SBAS-GBAS.png)"
   ]
  },
  {
   "cell_type": "markdown",
   "metadata": {},
   "source": [
    "- Mohinder S Grewal: \n",
    "pg 270: lo que se puede arreglar con SBAS, Clock error, Ephemeris, Code and Carrier, Signal distorsion, Bias, Ionosphere, Troposphere. "
   ]
  },
  {
   "cell_type": "markdown",
   "metadata": {},
   "source": [
    "![img](http://www.navipedia.net/images/b/b0/SBAS_architecture.png)"
   ]
  },
  {
   "cell_type": "markdown",
   "metadata": {},
   "source": [
    "- <b>RIMS:</b> Ranging and Integrity Monitoring Station(s) <font color=\"blue\">(34)</font>\n",
    "- <b>NLES:</b> are the Navigation Land Earth Stations-<font color=\"blue\">(6)</font>\n",
    "- <b>MCC:</b> is the Mission and Control Center-<font color=\"blue\">(4)</font>\n",
    "- <b>EWAN:</b> EGNOS Wide-Area (communication) Network (EGNOS)-<font color=\"blue\">(1)</font>\n",
    "\n",
    "The <b>RIMS</b> tasks are to perform <b>pseudorange measure- ments</b>, demodulate navigation data, mitigate multipath and interference, verify signal integrity, and to packetize and transmit data to the <b>MCC</b> centers.\n",
    "The <b>MCC</b> then sends all the data to the <b>NLES</b> stations. Every <b>MCC</b> has a backup station that can take over in the event of failure."
   ]
  },
  {
   "cell_type": "markdown",
   "metadata": {},
   "source": [
    "<font color=\"red\">The <b>SBAS</b> space segment</font> is composed by several <font color=\"blue\">geostationary satellites</font> in charge of broadcasting, over the service area, the SBAS navigation message. Typically, the SBAS satellites are <font color=\"blue\">multi-purpose</font> (commercial communication) satellites that carry out an additional navigation payload capable to generate a GPS-like signal that retransmits to the users the navigation message generated on-ground."
   ]
  },
  {
   "cell_type": "markdown",
   "metadata": {},
   "source": [
    "To enhance the performance of the current <b>GNSS</b> with additional information to:"
   ]
  },
  {
   "cell_type": "markdown",
   "metadata": {},
   "source": [
    "- <b>Accuracy:</b> Difference between the measured position at any given time to the actual or true position.\n",
    "- <b>Integrity:</b> Ability of a system to provide timely warnings to users or to shut itself down when it should not be used for navigation. <font color=\"blue\">GPS late 2 hours to notificate to user that to failed a satellite, GLONASS late 16 hours</font>\n",
    "- <b>Continuity:</b> Ability of a system to perform its function without (unpredicted) interruptions during the intended operation.\n",
    "- <b>Availability:</b> Ability of a system to perform its function at initiation of intended operation. System availability is the percentage of time that accuracy, integrity and continuity requirements are met."
   ]
  },
  {
   "cell_type": "markdown",
   "metadata": {},
   "source": [
    "![img](http://sbas-africa.avantiplc.com/wp-content/uploads/2015/10/sbas-coverage-map-02.png)"
   ]
  },
  {
   "cell_type": "markdown",
   "metadata": {},
   "source": [
    "![img](img/sbasNames.png)"
   ]
  },
  {
   "cell_type": "markdown",
   "metadata": {},
   "source": [
    "[Ref](http://mgex.igs.org/IGS_MGEX_Status_SBAS.html)"
   ]
  },
  {
   "cell_type": "markdown",
   "metadata": {},
   "source": [
    "SBAS Repository\n",
    "[HERE](http://sis-perfandata.cnes.fr/main_data.html)"
   ]
  },
  {
   "cell_type": "code",
   "execution_count": 4,
   "metadata": {
    "collapsed": false
   },
   "outputs": [
    {
     "data": {
      "text/plain": [
       "'files'"
      ]
     },
     "execution_count": 4,
     "metadata": {},
     "output_type": "execute_result"
    }
   ],
   "source": [
    "#20 March 2015\n",
    "\n",
    "#Estación en Alemania\n",
    "navfile = \"Rinex_Sbas/IonodphericDay/76/ffmj0760.15n\" \n",
    "obsfile = \"Rinex_Sbas/IonodphericDay/76/ffmj0760.15o\" \n",
    "glofile = \"Rinex_Sbas/IonodphericDay/76/ffmj0760.15g\" \n",
    "\n",
    "#Estación en República Checa\n",
    "#navfile = \"Rinex_Sbas/IonodphericDay/gope0790.15n\" \n",
    "#obsfile = \"Rinex_Sbas/IonodphericDay/gope0790.15o\" \n",
    "#glofile = \"Rinex_Sbas/IonodphericDay/gope0790.15g\" \n",
    "\n",
    "#Repository for SBAS => http://sis-perfandata.cnes.fr/main_data.html\n",
    "sbas_obs = \"Rinex_Sbas/IonodphericDay/76/M1200760.15b\" #20 March 2015 => EGNOS for European Union\n",
    "\n",
    "sbas_EGNOS = \"Rinex_Sbas/315-h/M1203150.15h\" #11 nov 2015 => EGNOS \n",
    "sbas_WAAS = \"Rinex_Sbas/315-h/M1333150.15h\" #11 nov 2015 => WAAS for EEUU\n",
    "\n",
    "\n",
    "'''type of data:\n",
    "\n",
    "d = Hatanaka-compressed observation data\n",
    "f = Beidou navigation message data\n",
    "g = GLONASS navigation message data \n",
    "h = SBAS payload navigation message data\n",
    "l = GALILEO navigation message data \n",
    "m = meteorological data\n",
    "n = GPS navigation message data\n",
    "o = observation data\n",
    "p = mixed GNSS navigation message data\n",
    "q = QZSS navigation message data\n",
    "s = observation summary files (extracted from RINEX header)'''\n",
    "\"files\""
   ]
  },
  {
   "cell_type": "markdown",
   "metadata": {},
   "source": [
    "### SBAS Navigation File"
   ]
  },
  {
   "cell_type": "markdown",
   "metadata": {},
   "source": [
    "- <b>SBAS navigation files are similar to Glonass ones</b>, in that both con- tain records of satellite position, velocity and accelerations."
   ]
  },
  {
   "cell_type": "code",
   "execution_count": 5,
   "metadata": {
    "collapsed": false,
    "scrolled": true
   },
   "outputs": [
    {
     "name": "stdout",
     "output_type": "stream",
     "text": [
      "     2.10           H                                       RINEX VERSION / TYPE\r\n",
      "ExtractGEONav_1.14  CNES                18-Nov-15 02:42     PGM / RUN BY / DATE\r\n",
      " 0.000000000000e+00 0.000000000000e+00      0    0 EGNOS  0 D-UTC A0,A1,T,W,S,U\r\n",
      "                                                            END OF HEADER\r\n",
      "20 15 11 11  0  0 48.0 0.000000000000E+00 0.000000000000E+00 2.592621000000E+05\r\n",
      "    4.063672000000e+04 0.000000000000e+00 0.000000000000e+00 3.100000000000e+01\r\n",
      "   -1.124591600000E+04 0.000000000000E+00 0.000000000000E+00-1.000000000000E+00\r\n",
      "    0.000000000000E+00 0.000000000000E+00 0.000000000000E+00 2.230000000000E+02\r\n",
      "20 15 11 11  0  3 28.0 0.000000000000E+00 0.000000000000E+00 2.594191000000E+05\r\n",
      "    4.063672000000e+04 0.000000000000e+00 0.000000000000e+00 1.000000000000e+00\r\n",
      "   -1.124591600000E+04 0.000000000000E+00 0.000000000000E+00-1.000000000000E+00\r\n",
      "    0.000000000000E+00 0.000000000000E+00 0.000000000000E+00 2.240000000000E+02\r\n",
      "20 15 11 11  0  6  8.0 0.000000000000E+00 0.000000000000E+00 2.595791000000E+05\r\n",
      "    4.063672000000e+04 0.000000000000e+00 0.000000000000e+00 1.000000000000e+00\r\n",
      "   -1.124591600000E+04 0.000000000000E+00 0.000000000000E+00-1.000000000000E+00\r\n",
      "    0.000000000000E+00 0.000000000000E+00 0.000000000000E+00 2.250000000000E+02\r\n",
      "20 15 11 11  0  8 48.0 0.000000000000E+00 0.000000000000E+00 2.597391000000E+05\r\n",
      "    4.063672000000e+04 0.000000000000e+00 0.000000000000e+00 1.000000000000e+00\r\n",
      "   -1.124591600000E+04 0.000000000000E+00 0.000000000000E+00-1.000000000000E+00\r\n",
      "    0.000000000000E+00 0.000000000000E+00 0.000000000000E+00 2.260000000000E+02\r\n",
      "20 15 11 11  0 11 28.0 0.000000000000E+00 0.000000000000E+00 2.598991000000E+05\r\n",
      "    4.063672000000e+04 0.000000000000e+00 0.000000000000e+00 1.000000000000e+00\r\n",
      "   -1.124591600000E+04 0.000000000000E+00 0.000000000000E+00-1.000000000000E+00\r\n",
      "    0.000000000000E+00 0.000000000000E+00 0.000000000000E+00 2.270000000000E+02\r\n",
      "20 15 11 11  0 14  8.0 0.000000000000E+00 0.000000000000E+00 2.600591000000E+05\r\n",
      "    4.063672000000e+04 0.000000000000e+00 0.000000000000e+00 1.000000000000e+00\r\n",
      "   -1.124591600000E+04 0.000000000000E+00 0.000000000000E+00-1.000000000000E+00\r\n",
      "    0.000000000000E+00 0.000000000000E+00 0.000000000000E+00 2.280000000000E+02\r\n",
      "20 15 11 11  0 16 48.0 0.000000000000E+00 0.000000000000E+00 2.602191000000E+05\r\n",
      "    4.063672000000e+04 0.000000000000e+00 0.000000000000e+00 1.000000000000e+00\r\n",
      "   -1.124591600000E+04 0.000000000000E+00 0.000000000000E+00-1.000000000000E+00\r\n",
      "    0.000000000000E+00 0.000000000000E+00 0.000000000000E+00 2.290000000000E+02\r\n",
      "20 15 11 11  0 19 28.0 0.000000000000E+00 0.000000000000E+00 2.603791000000E+05\r\n",
      "    4.063672000000e+04 0.000000000000e+00 0.000000000000e+00 1.000000000000e+00\r\n",
      "   -1.124591600000E+04 0.000000000000E+00 0.000000000000E+00-1.000000000000E+00\r\n",
      "    0.000000000000E+00 0.000000000000E+00 0.000000000000E+00 2.300000000000E+02\r\n",
      "20 15 11 11  0 22  8.0 0.000000000000E+00 0.000000000000E+00 2.605361000000E+05\r\n",
      "    4.063672000000e+04 0.000000000000e+00 0.000000000000e+00 1.000000000000e+00\r\n",
      "   -1.124591600000E+04 0.000000000000E+00 0.000000000000E+00-1.000000000000E+00\r\n",
      "    0.000000000000E+00 0.000000000000E+00 0.000000000000E+00 2.310000000000E+02\r\n",
      "20 15 11 11  0 24 48.0 0.000000000000E+00 0.000000000000E+00 2.606931000000E+05\r\n",
      "    4.063672000000e+04 0.000000000000e+00 0.000000000000e+00 1.000000000000e+00\r\n",
      "   -1.124591600000E+04 0.000000000000E+00 0.000000000000E+00-1.000000000000E+00\r\n",
      "    0.000000000000E+00 0.000000000000E+00 0.000000000000E+00 2.320000000000E+02\r\n",
      "20 15 11 11  0 27 28.0 0.000000000000E+00 0.000000000000E+00 2.608531000000E+05\r\n",
      "    4.063672000000e+04 0.000000000000e+00 0.000000000000e+00 1.000000000000e+00\r\n",
      "   -1.124591600000E+04 0.000000000000E+00 0.000000000000E+00-1.000000000000E+00\r\n",
      "    0.000000000000E+00 0.000000000000E+00 0.000000000000E+00 2.330000000000E+02\r\n",
      "20 15 11 11  0 30  8.0 0.000000000000E+00 0.000000000000E+00 2.610131000000E+05\r\n",
      "    4.063672000000e+04 0.000000000000e+00 0.000000000000e+00 1.000000000000e+00\r\n",
      "   -1.124591600000E+04 0.000000000000E+00 0.000000000000E+00-1.000000000000E+00\r\n",
      "    0.000000000000E+00 0.000000000000E+00 0.000000000000E+00 2.340000000000E+02\r\n",
      "20 15 11 11  0 32 48.0 0.000000000000E+00 0.000000000000E+00 2.611731000000E+05\r\n",
      "    4.063672000000e+04 0.000000000000e+00 0.000000000000e+00 1.000000000000e+00\r\n",
      "   -1.124591600000E+04 0.000000000000E+00 0.000000000000E+00-1.000000000000E+00\r\n",
      "    0.000000000000E+00 0.000000000000E+00 0.000000000000E+00 2.350000000000E+02\r\n",
      "20 15 11 11  0 35 28.0 0.000000000000E+00 0.000000000000E+00 2.613331000000E+05\r\n",
      "    4.063672000000e+04 0.000000000000e+00 0.000000000000e+00 1.000000000000e+00\r\n",
      "   -1.124591600000E+04 0.000000000000E+00 0.000000000000E+00-1.000000000000E+00\r\n",
      "    0.000000000000E+00 0.000000000000E+00 0.000000000000E+00 2.360000000000E+02\r\n",
      "20 15 11 11  0 38  8.0 0.000000000000E+00 0.000000000000E+00 2.614931000000E+05\r\n",
      "    4.063672000000e+04 0.000000000000e+00 0.000000000000e+00 1.000000000000e+00\r\n",
      "   -1.124591600000E+04 0.000000000000E+00 0.000000000000E+00-1.000000000000E+00\r\n",
      "    0.000000000000E+00 0.000000000000E+00 0.000000000000E+00 2.370000000000E+02\r\n",
      "20 15 11 11  0 40 48.0 0.000000000000E+00 0.000000000000E+00 2.616531000000E+05\r\n"
     ]
    }
   ],
   "source": [
    "!head -65 $sbas_EGNOS #Navigation File of SBAS"
   ]
  },
  {
   "cell_type": "markdown",
   "metadata": {},
   "source": [
    "![img](img/navHeader.png)"
   ]
  },
  {
   "cell_type": "markdown",
   "metadata": {},
   "source": [
    "![img](img/navData.png)"
   ]
  },
  {
   "cell_type": "code",
   "execution_count": 6,
   "metadata": {
    "collapsed": false,
    "scrolled": true
   },
   "outputs": [
    {
     "name": "stdout",
     "output_type": "stream",
     "text": [
      "     2.10           B                                       RINEX VERSION / TYPE\r\n",
      "ConsolideSBAS       CNES                15/03/24 02:41      PGM / RUN BY / DATE\r\n",
      "                    SBAS consolidation file for PRN 120     COMMENT\r\n",
      "                                                            END OF HEADER\r\n",
      "120 15 03 17 00 00 00.1  L1    32     0   SBA\r\n",
      "  4    53 12 80 03 FD 00 14 00 00 00 00 00 00 00 00 00 00 00\r\n",
      "       00 00 00 03 B9 7B BB 80 00 00 39 D6 9F 40\r\n",
      "120 15 03 17 00 00 01.1  L1    32     0   SBA\r\n",
      "  3    9A 0D BF CC 04 80 00 00 7F 90 00 3F BB F8 C0 00 00 00\r\n",
      "       00 00 00 03 9B 95 B9 9B BB B9 8D 60 04 80\r\n",
      "120 15 03 17 00 00 02.1  L1    32     0   SBA\r\n",
      "  2    C6 0A 80 00 00 00 03 FE 80 00 00 00 08 00 00 00 00 00\r\n",
      "       03 FF 80 03 BB BB B9 FB BB 9B 96 50 FF C0\r\n",
      "120 15 03 17 00 00 03.1  L1    32     0   SBA\r\n",
      " 25    53 64 7A 30 7F 99 E8 02 51 2E 0F F3 44 00 24 28 A3 C0\r\n",
      "       F2 00 3F 96 85 05 21 3E F7 FD 00 33 7D 00\r\n",
      "120 15 03 17 00 00 04.1  L1    32     0   SBA\r\n",
      "  4    9A 10 80 03 FD 40 14 00 00 00 00 00 00 00 00 00 00 00\r\n",
      "       00 00 00 03 B9 7B BB 80 00 00 34 E0 85 80\r\n",
      "120 15 03 17 00 00 05.1  L1    32     0   SBA\r\n",
      "  3    C6 0E BF D0 04 80 00 00 7F 94 00 3F BF F8 C0 00 00 00\r\n",
      "       00 00 00 03 9B 95 B9 9B BB B9 94 7D 74 C0\r\n",
      "120 15 03 17 00 00 06.1  L1    32     0   SBA\r\n",
      "  2    53 08 80 00 00 00 03 FE 40 00 00 00 0C 00 00 00 00 00\r\n",
      "       03 FF 80 03 BB BB B9 FB BB 9B 88 AE 59 40\r\n",
      "120 15 03 17 00 00 07.1  L1    32     0   SBA\r\n",
      "  7    9A 1C E3 FF FF FF FF FF FF FF FF FF FF FF FF FF FF FF\r\n",
      "       FF C0 00 00 00 00 00 00 00 00 22 80 D3 00\r\n",
      "120 15 03 17 00 00 08.1  L1    32     0   SBA\r\n",
      "  4    C6 11 80 03 FD 00 14 00 00 00 00 00 00 00 00 00 00 00\r\n",
      "       00 00 00 03 B9 7B BB 80 00 00 02 02 61 40\r\n",
      "120 15 03 17 00 00 09.1  L1    32     0   SBA\r\n",
      "  3    53 0C BF D0 04 80 00 00 7F 94 00 3F BF F8 C0 00 00 00\r\n",
      "       00 00 00 01 9B 95 B9 9B BB B9 88 6F 0C 40\r\n",
      "120 15 03 17 00 00 10.1  L1    32     0   SBA\r\n",
      "  2    9A 09 80 00 00 00 03 FE 40 00 00 00 0C 00 00 00 00 00\r\n",
      "       03 FF 80 03 BB BB B9 FB BB 9B A4 DF B8 80\r\n",
      "120 15 03 17 00 00 11.1  L1    32     0   SBA\r\n",
      " 26    C6 69 43 FD FF EF FF 7F FB C2 2E 0E 80 74 03 60 14 FF\r\n",
      "       EF FF 78 5F 42 98 11 70 74 00 31 85 71 40\r\n",
      "120 15 03 17 00 00 12.1  L1    32     0   SBA\r\n",
      "  4    53 12 80 03 FD 40 14 00 00 00 00 00 00 00 00 00 00 00\r\n",
      "       00 00 00 03 B9 7B BB 80 00 00 2A 99 BA 40\r\n",
      "120 15 03 17 00 00 13.1  L1    32     0   SBA\r\n",
      "  3    9A 0D BF D0 04 80 00 00 7F 94 00 3F BF F8 C0 00 00 00\r\n",
      "       00 00 00 01 9B 95 B9 9B BB B9 A4 1E ED 80\r\n",
      "120 15 03 17 00 00 14.1  L1    32     0   SBA\r\n",
      "  2    C6 0A 80 00 00 00 03 FE 40 00 00 00 0C 00 00 00 00 00\r\n",
      "       03 FF 80 03 BB BB B9 FB BB 97 B0 6B DF 00\r\n",
      "120 15 03 17 00 00 15.1  L1    32     0   SBA\r\n",
      " 26    53 68 C3 FD FF EF FF 7F FB FF DF FE FF F7 FF BF FD FF\r\n",
      "       EF FF 7F FB FF DF FE FF F7 80 0F 22 1A C0\r\n",
      "120 15 03 17 00 00 16.1  L1    32     0   SBA\r\n",
      "  4    9A 10 80 03 FD 40 14 00 00 00 00 00 00 00 00 00 00 00\r\n",
      "       00 00 00 03 B9 7B BB 80 00 00 34 E0 85 80\r\n",
      "120 15 03 17 00 00 17.1  L1    32     0   SBA\r\n",
      "  3    C6 0E BF D0 04 80 00 00 7F 94 00 3F BF F8 C0 00 00 00\r\n",
      "       00 00 00 01 9B 95 B9 9B BB B9 82 CD 52 00\r\n",
      "120 15 03 17 00 00 18.1  L1    32     0   SBA\r\n",
      "  2    53 08 80 00 00 00 03 FE 40 00 00 00 0C 00 00 00 00 00\r\n",
      "       03 FF 80 03 BB BB B9 FB BB 97 BA C9 81 40\r\n",
      "120 15 03 17 00 00 19.1  L1    32     0   SBA\r\n",
      " 26    9A 69 13 FD E1 AC 09 C0 3E 41 D2 0C 80 4B FF BF FD FF\r\n",
      "       EF 0C 68 46 01 F0 0E 80 64 00 22 3A EF 00\r\n",
      "120 15 03 17 00 00 20.1  L1    32     0   SBA\r\n"
     ]
    }
   ],
   "source": [
    "!head -65 $sbas_obs"
   ]
  },
  {
   "cell_type": "markdown",
   "metadata": {},
   "source": [
    "one message foe each second"
   ]
  },
  {
   "cell_type": "markdown",
   "metadata": {},
   "source": [
    "### SBAS Observation File\n",
    "[HELP](http://www.navipedia.net/index.php/The_EGNOS_SBAS_Message_Format_Explained)"
   ]
  },
  {
   "cell_type": "markdown",
   "metadata": {},
   "source": [
    "![img](img/obsHeader.png)"
   ]
  },
  {
   "cell_type": "markdown",
   "metadata": {},
   "source": [
    "![img](img/obsData.png)"
   ]
  },
  {
   "cell_type": "markdown",
   "metadata": {},
   "source": [
    "#### The Message in Binary is separate like the next table"
   ]
  },
  {
   "cell_type": "markdown",
   "metadata": {},
   "source": [
    "![img](img/MT.png)"
   ]
  },
  {
   "cell_type": "markdown",
   "metadata": {},
   "source": [
    "![img](img/SBASmesgFormat.png)"
   ]
  },
  {
   "cell_type": "markdown",
   "metadata": {},
   "source": [
    "![img](img/RTCA.png)\n",
    "http://infostore.saiglobal.com/store/details.aspx?ProductID=580789"
   ]
  },
  {
   "cell_type": "markdown",
   "metadata": {},
   "source": [
    "A brief explanation of the different data fields is presented hereafter:\n",
    "\n",
    "- <b>Preamble</b>. It is a unique 24–bit field, distributed over three successive words. The preamble sequence (in three consecutive words) is 01010011 (83) (hex 53)- 10011010 (154) (hex 9A)- 11000110 (198) (hex C6). It is assured that the start of the preamble is synchronous with a 6-second GPS sub-frame. Thus, the preamble allows the receiver to achieve frame synchronisation.\n",
    "- <b>Message Type Identifier</b>. It is a 6-bit field, which permits up to <b>64 different messages</b> (identifiers 0 to 63). Depending on the message type, the information included in the Data field has different meaning. Even though <b>64 type messages are available</b>, only <b>20 are currently defined</b>.\n",
    "- <b>Data Field</b>. It contains different corrections and integrity information that depends on the type of message. The specific content of this field will be addressed in the following sections.\n",
    "- <b>Parity Information</b>. The 24 bits of the end of the message (CRC parity bits) provide protection against burst and random error. For more information on parity bits algorithm generator see MOPS\n",
    "- In Repositories the project [goGPS](https://github.com/goGPS-Project) have the code in matlab for read the SBAS codes."
   ]
  },
  {
   "cell_type": "markdown",
   "metadata": {},
   "source": [
    "![img](img/improveSBAS.png)"
   ]
  },
  {
   "cell_type": "code",
   "execution_count": 7,
   "metadata": {
    "collapsed": true
   },
   "outputs": [],
   "source": [
    "def Read_SBAS_obs(SBAS_File,Limit):\n",
    "    FileObs = []\n",
    "    with open(SBAS_File) as f:\n",
    "        content = f.readlines()\n",
    "        i = 0\n",
    "        Row = 0\n",
    "        msgHx = \"\"\n",
    "        MT = \"\"\n",
    "        info = \"\"\n",
    "        SATID = []\n",
    "        Year = []\n",
    "        Month = []\n",
    "        Day = []\n",
    "        Hour = []\n",
    "        Min = []\n",
    "        Sec = []\n",
    "        Band = []\n",
    "        LDM = []\n",
    "        FICI = []\n",
    "        TSI = []\n",
    "        MTs = []\n",
    "        Mensaje = []\n",
    "        for fila in content:\n",
    "            i+= 1\n",
    "            if i >= 5: # dont raead the header\n",
    "                #each 3 rows have information\n",
    "                Row+= 1\n",
    "                if Row == 1:\n",
    "                    info = fila.split()\n",
    "                if Row == 2:\n",
    "                    fila = fila.strip('\\n')\n",
    "                    fila = fila.strip('\\t')\n",
    "                    fila = fila.replace(\" \",\"\")\n",
    "                    MT = (fila[0])\n",
    "                    other = fila[1:]\n",
    "                    msgHx += other\n",
    "                if Row == 3:\n",
    "                    #new = \"\".join(fila.split(\"\\n\"))\n",
    "                    fila = fila.strip('\\n')\n",
    "                    fila = fila.strip('\\t')\n",
    "                    fila = fila.replace(\" \",\"\")\n",
    "                    msgHx += fila\n",
    "                    Row = 0\n",
    "                    #if MT == \"2\" or MT == \"3\" or MT == \"4\" or MT == \"5\" or MT == \"24\" or MT == \"18\" or MT == \"26\":\n",
    "                    \n",
    "                    SATID.append(int(info[0]))\n",
    "                    Year.append(int(info[1]))\n",
    "                    Month.append(int(info[2]))\n",
    "                    Day.append(int(info[3]))\n",
    "                    Hour.append(int(info[4]))\n",
    "                    Min.append(int(info[5]))\n",
    "                    Sec.append(float(info[6]))\n",
    "                    Band.append(info[7])\n",
    "                    LDM.append(int(info[8]))\n",
    "                    FICI.append(int(info[9]))\n",
    "                    TSI.append(info[10])\n",
    "                    MTs.append(int(MT))\n",
    "                    Mensaje.append(msgHx)\n",
    "                    msgHx = \"\"\n",
    "                if i == Limit:\n",
    "                    break\n",
    "                RES = pd.DataFrame({\"SATID\":SATID ,\n",
    "                                    \"Year\": Year, \n",
    "                                    \"Month\":Month,\n",
    "                                    \"Day\": Day,\n",
    "                                    \"Hour\": Hour,\n",
    "                                    \"Min\": Min,\n",
    "                                    \"Sec\": Sec,\n",
    "                                    \"Band\": Band,\n",
    "                                    \"LDM\": LDM,\n",
    "                                    \"FICI\": FICI,\n",
    "                                    \"TSI\": TSI,\n",
    "                                    \"MTs\": MTs,\n",
    "                                    \"Mensaje\": Mensaje,})\n",
    "    return RES"
   ]
  },
  {
   "cell_type": "code",
   "execution_count": 8,
   "metadata": {
    "collapsed": false
   },
   "outputs": [],
   "source": [
    "DT_SBAS = Read_SBAS_obs(sbas_obs,10000) #Read the File"
   ]
  },
  {
   "cell_type": "code",
   "execution_count": 9,
   "metadata": {
    "collapsed": false
   },
   "outputs": [
    {
     "data": {
      "text/html": [
       "<div>\n",
       "<table border=\"1\" class=\"dataframe\">\n",
       "  <thead>\n",
       "    <tr style=\"text-align: right;\">\n",
       "      <th></th>\n",
       "      <th>Band</th>\n",
       "      <th>Day</th>\n",
       "      <th>FICI</th>\n",
       "      <th>Hour</th>\n",
       "      <th>LDM</th>\n",
       "      <th>MTs</th>\n",
       "      <th>Mensaje</th>\n",
       "      <th>Min</th>\n",
       "      <th>Month</th>\n",
       "      <th>SATID</th>\n",
       "      <th>Sec</th>\n",
       "      <th>TSI</th>\n",
       "      <th>Year</th>\n",
       "    </tr>\n",
       "  </thead>\n",
       "  <tbody>\n",
       "    <tr>\n",
       "      <th>3326</th>\n",
       "      <td>L1</td>\n",
       "      <td>17</td>\n",
       "      <td>0</td>\n",
       "      <td>0</td>\n",
       "      <td>32</td>\n",
       "      <td>2</td>\n",
       "      <td>6C668CBFDFFEF1EF063431613B07603F7FDFFEFFF7FFBC...</td>\n",
       "      <td>55</td>\n",
       "      <td>3</td>\n",
       "      <td>120</td>\n",
       "      <td>26.1</td>\n",
       "      <td>SBA</td>\n",
       "      <td>15</td>\n",
       "    </tr>\n",
       "    <tr>\n",
       "      <th>3327</th>\n",
       "      <td>L1</td>\n",
       "      <td>17</td>\n",
       "      <td>0</td>\n",
       "      <td>0</td>\n",
       "      <td>32</td>\n",
       "      <td>3</td>\n",
       "      <td>530EBFEC05C000013FB0003FFFFA00000000000000225F...</td>\n",
       "      <td>55</td>\n",
       "      <td>3</td>\n",
       "      <td>120</td>\n",
       "      <td>27.1</td>\n",
       "      <td>SBA</td>\n",
       "      <td>15</td>\n",
       "    </tr>\n",
       "    <tr>\n",
       "      <th>3328</th>\n",
       "      <td>L1</td>\n",
       "      <td>17</td>\n",
       "      <td>0</td>\n",
       "      <td>0</td>\n",
       "      <td>32</td>\n",
       "      <td>2</td>\n",
       "      <td>9A08BFEC000003F58000003F94000003FF000005C003BB...</td>\n",
       "      <td>55</td>\n",
       "      <td>3</td>\n",
       "      <td>120</td>\n",
       "      <td>28.1</td>\n",
       "      <td>SBA</td>\n",
       "      <td>15</td>\n",
       "    </tr>\n",
       "    <tr>\n",
       "      <th>3329</th>\n",
       "      <td>L1</td>\n",
       "      <td>17</td>\n",
       "      <td>0</td>\n",
       "      <td>0</td>\n",
       "      <td>32</td>\n",
       "      <td>4</td>\n",
       "      <td>C6118000000038003F40000000000000000000000003BA...</td>\n",
       "      <td>55</td>\n",
       "      <td>3</td>\n",
       "      <td>120</td>\n",
       "      <td>29.1</td>\n",
       "      <td>SBA</td>\n",
       "      <td>15</td>\n",
       "    </tr>\n",
       "    <tr>\n",
       "      <th>3330</th>\n",
       "      <td>L1</td>\n",
       "      <td>17</td>\n",
       "      <td>0</td>\n",
       "      <td>0</td>\n",
       "      <td>32</td>\n",
       "      <td>2</td>\n",
       "      <td>553647A387B69DF03512F0C75C3A02414420300FD81939...</td>\n",
       "      <td>55</td>\n",
       "      <td>3</td>\n",
       "      <td>120</td>\n",
       "      <td>30.1</td>\n",
       "      <td>SBA</td>\n",
       "      <td>15</td>\n",
       "    </tr>\n",
       "  </tbody>\n",
       "</table>\n",
       "</div>"
      ],
      "text/plain": [
       "     Band  Day  FICI  Hour  LDM  MTs  \\\n",
       "3326   L1   17     0     0   32    2   \n",
       "3327   L1   17     0     0   32    3   \n",
       "3328   L1   17     0     0   32    2   \n",
       "3329   L1   17     0     0   32    4   \n",
       "3330   L1   17     0     0   32    2   \n",
       "\n",
       "                                                Mensaje  Min  Month  SATID  \\\n",
       "3326  6C668CBFDFFEF1EF063431613B07603F7FDFFEFFF7FFBC...   55      3    120   \n",
       "3327  530EBFEC05C000013FB0003FFFFA00000000000000225F...   55      3    120   \n",
       "3328  9A08BFEC000003F58000003F94000003FF000005C003BB...   55      3    120   \n",
       "3329  C6118000000038003F40000000000000000000000003BA...   55      3    120   \n",
       "3330  553647A387B69DF03512F0C75C3A02414420300FD81939...   55      3    120   \n",
       "\n",
       "       Sec  TSI  Year  \n",
       "3326  26.1  SBA    15  \n",
       "3327  27.1  SBA    15  \n",
       "3328  28.1  SBA    15  \n",
       "3329  29.1  SBA    15  \n",
       "3330  30.1  SBA    15  "
      ]
     },
     "execution_count": 9,
     "metadata": {},
     "output_type": "execute_result"
    }
   ],
   "source": [
    "DT_SBAS.tail()"
   ]
  },
  {
   "cell_type": "code",
   "execution_count": 10,
   "metadata": {
    "collapsed": false
   },
   "outputs": [
    {
     "name": "stdout",
     "output_type": "stream",
     "text": [
      "Cantidad Datos: 3331\n"
     ]
    }
   ],
   "source": [
    "List_MTs = list(DT_SBAS.MTs)\n",
    "print \"Cantidad Datos:\", len(List_MTs)"
   ]
  },
  {
   "cell_type": "code",
   "execution_count": 11,
   "metadata": {
    "collapsed": false
   },
   "outputs": [
    {
     "data": {
      "text/plain": [
       "array([4, 3, 2, 7, 1, 9], dtype=int64)"
      ]
     },
     "execution_count": 11,
     "metadata": {},
     "output_type": "execute_result"
    }
   ],
   "source": [
    "DT_SBAS.MTs.unique()"
   ]
  },
  {
   "cell_type": "code",
   "execution_count": 12,
   "metadata": {
    "collapsed": false
   },
   "outputs": [
    {
     "data": {
      "image/png": "[encoded data removed]",
      "text/plain": [
       "<matplotlib.figure.Figure at 0xa5f1ecac>"
      ]
     },
     "metadata": {},
     "output_type": "display_data"
    }
   ],
   "source": [
    "fig =plt.figure(figsize=(10,2))\n",
    "fig.subplots_adjust(bottom=0.025, left=0.025, top = 0.975, right=0.975)\n",
    "\n",
    "plt.xlabel('Message Type')\n",
    "plt.ylabel('Quantity of Message')\n",
    "plt.title(r'Histogram of Message Type')\n",
    "plt.hist(List_MTs, bins = 10)\n",
    "plt.show()"
   ]
  },
  {
   "cell_type": "code",
   "execution_count": 4,
   "metadata": {
    "collapsed": false
   },
   "outputs": [
    {
     "name": "stdout",
     "output_type": "stream",
     "text": [
      "64 hexa,  Size binary info:  256\n",
      "1001101000001100101111111110010000000000001111111111010000000001101111111111100000000000000000000000001111111111110000000000000000000000010000000000100000000000000000000000000101111001010101111011101110010111100101010111101110010100111111110110001111000000 <type 'str'>\n"
     ]
    }
   ],
   "source": [
    "#Example with the frst line of data\n",
    "#hex1 = \"53128038000000003FE00000000000000000\" #first line MT 4\n",
    "#hex2 = \"00000003BBBBBB80000023070480\"\n",
    "hex1 = \"9A0CBFE4003FF401BFF8000003FFC0000040\" #second line MT 3\n",
    "hex2 = \"080000017957BB97957B94FF63C0\"\n",
    "#hex1 = \"C66A5015A08B033815C08E047023011C08E0\" #third line MT 26\n",
    "#hex2 = \"3801E80FBFDFFEFFF7800CA400C2\"\n",
    "#hex1 = \"9A08BFE7FE0000000003FF0000000000003F\" #Random line\n",
    "#hex2 = \"EFFCBFEDA7BB97BBB9559B9DFC00\"\n",
    "dec1 = int(hex1+hex2, 16) #hex to int\n",
    "bina = '{0:04b}'.format(dec1)\n",
    "msg = copy.copy(bina) #1010101010101.... (256 bits)\n",
    "print len(hex1+hex2),\"hexa, \",\"Size binary info: \",len(str(bina))\n",
    "print msg,type(msg)"
   ]
  },
  {
   "cell_type": "markdown",
   "metadata": {},
   "source": [
    "![img](img/Accuaracy_gps_egnos.png)"
   ]
  },
  {
   "cell_type": "code",
   "execution_count": 14,
   "metadata": {
    "collapsed": false
   },
   "outputs": [],
   "source": [
    "def Preamble(BinaryCode):\n",
    "    return hex(int(BinaryCode[0:8],2))\n",
    "\n",
    "def MessageType(BinaryCode):\n",
    "    mt = int(BinaryCode[8:14], 2)\n",
    "    \n",
    "    labelmt = \"\"\n",
    "    if mt==0:\n",
    "        labelmt = \"Don’t use for safety applications\"\n",
    "    if mt==1:\n",
    "        labelmt = \"PRN mask assignments, set up to 51 of 210 possible\"\n",
    "    if mt >= 2 and mt <= 5:\n",
    "        labelmt = \"Fast corrections\"\n",
    "    if mt==6:\n",
    "        labelmt = \"Integrity information\"\n",
    "    if mt==7:\n",
    "        labelmt = \"Fast correction degradation factor\"\n",
    "    if mt==9:\n",
    "        labelmt = \"Geo Navigation message (X,Y,Z, time, etc.)\"\n",
    "    if mt==10:\n",
    "        labelmt = \"Degradation parameters\"\n",
    "    if mt==12:\n",
    "        labelmt = \"SBAS Network time / UTC offset parameters\"\n",
    "    if mt==17:\n",
    "        labelmt = \"Geo satellite almanacs\"\n",
    "    if mt==18:\n",
    "        labelmt = \"Ionospheric grid points masks\"\n",
    "    if mt==24:\n",
    "        labelmt = \"Mixed fast corrections/long term satellite error corrections\"\n",
    "    if mt==25:\n",
    "        labelmt = \"Long term satellite error corrections\"\n",
    "    if mt==26:\n",
    "        labelmt = \"Ionospheric delay corrections\"\n",
    "    if mt==27:\n",
    "        labelmt = \"SBAS Service message\"\n",
    "    if mt==28:\n",
    "        labelmt = \"Clock Ephemeris Covariance Matrix message\"\n",
    "    if mt==62:\n",
    "        labelmt = \"Internal test message\"\n",
    "    if mt==63:\n",
    "        labelmt = \"Null message\"\n",
    "    return mt,labelmt\n",
    "    \n",
    "    \n",
    "def IODP(BinaryCode):\n",
    "    label = \"OK\"\n",
    "    iodp = int(BinaryCode[224:226],2)\n",
    "    if iodp == 3:\n",
    "        label = \"Problem with one or more SVs\"\n",
    "    \n",
    "    return iodp,label"
   ]
  },
  {
   "cell_type": "markdown",
   "metadata": {},
   "source": [
    "# <font color=\"red\">HEADER - Message Type</font>"
   ]
  },
  {
   "cell_type": "code",
   "execution_count": 15,
   "metadata": {
    "collapsed": false
   },
   "outputs": [
    {
     "name": "stdout",
     "output_type": "stream",
     "text": [
      "Preamble:  0x9a\n",
      "Message Type:  (3, 'Fast corrections')\n",
      "IODP:  (2, 'OK')\n"
     ]
    }
   ],
   "source": [
    "print \"Preamble: \",Preamble(msg)\n",
    "print \"Message Type: \", MessageType(msg)\n",
    "print \"IODP: \", IODP(msg)"
   ]
  },
  {
   "cell_type": "markdown",
   "metadata": {},
   "source": [
    "<b>Message type 1: </b>\n",
    "Message type 1 includes the PRN mask assignments, chosen among the applicable GNSS and GEO satellites. Instead of sending for each correction the satellite PRN associated with, a mask is created to save space in the messages. This bit mask contains the i-th bit to 1 to inform that i-th satellite PRN is being used.\n",
    "Although there are 210 slots (bits) in the mask, only a maximum of 51 can be set at a time due to constraint in the limited size available to broadcast information (message type 6 does only have enough free space to allocate UDREI figures for 51 satellites). Corrections are provided only for these satellites.\n",
    "The user will read the mask and then each satellite correction will be related with the satellite via the mask contained in this message. IODP indicates the mask’s applicability to the corrections contained in the messages to which the mask applies. [PRN Slot list](https://github.com/mvglasow/satstat/wiki/NMEA-IDs)\n"
   ]
  },
  {
   "cell_type": "code",
   "execution_count": 16,
   "metadata": {
    "collapsed": false
   },
   "outputs": [
    {
     "data": {
      "text/plain": [
       "'EGNOS MT1 (PRN mask)'"
      ]
     },
     "execution_count": 16,
     "metadata": {},
     "output_type": "execute_result"
    }
   ],
   "source": [
    "'''%EGNOS MT1 message structure (PRN mask):\n",
    "% 8 bit: preamble\n",
    "% 6 bit: message type (MT)\n",
    "% 32 bit: bit mask for GPS satellites, ordered from PRN 1 to 32\n",
    "%   se bit = 0 -> SV to be disregarded\n",
    "%   se bit = 1 -> SV to be used\n",
    "%       es: 01111111111111111111111111111110\n",
    "%       PRN 1  NOT available (bit 1 = 0)\n",
    "%       PRN 2  available     (bit 2 = 1)\n",
    "%       ...\n",
    "%       PRN 31 available     (bit 31 = 1)\n",
    "%       PRN 32 NOT available (bit 32 = 0)\n",
    "% 180 bit: bit mask for other satellites (eg: GLONASS)\n",
    "% 24 bit: parity\n",
    "% TOTAL: 250 bit'''\n",
    "\"EGNOS MT1 (PRN mask)\""
   ]
  },
  {
   "cell_type": "code",
   "execution_count": 17,
   "metadata": {
    "collapsed": false
   },
   "outputs": [
    {
     "data": {
      "text/plain": [
       "'NMEA IDs'"
      ]
     },
     "execution_count": 17,
     "metadata": {},
     "output_type": "execute_result"
    }
   ],
   "source": [
    "'''NMEA IDs can be roughly divided into the following ranges:\n",
    "\n",
    "1–32: GPS\n",
    "33–54: Various SBAS systems (EGNOS, WAAS, SDCM, GAGAN, MSAS) – some IDs still unused\n",
    "55–64: not used (might be assigned to further SBAS systems)\n",
    "65–88: GLONASS\n",
    "89–96: GLONASS (future extensions?)\n",
    "97–192: not used\n",
    "193–195: QZSS\n",
    "196–200: QZSS (future extensions?)\n",
    "201–235: Beidou'''\n",
    "\"NMEA IDs\""
   ]
  },
  {
   "cell_type": "markdown",
   "metadata": {},
   "source": [
    "Elkin David Diaz...."
   ]
  },
  {
   "cell_type": "code",
   "execution_count": 18,
   "metadata": {
    "collapsed": false
   },
   "outputs": [],
   "source": [
    "def PRNAvalible(BinaryCode): #this is part of MT=1\n",
    "    BinaryList = BinaryCode[14:14+235]\n",
    "    label = \"not-assigned\"\n",
    "    if PRN_NMEA == 1:\n",
    "        res = BinaryList[0]\n",
    "    else:\n",
    "        res = BinaryList[PRN_NMEA-1:PRN_NMEA]\n",
    "        \n",
    "    if(PRN_NMEA>=1 and PRN_NMEA<=32):\n",
    "        label = \"GPS\"\n",
    "    if(PRN_NMEA>=65 and PRN_NMEA<=88):\n",
    "        label = \"GLONASS\"\n",
    "    if(PRN_NMEA>=196 and PRN_NMEA<=200):\n",
    "        label = \"QZSS\"\n",
    "    if(PRN_NMEA>=201 and PRN_NMEA<=235):\n",
    "        label = \"Beidou\"\n",
    "    return bool(res),label"
   ]
  },
  {
   "cell_type": "markdown",
   "metadata": {},
   "source": [
    "## Message types 2 to 5:\n",
    "Approximately the <b>$75 $%</b> of the data that sends the GEO contains only Fast Corrections data."
   ]
  },
  {
   "cell_type": "markdown",
   "metadata": {},
   "source": [
    "- <b>Pseudo Range Corrections (PRC):</b> to be added on the pseudorange of each satellite\n",
    "- <b>User Differential Range Correction Indicators (UDREI):</b> are satellite health parameters which take values between 1 (very healthy) and 15 (do not use). Each value is equivalent to a certain weight to be applied on the weighting matrix (explained in detail in section 2.3. The SBAS Basic Positioning Equation). If it is equal to 14 it means that the satellite is not monitored and if it is equal to <b>15</b> it means that the satellite may be experiencing <b>technical problems</b> and its ranging data must not be used.\n",
    "<b>differential corrections range: -256.000 a +255.875 [meters]</b>\n"
   ]
  },
  {
   "cell_type": "markdown",
   "metadata": {},
   "source": [
    "The time of applicability of the fast corrections, which is used in fast correction computation, is defined as the start of the epoch of the SBAS Network Time (SNT) second that is coincident with the transmission of the first bit of the message block (bit belonging to the preamble) at the GEO satellite.\n",
    "The message format is defined the section A.4.4.3 of MOPS, as well as the table that the SBAS user will consider to translate the $UDREI$ to a variance $σ^2UDRE$. Note that the status of the satellite is also included into the UDREI:\n",
    "- <b>Use:</b> UDREIs from 0 to 13 indicates that the satellite is usable.\n",
    "- <b>Not Monitored:</b> UDREI=14 indicates that the satellite does not appear in the mask or even appearing there are not corrections or UDRE values available for it.\n",
    "- <b>Don’t Use:</b> UDREI=15 indicates that an inconsistency has been found for this satellite (alarm situation) or the estimated fast correction is greater than 256.0 m."
   ]
  },
  {
   "cell_type": "markdown",
   "metadata": {},
   "source": [
    "![img](img/MT2.png)"
   ]
  },
  {
   "cell_type": "code",
   "execution_count": 19,
   "metadata": {
    "collapsed": false
   },
   "outputs": [],
   "source": [
    "#This function is just is MT = 2,3,4,0\n",
    "def MT2_FastCorrections(BinaryCode):\n",
    "    #iodp,_ = IODP(BinaryCode)\n",
    "    #compute the PRC - PSEUDORANGE correction\n",
    "    #start bit and end bit of the 13 PRCs in MT 2, 3, 4\n",
    "    start_bit = np.linspace(19,163,13)\n",
    "    end_bit   = np.linspace(30,174,13)\n",
    "    #allocate the 13 binary numbers that correspond to the PRCs\n",
    "    PRCs = []\n",
    "    PRCs_b = []\n",
    "    print \"--------------Pseudorange Range Correction--------------\"\n",
    "    for j in range(0,13):\n",
    "        print int(start_bit[j]),\" To \",int(end_bit[j])\n",
    "        num_bin = msg[int(start_bit[j]-1):int(end_bit[j])]\n",
    "        \n",
    "        num_int = int(num_bin,2)\n",
    "        res = 0.125 # LSB value = 0.125 (m)\n",
    "        param_11 = 2047 #2^(n_bit-1) - 1\n",
    "        #convert in twos complement\n",
    "        p11 = num_int > param_11\n",
    "        num_int = num_int - 4096 * int(p11)#4096 is 2^(11)\n",
    "        PRC = num_int * res # meters\n",
    "        \n",
    "        PRCs.append(num_bin)\n",
    "        PRCs_b.append(PRC)\n",
    "        print \"[\",num_bin,\"]\", \" PRC =>\",PRC\n",
    "        \n",
    "    #start bit and end bit of the 13 UDREIs in MT 2, 3, 4\n",
    "    start_bit_u = np.linspace(175,223,13)#[175 : 4 : 223];\n",
    "    end_bit_u   = np.linspace(178,226,13)#[178 : 4 : 226];\n",
    "    UDREIs = []\n",
    "    UDREIs_b = []\n",
    "    print \"--------------UDREI--------------\" #User Differential Range Error (meters)\n",
    "    for j in range(0,13):\n",
    "        print int(start_bit_u[j]),\" To \",int(end_bit_u[j])\n",
    "        num_bin = msg[int(start_bit_u[j]-1):int(end_bit_u[j])]\n",
    "        UDREIs.append(num_bin)\n",
    "        UDREIs_b.append(int(num_bin,2))\n",
    "        print \"[\",num_bin,\"]\", \" to Int =>\",int(num_bin,2)\n",
    "    #WHAT SATELLITES?\n",
    "    SV = []\n",
    "    MT,_ = MessageType(msg)\n",
    "    if MT == 2 or MT == 0:\n",
    "        SV = range(1,14) #1 to 13\n",
    "    elif MT == 3:\n",
    "        SV = range(14,27) #14 to 26\n",
    "    elif MT == 4:\n",
    "        SV = range(27,40) #27 to 39\n",
    "    elif MT == 5:\n",
    "        SV = range(41,54) #41 to 53\n",
    "    #SATELITES, UDREIs, \n",
    "    return SV,UDREIs_b,PRCs_b"
   ]
  },
  {
   "cell_type": "code",
   "execution_count": 20,
   "metadata": {
    "collapsed": false
   },
   "outputs": [],
   "source": [
    "#This function is just is MT = 24\n",
    "def MT24_FastCorrections(BinaryCode):\n",
    "    iodp,_ = IODP(BinaryCode)\n",
    "    \n",
    "    start_bit = np.linspace(15,75,6)\n",
    "    end_bit   = np.linspace(26,86,6)\n",
    "    #15   27   39   51   63   75\n",
    "    #26   38   50   62   74   86\n",
    "    \n",
    "    PRCs = []\n",
    "    for j in range(0,6):\n",
    "        print int(start_bit[j]),\" To \",int(end_bit[j])\n",
    "        num_bin = msg[int(start_bit[j]-1):int(end_bit[j])]\n",
    "        \n",
    "        num_int = int(num_bin,2)\n",
    "        res = 0.125 # LSB value = 0.125 (m)\n",
    "        param_11 = 2047 #2^(n_bit-1) - 1\n",
    "        #convert in twos complement\n",
    "        p11 = num_int > param_11\n",
    "        num_int = num_int - 4096 * int(p11)#4096 is 2^(11)\n",
    "        PRC = num_int * res # meters\n",
    "        \n",
    "        PRCs.append(PRC)\n",
    "        print \"[\",num_bin,\"]\", \" PRC =>\",PRC\n",
    "        \n",
    "    start_bit_u = np.linspace(87,107,6)\n",
    "    end_bit_u   = np.linspace(90,110,6)\n",
    "    UDREIs = []\n",
    "    for j in range(0,6):\n",
    "        print int(start_bit_u[j]),\" To \",int(end_bit_u[j])\n",
    "        num_bin = msg[int(start_bit_u[j]-1):int(end_bit_u[j])]\n",
    "        UDREIs.append(num_bin)\n",
    "        print \"[\",num_bin,\"]\", \" to Int =>\",int(num_bin,2)\n",
    "    SV_block = [range(1,7),range(14,20),range(27,33)]\n",
    "    iodp = int(BinaryCode[111:112],2)\n",
    "    block_ID = int(BinaryCode[113:114],2) \n",
    "    SV = SV_block[block_ID+1]\n",
    "    iodf = int(BinaryCode[115:116],2) \n",
    "    #NOTE:\n",
    "    # IODF = 0,1,2: OK\n",
    "    #      = 3:     problem with one or more SVs\n",
    "    return SV,UDREIs,PRCs,iodp"
   ]
  },
  {
   "cell_type": "code",
   "execution_count": 21,
   "metadata": {
    "collapsed": false
   },
   "outputs": [
    {
     "name": "stdout",
     "output_type": "stream",
     "text": [
      "--------------Pseudorange Range Correction--------------\n",
      "19  To  30\n",
      "[ 111111111001 ]  PRC => -0.875\n",
      "31  To  42\n",
      "[ 000000000000 ]  PRC => 0.0\n",
      "43  To  54\n",
      "[ 111111111101 ]  PRC => -0.375\n",
      "55  To  66\n",
      "[ 000000000110 ]  PRC => 0.75\n",
      "67  To  78\n",
      "[ 111111111110 ]  PRC => -0.25\n",
      "79  To  90\n",
      "[ 000000000000 ]  PRC => 0.0\n",
      "91  To  102\n",
      "[ 000000000000 ]  PRC => 0.0\n",
      "103  To  114\n",
      "[ 111111111111 ]  PRC => -0.125\n",
      "115  To  126\n",
      "[ 000000000000 ]  PRC => 0.0\n",
      "127  To  138\n",
      "[ 000000000001 ]  PRC => 0.125\n",
      "139  To  150\n",
      "[ 000000000010 ]  PRC => 0.25\n",
      "151  To  162\n",
      "[ 000000000000 ]  PRC => 0.0\n",
      "163  To  174\n",
      "[ 000000000000 ]  PRC => 0.0\n",
      "--------------UDREI--------------\n",
      "175  To  178\n",
      "[ 0101 ]  to Int => 5\n",
      "179  To  182\n",
      "[ 1110 ]  to Int => 14\n",
      "183  To  186\n",
      "[ 0101 ]  to Int => 5\n",
      "187  To  190\n",
      "[ 0101 ]  to Int => 5\n",
      "191  To  194\n",
      "[ 1110 ]  to Int => 14\n",
      "195  To  198\n",
      "[ 1110 ]  to Int => 14\n",
      "199  To  202\n",
      "[ 1110 ]  to Int => 14\n",
      "203  To  206\n",
      "[ 0101 ]  to Int => 5\n",
      "207  To  210\n",
      "[ 1110 ]  to Int => 14\n",
      "211  To  214\n",
      "[ 0101 ]  to Int => 5\n",
      "215  To  218\n",
      "[ 0101 ]  to Int => 5\n",
      "219  To  222\n",
      "[ 1110 ]  to Int => 14\n",
      "223  To  226\n",
      "[ 1110 ]  to Int => 14\n"
     ]
    },
    {
     "data": {
      "text/html": [
       "<div>\n",
       "<table border=\"1\" class=\"dataframe\">\n",
       "  <thead>\n",
       "    <tr style=\"text-align: right;\">\n",
       "      <th></th>\n",
       "      <th>PRC [mts]</th>\n",
       "      <th>Sat</th>\n",
       "      <th>UDRE</th>\n",
       "      <th>UDRE_Mts</th>\n",
       "      <th>UDRE_variance</th>\n",
       "    </tr>\n",
       "  </thead>\n",
       "  <tbody>\n",
       "    <tr>\n",
       "      <th>0</th>\n",
       "      <td>-0.875</td>\n",
       "      <td>14</td>\n",
       "      <td>5</td>\n",
       "      <td>3</td>\n",
       "      <td>0.8315</td>\n",
       "    </tr>\n",
       "    <tr>\n",
       "      <th>1</th>\n",
       "      <td>0.000</td>\n",
       "      <td>15</td>\n",
       "      <td>14</td>\n",
       "      <td>0</td>\n",
       "      <td>0.0000</td>\n",
       "    </tr>\n",
       "    <tr>\n",
       "      <th>2</th>\n",
       "      <td>-0.375</td>\n",
       "      <td>16</td>\n",
       "      <td>5</td>\n",
       "      <td>3</td>\n",
       "      <td>0.8315</td>\n",
       "    </tr>\n",
       "    <tr>\n",
       "      <th>3</th>\n",
       "      <td>0.750</td>\n",
       "      <td>17</td>\n",
       "      <td>5</td>\n",
       "      <td>3</td>\n",
       "      <td>0.8315</td>\n",
       "    </tr>\n",
       "    <tr>\n",
       "      <th>4</th>\n",
       "      <td>-0.250</td>\n",
       "      <td>18</td>\n",
       "      <td>14</td>\n",
       "      <td>0</td>\n",
       "      <td>0.0000</td>\n",
       "    </tr>\n",
       "    <tr>\n",
       "      <th>5</th>\n",
       "      <td>0.000</td>\n",
       "      <td>19</td>\n",
       "      <td>14</td>\n",
       "      <td>0</td>\n",
       "      <td>0.0000</td>\n",
       "    </tr>\n",
       "    <tr>\n",
       "      <th>6</th>\n",
       "      <td>0.000</td>\n",
       "      <td>20</td>\n",
       "      <td>14</td>\n",
       "      <td>0</td>\n",
       "      <td>0.0000</td>\n",
       "    </tr>\n",
       "    <tr>\n",
       "      <th>7</th>\n",
       "      <td>-0.125</td>\n",
       "      <td>21</td>\n",
       "      <td>5</td>\n",
       "      <td>3</td>\n",
       "      <td>0.8315</td>\n",
       "    </tr>\n",
       "    <tr>\n",
       "      <th>8</th>\n",
       "      <td>0.000</td>\n",
       "      <td>22</td>\n",
       "      <td>14</td>\n",
       "      <td>0</td>\n",
       "      <td>0.0000</td>\n",
       "    </tr>\n",
       "    <tr>\n",
       "      <th>9</th>\n",
       "      <td>0.125</td>\n",
       "      <td>23</td>\n",
       "      <td>5</td>\n",
       "      <td>3</td>\n",
       "      <td>0.8315</td>\n",
       "    </tr>\n",
       "    <tr>\n",
       "      <th>10</th>\n",
       "      <td>0.250</td>\n",
       "      <td>24</td>\n",
       "      <td>5</td>\n",
       "      <td>3</td>\n",
       "      <td>0.8315</td>\n",
       "    </tr>\n",
       "    <tr>\n",
       "      <th>11</th>\n",
       "      <td>0.000</td>\n",
       "      <td>25</td>\n",
       "      <td>14</td>\n",
       "      <td>0</td>\n",
       "      <td>0.0000</td>\n",
       "    </tr>\n",
       "    <tr>\n",
       "      <th>12</th>\n",
       "      <td>0.000</td>\n",
       "      <td>26</td>\n",
       "      <td>14</td>\n",
       "      <td>0</td>\n",
       "      <td>0.0000</td>\n",
       "    </tr>\n",
       "  </tbody>\n",
       "</table>\n",
       "</div>"
      ],
      "text/plain": [
       "    PRC [mts]  Sat  UDRE  UDRE_Mts  UDRE_variance\n",
       "0      -0.875   14     5         3         0.8315\n",
       "1       0.000   15    14         0         0.0000\n",
       "2      -0.375   16     5         3         0.8315\n",
       "3       0.750   17     5         3         0.8315\n",
       "4      -0.250   18    14         0         0.0000\n",
       "5       0.000   19    14         0         0.0000\n",
       "6       0.000   20    14         0         0.0000\n",
       "7      -0.125   21     5         3         0.8315\n",
       "8       0.000   22    14         0         0.0000\n",
       "9       0.125   23     5         3         0.8315\n",
       "10      0.250   24     5         3         0.8315\n",
       "11      0.000   25    14         0         0.0000\n",
       "12      0.000   26    14         0         0.0000"
      ]
     },
     "execution_count": 21,
     "metadata": {},
     "output_type": "execute_result"
    }
   ],
   "source": [
    "sv,udreis,prcs = MT2_FastCorrections(msg) #Because MT for this e.g. is 3\n",
    "mts,sigma = TableUDREI(udreis)\n",
    "Results = pd.DataFrame({\"Sat\":sv ,\"UDRE\": udreis, \"UDRE_Mts\":mts, \"UDRE_variance\":sigma,\"PRC [mts]\":prcs})\n",
    "Results"
   ]
  },
  {
   "cell_type": "markdown",
   "metadata": {},
   "source": [
    "<b>UDRE</b> User Differential Range Error (meters) - estimates the uncertainty of the correction"
   ]
  },
  {
   "cell_type": "markdown",
   "metadata": {},
   "source": [
    "![img](img/UDREI.png)"
   ]
  },
  {
   "cell_type": "markdown",
   "metadata": {},
   "source": [
    "### Comparing with SBAS TEACHER by [eesa](http://www.egnos-pro.esa.int/sbasteacher/)"
   ]
  },
  {
   "cell_type": "markdown",
   "metadata": {},
   "source": [
    "![img](img/decode2A.JPG)"
   ]
  },
  {
   "cell_type": "markdown",
   "metadata": {},
   "source": [
    "![img](img/decode2B.JPG)"
   ]
  },
  {
   "cell_type": "code",
   "execution_count": null,
   "metadata": {
    "collapsed": true
   },
   "outputs": [],
   "source": []
  },
  {
   "cell_type": "code",
   "execution_count": null,
   "metadata": {
    "collapsed": true
   },
   "outputs": [],
   "source": []
  },
  {
   "cell_type": "markdown",
   "metadata": {
    "collapsed": true
   },
   "source": [
    "# IONOSPHERIC EXAMPLE"
   ]
  },
  {
   "cell_type": "code",
   "execution_count": 5,
   "metadata": {
    "collapsed": true
   },
   "outputs": [],
   "source": [
    "def HexaToBitMessage(msgHexa):\n",
    "    dec1 = int(msgHexa, 16) #hex to int\n",
    "    bina = '{0:04b}'.format(dec1)\n",
    "    msg = copy.copy(bina) #1010101010101.... (256 bits)\n",
    "    return msg"
   ]
  },
  {
   "cell_type": "markdown",
   "metadata": {},
   "source": [
    "## Message Type 18"
   ]
  },
  {
   "cell_type": "code",
   "execution_count": null,
   "metadata": {
    "collapsed": true
   },
   "outputs": [],
   "source": [
    "'''\n",
    "% INPUT:\n",
    "%   msg = hexadecimal string for 1 EGNOS message (from .ems files)\n",
    "%         eg: msg = ('534964000000FFFFFFC00000001FFFC00001FFFC00003FFFE001FC003C15ABC0');\n",
    "%\n",
    "% OUTPUT:\n",
    "%   n_bands = number of transmitted bands\n",
    "%   band = band number\n",
    "%   iodi = band IODI\n",
    "%   igp_mask = IGP mask\n",
    "%\n",
    "% DESCRIPTION:\n",
    "%   The IGP mask (MT 18) connects the ionospheric delay for each node\n",
    "%   of the MT 26 to the right IGP (Iono Grid Point).'''"
   ]
  },
  {
   "cell_type": "code",
   "execution_count": 53,
   "metadata": {
    "collapsed": true
   },
   "outputs": [],
   "source": [
    "msg = ('534964000000FFFFFFC00000001FFFC00001FFFC00003FFFE001FC003C15ABC0')\n",
    "BinMsg = HexaToBitMessage(msg)"
   ]
  },
  {
   "cell_type": "code",
   "execution_count": 79,
   "metadata": {
    "collapsed": false
   },
   "outputs": [
    {
     "name": "stdout",
     "output_type": "stream",
     "text": [
      "5 9 0 201 201\n"
     ]
    }
   ],
   "source": [
    "n_band = int(BinMsg[13:17], 2)# must be between (0-11)\n",
    "band = int(BinMsg[17:21], 2) # must be between (0-10)\n",
    "iodi = int(BinMsg[21:23], 2) # must be between (0-3)\n",
    "mask = BinMsg[23:201+23]\n",
    "igp = range(1,202)\n",
    "igp_mask = []\n",
    "for i in range (0,201):\n",
    "    if mask[i]=='1':\n",
    "        igp_mask.append(igp[i])\n",
    "    else:\n",
    "        igp_mask.append(0)\n",
    "\n",
    "print n_band,band,iodi,len(mask),len(igp)"
   ]
  },
  {
   "cell_type": "code",
   "execution_count": 80,
   "metadata": {
    "collapsed": false
   },
   "outputs": [
    {
     "data": {
      "image/png": "[encoded data removed]",
      "text/latex": [
       "$$\\left ( \\left [ 0, \\quad 0, \\quad 0, \\quad 0, \\quad 0, \\quad 0, \\quad 0, \\quad 0, \\quad 0, \\quad 0, \\quad 0, \\quad 0, \\quad 0, \\quad 0, \\quad 0, \\quad 0, \\quad 0, \\quad 0, \\quad 0, \\quad 0, \\quad 0, \\quad 0, \\quad 0, \\quad 0, \\quad 25, \\quad 26, \\quad 27, \\quad 28, \\quad 29, \\quad 30, \\quad 31, \\quad 32, \\quad 33, \\quad 34, \\quad 35, \\quad 36, \\quad 37, \\quad 38, \\quad 39, \\quad 40, \\quad 41, \\quad 42, \\quad 43, \\quad 44, \\quad 45, \\quad 46, \\quad 47, \\quad 48, \\quad 49, \\quad 50, \\quad 0, \\quad 0, \\quad 0, \\quad 0, \\quad 0, \\quad 0, \\quad 0, \\quad 0, \\quad 0, \\quad 0, \\quad 0, \\quad 0, \\quad 0, \\quad 0, \\quad 0, \\quad 0, \\quad 0, \\quad 0, \\quad 0, \\quad 0, \\quad 0, \\quad 0, \\quad 0, \\quad 0, \\quad 0, \\quad 0, \\quad 0, \\quad 0, \\quad 0, \\quad 0, \\quad 0, \\quad 0, \\quad 0, \\quad 84, \\quad 85, \\quad 86, \\quad 87, \\quad 88, \\quad 89, \\quad 90, \\quad 91, \\quad 92, \\quad 93, \\quad 94, \\quad 95, \\quad 96, \\quad 97, \\quad 98, \\quad 0, \\quad 0, \\quad 0, \\quad 0, \\quad 0, \\quad 0, \\quad 0, \\quad 0, \\quad 0, \\quad 0, \\quad 0, \\quad 0, \\quad 0, \\quad 0, \\quad 0, \\quad 0, \\quad 0, \\quad 0, \\quad 0, \\quad 0, \\quad 0, \\quad 120, \\quad 121, \\quad 122, \\quad 123, \\quad 124, \\quad 125, \\quad 126, \\quad 127, \\quad 128, \\quad 129, \\quad 130, \\quad 131, \\quad 132, \\quad 133, \\quad 134, \\quad 0, \\quad 0, \\quad 0, \\quad 0, \\quad 0, \\quad 0, \\quad 0, \\quad 0, \\quad 0, \\quad 0, \\quad 0, \\quad 0, \\quad 0, \\quad 0, \\quad 0, \\quad 0, \\quad 0, \\quad 0, \\quad 0, \\quad 0, \\quad 155, \\quad 156, \\quad 157, \\quad 158, \\quad 159, \\quad 160, \\quad 161, \\quad 162, \\quad 163, \\quad 164, \\quad 165, \\quad 166, \\quad 167, \\quad 168, \\quad 169, \\quad 170, \\quad 171, \\quad 0, \\quad 0, \\quad 0, \\quad 0, \\quad 0, \\quad 0, \\quad 0, \\quad 0, \\quad 0, \\quad 0, \\quad 0, \\quad 0, \\quad 184, \\quad 185, \\quad 186, \\quad 187, \\quad 188, \\quad 189, \\quad 190, \\quad 0, \\quad 0, \\quad 0, \\quad 0, \\quad 0, \\quad 0, \\quad 0, \\quad 0, \\quad 0, \\quad 0, \\quad 0\\right ], \\quad 201\\right )$$"
      ],
      "text/plain": [
       "([0, 0, 0, 0, 0, 0, 0, 0, 0, 0, 0, 0, 0, 0, 0, 0, 0, 0, 0, 0, 0, 0, 0, 0, 25, \n",
       "26, 27, 28, 29, 30, 31, 32, 33, 34, 35, 36, 37, 38, 39, 40, 41, 42, 43, 44, 45\n",
       ", 46, 47, 48, 49, 50, 0, 0, 0, 0, 0, 0, 0, 0, 0, 0, 0, 0, 0, 0, 0, 0, 0, 0, 0,\n",
       " 0, 0, 0, 0, 0, 0, 0, 0, 0, 0, 0, 0, 0, 0, 84, 85, 86, 87, 88, 89, 90, 91, 92,\n",
       " 93, 94, 95, 96, 97, 98, 0, 0, 0, 0, 0, 0, 0, 0, 0, 0, 0, 0, 0, 0, 0, 0, 0, 0,\n",
       " 0, 0, 0, 120, 121, 122, 123, 124, 125, 126, 127, 128, 129, 130, 131, 132, 133\n",
       ", 134, 0, 0, 0, 0, 0, 0, 0, 0, 0, 0, 0, 0, 0, 0, 0, 0, 0, 0, 0, 0, 155, 156, 1\n",
       "57, 158, 159, 160, 161, 162, 163, 164, 165, 166, 167, 168, 169, 170, 171, 0, 0\n",
       ", 0, 0, 0, 0, 0, 0, 0, 0, 0, 0, 184, 185, 186, 187, 188, 189, 190, 0, 0, 0, 0,\n",
       " 0, 0, 0, 0, 0, 0, 0], 201)"
      ]
     },
     "execution_count": 80,
     "metadata": {},
     "output_type": "execute_result"
    }
   ],
   "source": [
    "igp_mask,len(igp_mask)"
   ]
  },
  {
   "cell_type": "markdown",
   "metadata": {},
   "source": [
    "#### Load the Iono Grid Point (IGP) masks referring to each band (MT 18)."
   ]
  },
  {
   "cell_type": "code",
   "execution_count": null,
   "metadata": {
    "collapsed": true
   },
   "outputs": [],
   "source": []
  },
  {
   "cell_type": "code",
   "execution_count": null,
   "metadata": {
    "collapsed": true
   },
   "outputs": [],
   "source": []
  },
  {
   "cell_type": "markdown",
   "metadata": {
    "collapsed": true
   },
   "source": [
    "![img](img/MT18.png)"
   ]
  },
  {
   "cell_type": "markdown",
   "metadata": {},
   "source": [
    "## MessageType 26"
   ]
  },
  {
   "cell_type": "code",
   "execution_count": 6,
   "metadata": {
    "collapsed": true
   },
   "outputs": [],
   "source": [
    "messageInospheric = \"536A53FDFFEF05C02DC16E0A7053829C14FFEFFF7FFBFFDFFEFFF7803BEF9280\"\n",
    "#MEssage Type =  26"
   ]
  },
  {
   "cell_type": "code",
   "execution_count": 47,
   "metadata": {
    "collapsed": false
   },
   "outputs": [
    {
     "name": "stdout",
     "output_type": "stream",
     "text": [
      "output band 9\n",
      "output block 4\n",
      "ionospheric vertical delays [ 63.75   63.75    1.375   1.375   1.375   1.25    1.25    1.25    1.25\n",
      "  63.75   63.75   63.75   63.75   63.75   63.75 ]\n",
      "output givei [15, 15, 8, 7, 7, 7, 7, 7, 7, 15, 15, 15, 15, 15, 15]\n"
     ]
    }
   ],
   "source": [
    "#band  = output band\n",
    "#block = output block\n",
    "#ivd   = ionospheric vertical delays\n",
    "#givei = output givei\n",
    "#igp   = output IGP\n",
    "print \"output band\", band\n",
    "print \"output block\", block\n",
    "print \"ionospheric vertical delays\", ivd\n",
    "print \"output givei\",givei"
   ]
  },
  {
   "cell_type": "code",
   "execution_count": 34,
   "metadata": {
    "collapsed": false
   },
   "outputs": [
    {
     "name": "stdout",
     "output_type": "stream",
     "text": [
      "23  To  31\n",
      "111111110  ->  510\n",
      "36  To  44\n",
      "111111110  ->  510\n",
      "49  To  57\n",
      "000001011  ->  11\n",
      "62  To  70\n",
      "000001011  ->  11\n",
      "75  To  83\n",
      "000001011  ->  11\n",
      "88  To  96\n",
      "000001010  ->  10\n",
      "101  To  109\n",
      "000001010  ->  10\n",
      "114  To  122\n",
      "000001010  ->  10\n",
      "127  To  135\n",
      "000001010  ->  10\n",
      "140  To  148\n",
      "111111110  ->  510\n",
      "153  To  161\n",
      "111111110  ->  510\n",
      "166  To  174\n",
      "111111110  ->  510\n",
      "179  To  187\n",
      "111111110  ->  510\n",
      "192  To  200\n",
      "111111110  ->  510\n",
      "205  To  213\n",
      "111111110  ->  510\n"
     ]
    }
   ],
   "source": [
    "MessagesGridBin = []\n",
    "MessagesGridDec = []\n",
    "#band  = output band\n",
    "#block = output block\n",
    "#ivd   = ionospheric vertical delays\n",
    "#givei = output givei\n",
    "#igp   = output IGP\n",
    "\n",
    "risoluzione = 0.125 #mts\n",
    "BinMsg = HexaToBitMessage(messageInospheric)\n",
    "band = int(BinMsg[13:17], 2)#cmust be 9 - fbin2dec(s(15:18));\n",
    "block = int(BinMsg[17:21], 2) # must be 4 - fbin2dec(s(19:22));\n",
    "start_bit = np.linspace(23,205,15)#  [23 : 13 : 205];\n",
    "end_bit   = np.linspace(31,213,15)#  [31 : 13 : 213];\n",
    "\n",
    "for j in range(0,15):\n",
    "    print int(start_bit[j]),\" To \",int(end_bit[j])\n",
    "    BinSep =  BinMsg[int(start_bit[j]-2):int(end_bit[j]-1)]\n",
    "    DecSep = int(BinSep,2)\n",
    "    print BinSep,\" -> \",DecSep\n",
    "    MessagesGridBin.append(BinSep)\n",
    "    MessagesGridDec.append(DecSep)\n",
    "ivd = np.array(MessagesGridDec) * risoluzione"
   ]
  },
  {
   "cell_type": "code",
   "execution_count": 43,
   "metadata": {
    "collapsed": false
   },
   "outputs": [
    {
     "name": "stdout",
     "output_type": "stream",
     "text": [
      "32  To  35\n",
      "1111  ->  15\n",
      "45  To  48\n",
      "1111  ->  15\n",
      "58  To  61\n",
      "1000  ->  8\n",
      "71  To  74\n",
      "0111  ->  7\n",
      "84  To  87\n",
      "0111  ->  7\n",
      "97  To  100\n",
      "0111  ->  7\n",
      "110  To  113\n",
      "0111  ->  7\n",
      "123  To  126\n",
      "0111  ->  7\n",
      "136  To  139\n",
      "0111  ->  7\n",
      "149  To  152\n",
      "1111  ->  15\n",
      "162  To  165\n",
      "1111  ->  15\n",
      "175  To  178\n",
      "1111  ->  15\n",
      "188  To  191\n",
      "1111  ->  15\n",
      "201  To  204\n",
      "1111  ->  15\n",
      "214  To  217\n",
      "1111  ->  15\n"
     ]
    }
   ],
   "source": [
    "givei = []\n",
    "start_bit = np.linspace(32,214,15)#  [23 : 13 : 205]; [32 : 13 : 214];\n",
    "end_bit   = np.linspace(35,217,15)#  [31 : 13 : 213]; [35 : 13 : 217];\n",
    "\n",
    "for j in range(0,15):\n",
    "    print int(start_bit[j]),\" To \",int(end_bit[j])\n",
    "    BinSep =  BinMsg[int(start_bit[j]-2):int(end_bit[j]-1)]\n",
    "    DecSep = int(BinSep,2)\n",
    "    print BinSep,\" -> \",DecSep\n",
    "    givei.append(DecSep)\n"
   ]
  },
  {
   "cell_type": "code",
   "execution_count": null,
   "metadata": {
    "collapsed": true
   },
   "outputs": [],
   "source": []
  },
  {
   "cell_type": "markdown",
   "metadata": {
    "collapsed": true
   },
   "source": [
    "![img](img/MT26.png)"
   ]
  },
  {
   "cell_type": "markdown",
   "metadata": {
    "collapsed": true
   },
   "source": [
    "![img](img/IPP.png)"
   ]
  },
  {
   "cell_type": "code",
   "execution_count": null,
   "metadata": {
    "collapsed": true
   },
   "outputs": [],
   "source": []
  },
  {
   "cell_type": "code",
   "execution_count": null,
   "metadata": {
    "collapsed": true
   },
   "outputs": [],
   "source": []
  }
 ],
 "metadata": {
  "kernelspec": {
   "display_name": "Python 2",
   "language": "python",
   "name": "python2"
  },
  "language_info": {
   "codemirror_mode": {
    "name": "ipython",
    "version": 2
   },
   "file_extension": ".py",
   "mimetype": "text/x-python",
   "name": "python",
   "nbconvert_exporter": "python",
   "pygments_lexer": "ipython2",
   "version": "2.7.12"
  }
 },
 "nbformat": 4,
 "nbformat_minor": 0
}
